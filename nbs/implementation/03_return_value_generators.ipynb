{
 "cells": [
  {
   "cell_type": "code",
   "execution_count": null,
   "id": "d5637a13-a610-47f9-a729-f4b6288006a1",
   "metadata": {},
   "outputs": [],
   "source": [
    "#| default_exp return_value_generators"
   ]
  },
  {
   "cell_type": "code",
   "execution_count": null,
   "id": "3598f54b-741e-496c-a0a2-6f0a6538dd8d",
   "metadata": {},
   "outputs": [],
   "source": [
    "%load_ext autoreload\n",
    "%autoreload 2"
   ]
  },
  {
   "cell_type": "code",
   "execution_count": null,
   "id": "26205c1c-9541-4eb5-92b1-28a0467a923a",
   "metadata": {},
   "outputs": [],
   "source": [
    "#| export\n",
    "from pymoq.argument_validators import ArgumentValidator, ArgumentFunctionValidator\n",
    "from typing import Any, Protocol, runtime_checkable"
   ]
  },
  {
   "cell_type": "code",
   "execution_count": null,
   "id": "e6530c06-dba1-4b92-a878-56e46c9ea689",
   "metadata": {},
   "outputs": [],
   "source": [
    "#| export\n",
    "from fastcore.test import test_fail"
   ]
  },
  {
   "cell_type": "markdown",
   "id": "686a616c-0864-4bd4-9dea-7254c135c6f2",
   "metadata": {},
   "source": [
    "# Return value generators\n",
    "> Create the appropriate return values"
   ]
  },
  {
   "cell_type": "markdown",
   "id": "3eab6677-07df-46da-b9dd-4235c98fc81e",
   "metadata": {},
   "source": [
    "Once a matching signature was found, a return value generator will be used to construct the appropriate return value. In the simplest case, this might just be returning a constant value. However, the return value could be an arbitrary function evaluation and should have access to the exact arguments that were passed."
   ]
  },
  {
   "cell_type": "code",
   "execution_count": null,
   "id": "2f17c734-f83a-4cef-ae1f-6ed1cfa78f97",
   "metadata": {},
   "outputs": [],
   "source": [
    "#| export\n",
    "@runtime_checkable\n",
    "class ReturnValueGenerator(Protocol):\n",
    "    \"Construct a return value, potentially depended on the exact arguments used to call the function in the first place.\"\n",
    "    \n",
    "    def __call__(self, *args, **kwargs) -> Any:\n",
    "        \"\"\"Gets the exact values used in the original function call. Returns a value based on that\"\"\""
   ]
  },
  {
   "cell_type": "markdown",
   "id": "163ba8e2-db5b-4a5d-a9e9-1d1e725845ca",
   "metadata": {},
   "source": [
    "The most flexible way to implement a `ReturnValueGenerator` is to use a lambda:"
   ]
  },
  {
   "cell_type": "code",
   "execution_count": null,
   "id": "78070bb9-a739-442c-80a7-9f8cc56d156c",
   "metadata": {},
   "outputs": [],
   "source": [
    "value_generator = lambda : 5\n",
    "\n",
    "assert isinstance(value_generator, ReturnValueGenerator)"
   ]
  },
  {
   "cell_type": "markdown",
   "id": "5bc2b4e8-81c5-4424-8434-2fc9b6ed366b",
   "metadata": {},
   "source": [
    "A `ReturnValueGenerator` that accesses the original arguments:"
   ]
  },
  {
   "cell_type": "code",
   "execution_count": null,
   "id": "a30539fe-2714-463c-baa4-2319882573da",
   "metadata": {},
   "outputs": [],
   "source": [
    "arg_value_generator = lambda a,_: a+1\n",
    "\n",
    "assert isinstance(value_generator, ReturnValueGenerator)"
   ]
  },
  {
   "cell_type": "markdown",
   "id": "2c81aed1-7bf2-4050-8fa5-fcbecba208bb",
   "metadata": {},
   "source": [
    "# Build library"
   ]
  },
  {
   "cell_type": "code",
   "execution_count": null,
   "id": "02d18f9e-af27-4ee6-8c14-5ea1b85b0414",
   "metadata": {},
   "outputs": [],
   "source": [
    "#| hide\n",
    "import nbdev; nbdev.nbdev_export()"
   ]
  },
  {
   "cell_type": "code",
   "execution_count": null,
   "id": "898e878e-25ee-4922-8639-52577ce9ba6b",
   "metadata": {},
   "outputs": [],
   "source": []
  }
 ],
 "metadata": {
  "kernelspec": {
   "display_name": "Python 3 (ipykernel)",
   "language": "python",
   "name": "python3"
  }
 },
 "nbformat": 4,
 "nbformat_minor": 5
}
