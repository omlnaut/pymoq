{
 "cells": [
  {
   "cell_type": "code",
   "execution_count": null,
   "metadata": {},
   "outputs": [],
   "source": [
    "#| default_exp argument_validators"
   ]
  },
  {
   "cell_type": "code",
   "execution_count": null,
   "metadata": {},
   "outputs": [],
   "source": [
    "#| export\n",
    "from typing import Protocol, Any, runtime_checkable\n",
    "from pymoq.core import AnyCallable"
   ]
  },
  {
   "cell_type": "code",
   "execution_count": null,
   "metadata": {},
   "outputs": [],
   "source": [
    "#| hide\n",
    "from nbdev.showdoc import *\n",
    "from fastcore.test import test_fail"
   ]
  },
  {
   "cell_type": "markdown",
   "metadata": {},
   "source": [
    "# Validators\n",
    "\n",
    "> Collection of methods to validate specific call arguments."
   ]
  },
  {
   "cell_type": "markdown",
   "metadata": {},
   "source": [
    "Goal: Evaluate whether a call like `f(1,\"s\")` matches any signature-pattern. A signature pattern might be defined like `f(1, str)`. This should match any call that passes the exact value one for the first argument and any object of type str in the second."
   ]
  },
  {
   "cell_type": "markdown",
   "metadata": {},
   "source": [
    "## Argument validators"
   ]
  },
  {
   "cell_type": "markdown",
   "metadata": {},
   "source": [
    "We break the task down to validating a single argument. The signature of such an ArgumentValidator should look like :"
   ]
  },
  {
   "cell_type": "code",
   "execution_count": null,
   "metadata": {},
   "outputs": [],
   "source": [
    "#| export\n",
    "@runtime_checkable\n",
    "class ArgumentValidator(Protocol):\n",
    "    \"Interface for all argument validators.\"\n",
    "    \n",
    "    @property\n",
    "    def name() -> str:\n",
    "        \"Name of the argument in the signature\"\n",
    "        \n",
    "    @property\n",
    "    def position() -> int:\n",
    "        \"Position of the argument in the signature\"\n",
    "        \n",
    "    def is_valid(self, argument: Any) -> bool:\n",
    "        ..."
   ]
  },
  {
   "cell_type": "markdown",
   "metadata": {},
   "source": [
    "The most flexibility can be achieved by constructing an ArgumentValidator that evaluates an arbitrary function:"
   ]
  },
  {
   "cell_type": "code",
   "execution_count": null,
   "metadata": {},
   "outputs": [],
   "source": [
    "#| export\n",
    "class ArgumentFunctionValidator:\n",
    "    \"Validate an argument by evaluating an arbitrary function\"\n",
    "    def __init__(self, func: AnyCallable[bool], name: str, position: int):\n",
    "        self._func = func\n",
    "        self._name = name\n",
    "        self._position = position\n",
    "        \n",
    "    @property\n",
    "    def name(self) -> str:\n",
    "        return self._name\n",
    "    \n",
    "    @property\n",
    "    def position(self) -> int:\n",
    "        return self._position\n",
    "        \n",
    "    def is_valid(self, argument: Any) -> bool:\n",
    "        return self._func(argument)\n",
    "    \n",
    "assert isinstance(ArgumentFunctionValidator, ArgumentValidator), \"ArgumentFunctionValidator does not implement the ArgumentValidator-Protocol\""
   ]
  },
  {
   "cell_type": "markdown",
   "metadata": {},
   "source": [
    "This could now be used like:"
   ]
  },
  {
   "cell_type": "code",
   "execution_count": null,
   "metadata": {},
   "outputs": [],
   "source": [
    "any_int = ArgumentFunctionValidator(lambda v: isinstance(v, int), \"firstArgument\", 0)\n",
    "second_any_int = ArgumentFunctionValidator(lambda v: isinstance(v, int), \"secondArgument\", 1)"
   ]
  },
  {
   "cell_type": "code",
   "execution_count": null,
   "metadata": {},
   "outputs": [],
   "source": [
    "assert any_int.is_valid(1)\n",
    "assert not any_int.is_valid(1.1)\n",
    "assert not any_int.is_valid(\"string\")"
   ]
  },
  {
   "cell_type": "markdown",
   "metadata": {},
   "source": [
    "In later stages there should be convenience methods around creating such argument validators. E.g. `from_type(some_type)` for making the above easier."
   ]
  },
  {
   "cell_type": "markdown",
   "metadata": {},
   "source": [
    "## Signature validators"
   ]
  },
  {
   "cell_type": "markdown",
   "metadata": {},
   "source": [
    "A signature validator is simply a collection of argument validators. Its `is_valid` methods checks for a given list of arguments if all argument validators return valid."
   ]
  },
  {
   "cell_type": "code",
   "execution_count": null,
   "metadata": {},
   "outputs": [],
   "source": [
    "#| export\n",
    "class SignatureValidator:\n",
    "    \"This class holds a list of argument validators and can evaluate a list of arguments against those validators\"\n",
    "    def __init__(self, argument_validators: list[ArgumentValidator]):\n",
    "        self.argument_validators = argument_validators\n",
    "        self._named_validators = {validator.name: validator\n",
    "                                  for validator in self.argument_validators}\n",
    "        \n",
    "        self._positional_validators = {validator.position: validator\n",
    "                                      for validator in self.argument_validators}\n",
    "        \n",
    "        names = [validator.name for validator in self.argument_validators]\n",
    "        if len(names) != len(set(names)):\n",
    "            raise ValueError(f\"List of argument validators contains duplicate names: {names}\")\n",
    "            \n",
    "        positions = [validator.position for validator in self.argument_validators]\n",
    "        if len(positions) != len(set(positions)):\n",
    "            raise ValueError(f\"List of argument validators contains duplicate positions: {positions}\")\n",
    "        \n",
    "    def is_valid(self, *args: list[Any], **kwargs: dict[str, Any]) -> bool:\n",
    "        if len(args) > len(self.argument_validators): return False\n",
    "    \n",
    "        # positional arguments\n",
    "        for position, value in enumerate(args):\n",
    "            if not position in self._positional_validators.keys(): return False\n",
    "            \n",
    "            if not self._positional_validators[position].is_valid(value): return False\n",
    "        \n",
    "        # named arguments\n",
    "        for name,value in kwargs.items():\n",
    "            if name not in self._named_validators: return False\n",
    "        \n",
    "            if not self._named_validators[name].is_valid(value): return False\n",
    "        \n",
    "        return True"
   ]
  },
  {
   "cell_type": "code",
   "execution_count": null,
   "metadata": {},
   "outputs": [],
   "source": [
    "s = SignatureValidator([any_int, second_any_int])"
   ]
  },
  {
   "cell_type": "markdown",
   "metadata": {},
   "source": [
    "Calling a signature validator with only positional arguments works as expected:"
   ]
  },
  {
   "cell_type": "code",
   "execution_count": null,
   "metadata": {},
   "outputs": [],
   "source": [
    "assert s.is_valid(1,1)\n",
    "assert not s.is_valid(1,\"1\")\n",
    "assert not s.is_valid(\"1\", 1)"
   ]
  },
  {
   "cell_type": "markdown",
   "metadata": {},
   "source": [
    "Named arguments:"
   ]
  },
  {
   "cell_type": "code",
   "execution_count": null,
   "metadata": {},
   "outputs": [],
   "source": [
    "assert s.is_valid(1, secondArgument=1)\n",
    "assert not s.is_valid(1, named=\"1\")"
   ]
  },
  {
   "cell_type": "markdown",
   "metadata": {},
   "source": [
    "#### Edge cases"
   ]
  },
  {
   "cell_type": "markdown",
   "metadata": {},
   "source": [
    "Argument validators contain more than one element with the same name"
   ]
  },
  {
   "cell_type": "code",
   "execution_count": null,
   "metadata": {},
   "outputs": [],
   "source": [
    "test_fail(lambda : SignatureValidator([any_int, any_int]), \"duplicate names\")"
   ]
  },
  {
   "cell_type": "markdown",
   "metadata": {},
   "source": [
    "Argument validators contain more than one element with the same position"
   ]
  },
  {
   "cell_type": "code",
   "execution_count": null,
   "metadata": {},
   "outputs": [],
   "source": [
    "second_any_int._position = any_int._position\n",
    "test_fail(lambda : SignatureValidator([any_int, second_any_int]), \"duplicate positions\")\n",
    "second_any_int._position = any_int._position + 1"
   ]
  },
  {
   "cell_type": "markdown",
   "metadata": {},
   "source": [
    "More arguments than validators:"
   ]
  },
  {
   "cell_type": "code",
   "execution_count": null,
   "metadata": {},
   "outputs": [],
   "source": [
    "assert not s.is_valid(1,1,1)"
   ]
  },
  {
   "cell_type": "markdown",
   "metadata": {},
   "source": [
    "# Build library"
   ]
  },
  {
   "cell_type": "code",
   "execution_count": null,
   "metadata": {},
   "outputs": [],
   "source": [
    "#| hide\n",
    "import nbdev; nbdev.nbdev_export()"
   ]
  },
  {
   "cell_type": "code",
   "execution_count": null,
   "metadata": {},
   "outputs": [],
   "source": []
  }
 ],
 "metadata": {
  "kernelspec": {
   "display_name": "Python 3 (ipykernel)",
   "language": "python",
   "name": "python3"
  }
 },
 "nbformat": 4,
 "nbformat_minor": 4
}
