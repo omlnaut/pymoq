{
 "cells": [
  {
   "cell_type": "code",
   "execution_count": null,
   "metadata": {},
   "outputs": [],
   "source": [
    "#| hide\n",
    "from pymoq.core import *"
   ]
  },
  {
   "cell_type": "markdown",
   "metadata": {},
   "source": [
    "# pymoq\n",
    "\n",
    "> Extending unittest-mock with moq-like validators"
   ]
  },
  {
   "cell_type": "markdown",
   "metadata": {},
   "source": [
    "Following the end-to-end [tutorial](https://nbdev.fast.ai/Tutorials/tutorial.html) for nbdev."
   ]
  },
  {
   "cell_type": "markdown",
   "metadata": {},
   "source": [
    "## Install"
   ]
  },
  {
   "cell_type": "markdown",
   "metadata": {},
   "source": [
    "```sh\n",
    "pip install pymoq\n",
    "```"
   ]
  },
  {
   "cell_type": "markdown",
   "metadata": {},
   "source": [
    "## How to use"
   ]
  },
  {
   "cell_type": "markdown",
   "metadata": {},
   "source": [
    "Suppose we have the following setup in a python backend."
   ]
  },
  {
   "cell_type": "code",
   "execution_count": null,
   "metadata": {},
   "outputs": [],
   "source": [
    "from typing import Protocol\n",
    "\n",
    "class IWeb(Protocol):\n",
    "    \"Interface for accessing internet resources\"\n",
    "    \n",
    "    def get(self, url:str) -> str:\n",
    "        \"Fetches the ressource at `url` and returns it in string representation\""
   ]
  },
  {
   "cell_type": "code",
   "execution_count": null,
   "metadata": {},
   "outputs": [],
   "source": [
    "class RessourceFetcher:\n",
    "    base_url: str = \"https://some_base.com/\"\n",
    "    \n",
    "    def __init__(self, web: IWeb):\n",
    "        self._web = web\n",
    "    \n",
    "    def check_ressource(self, ressource_name: str) -> bool:\n",
    "        url = self.base_url + ressource_name\n",
    "        ressource = self._web.get(url)\n",
    "        \n",
    "        return ressource is not None"
   ]
  },
  {
   "cell_type": "markdown",
   "metadata": {},
   "source": [
    "We want to test the `fetch_ressource` method of `RessourceFetcher`. More specifically, we want to test that if the ressource is correctly returned from the source, this method should return `True`, otherwise `False`."
   ]
  },
  {
   "cell_type": "code",
   "execution_count": null,
   "metadata": {},
   "outputs": [],
   "source": [
    "import pymoq.mocking.objects\n",
    "from pymoq.argument_validators import ArgumentFunctionValidator, AnyArg"
   ]
  },
  {
   "cell_type": "code",
   "execution_count": null,
   "metadata": {},
   "outputs": [],
   "source": [
    "mock = pymoq.mocking.objects.Mock(IWeb)\n",
    "mock.get.setup('https://some_base.com/ressource').returns(lambda self,url: True)\n",
    "\n",
    "fetcher = RessourceFetcher(mock)\n",
    "\n",
    "assert fetcher.check_ressource('ressource')\n",
    "assert not fetcher.check_ressource('invalid_ressource')"
   ]
  },
  {
   "cell_type": "markdown",
   "metadata": {},
   "source": [
    "## Notes"
   ]
  },
  {
   "cell_type": "markdown",
   "metadata": {},
   "source": [
    "- started return_value_generators\n",
    "- added explicit positions to argument validator\n",
    "- started signature validator\n",
    "- moved notebooks back to nbs folder\n",
    "- troubles with pipelines...\n",
    "    - github container doesn't use min_python_version from settings.ini\n",
    "    - manually set version in test.yaml fixes the problem, but really this should be auto-populated\n",
    "- added vim extensions to jupyterlab\n",
    "- removed egg-info dir from index. It caused the pipeline to fail becauce of unclean git status\n",
    "- use `nbdev_prepare` to\n",
    "    - build the library\n",
    "    - run tests\n",
    "    - clean notebooks from metadata\n",
    "    - update readme from index notebook\n",
    "- preview documentation\n",
    "- editable install library\n",
    "- install git hooks\n",
    "- continue with \"Check out your workflows\"\n",
    "- initialized nbdev repo\n",
    "- initialized ssh access for github"
   ]
  },
  {
   "cell_type": "code",
   "execution_count": null,
   "metadata": {},
   "outputs": [],
   "source": []
  }
 ],
 "metadata": {
  "kernelspec": {
   "display_name": "Python 3 (ipykernel)",
   "language": "python",
   "name": "python3"
  }
 },
 "nbformat": 4,
 "nbformat_minor": 4
}
