{
 "cells": [
  {
   "cell_type": "code",
   "execution_count": null,
   "id": "bef9c6a0-0a1f-4611-aa92-a4e189a88ff8",
   "metadata": {},
   "outputs": [],
   "source": [
    "#| default_exp mocking.functions"
   ]
  },
  {
   "cell_type": "code",
   "execution_count": null,
   "id": "3abeee2f-bb1c-4de1-b433-a6ff19e35b98",
   "metadata": {},
   "outputs": [],
   "source": [
    "#| export\n",
    "import inspect\n",
    "from pymoq.core import AnyCallable\n",
    "from pymoq.signature_validators import SignatureValidator, signature_validator_from_arguments\n",
    "from pymoq.return_value_generators import ReturnValueGenerator\n",
    "from fastcore.basics import patch_to"
   ]
  },
  {
   "cell_type": "code",
   "execution_count": null,
   "id": "b39cdce9-78a8-48b3-b8f5-2a590490763b",
   "metadata": {},
   "outputs": [],
   "source": [
    "#| hide\n",
    "from fastcore.test import test_fail\n",
    "from nbdev.showdoc import show_doc"
   ]
  },
  {
   "cell_type": "markdown",
   "id": "6494f4e2-7b69-45c9-b329-5c9a63a493de",
   "metadata": {},
   "source": [
    "# Mocking functions\n",
    "> From function object to function mock"
   ]
  },
  {
   "cell_type": "markdown",
   "id": "39f3f754-bfe2-466f-81b3-6e94c6dfd315",
   "metadata": {},
   "source": [
    "## Checking arguments against original signature"
   ]
  },
  {
   "cell_type": "markdown",
   "id": "666c8b77-723c-413c-a8e6-f0d0001f1ec5",
   "metadata": {},
   "source": [
    "For a given argument list, we want to know whether the original function can be called with that set of parameters. This can be done in two steps:\n",
    "1. Extract the signature\n",
    "2. Try to bind the argument list against the signature. This throws an exception if the arguments can not be matched against the signature"
   ]
  },
  {
   "cell_type": "code",
   "execution_count": null,
   "id": "e1fb8d18-2b4c-46f6-98cd-de41cf3b867f",
   "metadata": {},
   "outputs": [],
   "source": [
    "def f(a: int, b: str, c:str|None =None) -> None:\n",
    "    pass"
   ]
  },
  {
   "cell_type": "markdown",
   "id": "ce1acb3c-12a2-4297-954a-aa8cb76b52d8",
   "metadata": {},
   "source": [
    "Successful bind:"
   ]
  },
  {
   "cell_type": "code",
   "execution_count": null,
   "id": "ee03d408-ef0d-4042-bea0-5706dafb742e",
   "metadata": {},
   "outputs": [
    {
     "data": {
      "text/plain": [
       "<BoundArguments (a=1, b='1', c='2')>"
      ]
     },
     "execution_count": null,
     "metadata": {},
     "output_type": "execute_result"
    }
   ],
   "source": [
    "inspect.signature(f).bind(1, \"1\", \"2\")"
   ]
  },
  {
   "cell_type": "markdown",
   "id": "fde587be-f554-4c6a-9a99-c132ca9c8f96",
   "metadata": {},
   "source": [
    "Unsuccessful bind:"
   ]
  },
  {
   "cell_type": "code",
   "execution_count": null,
   "id": "ace6fd28-1e86-46df-b7bb-833a25e99ed4",
   "metadata": {},
   "outputs": [
    {
     "name": "stdout",
     "output_type": "stream",
     "text": [
      "missing a required argument: 'b'\n"
     ]
    }
   ],
   "source": [
    "try:\n",
    "    inspect.signature(f).bind(1)\n",
    "except Exception as e:\n",
    "    print(e)"
   ]
  },
  {
   "cell_type": "code",
   "execution_count": null,
   "id": "9967eb12-5d92-475c-9c02-04c1471ff9e7",
   "metadata": {},
   "outputs": [],
   "source": [
    "#| export\n",
    "class FunctionMock:\n",
    "    \"Mocks a function object based on its signature\"\n",
    "    def __init__(self, func: AnyCallable):\n",
    "        self._func = func\n",
    "        self._signature = inspect.signature(self._func)\n",
    "        self._setups = []\n",
    "        \n",
    "    def arguments_valid(self, *args, **kwargs) -> bool:\n",
    "        \"Given an arbitrary argument list (both positional and keyword arguments), returns True if the mocked function could be called with those arguments\"\n",
    "        try:\n",
    "            self._signature.bind(*args, **kwargs)\n",
    "            return True\n",
    "        except:\n",
    "            return False"
   ]
  },
  {
   "cell_type": "code",
   "execution_count": null,
   "id": "f428de3d-1e21-42fe-a055-150f13801455",
   "metadata": {},
   "outputs": [],
   "source": [
    "mock = FunctionMock(f)"
   ]
  },
  {
   "cell_type": "markdown",
   "id": "55d1d805-bb42-4804-96da-a22d2cd43ad6",
   "metadata": {},
   "source": [
    "Successful binds:"
   ]
  },
  {
   "cell_type": "code",
   "execution_count": null,
   "id": "0b8a10f0-021c-4cf4-801c-124d8cfddb46",
   "metadata": {},
   "outputs": [],
   "source": [
    "assert mock.arguments_valid(1, \"1\", \"2\")\n",
    "assert mock.arguments_valid(1, \"1\")\n",
    "assert mock.arguments_valid(1, \"1\", c=\"2\")\n",
    "assert mock.arguments_valid(a=1, b=\"1\", c=\"2\")"
   ]
  },
  {
   "cell_type": "markdown",
   "id": "42cdb2e0-803e-4dfa-b7a9-0937df8faf9e",
   "metadata": {},
   "source": [
    "Note that the types are not checked with this:"
   ]
  },
  {
   "cell_type": "code",
   "execution_count": null,
   "id": "b715ce8f-bbc5-45c9-a55a-1b28ff798ed8",
   "metadata": {},
   "outputs": [],
   "source": [
    "assert mock.arguments_valid(1, 1)"
   ]
  },
  {
   "cell_type": "markdown",
   "id": "c6c9b539-2e41-460c-89ed-dc59a96306c3",
   "metadata": {},
   "source": [
    "Unsuccessful binds might be:"
   ]
  },
  {
   "cell_type": "code",
   "execution_count": null,
   "id": "b48a8253-1ac8-41fd-8895-a1b566b7455a",
   "metadata": {},
   "outputs": [],
   "source": [
    "assert not mock.arguments_valid(1) # too few arguments\n",
    "assert not mock.arguments_valid(1,2,3,4) # too many arguments\n",
    "assert not mock.arguments_valid(1,2,d=3) # unknown argument name"
   ]
  },
  {
   "cell_type": "markdown",
   "id": "f727316c-4ade-4bff-8e74-9273ab717bf0",
   "metadata": {},
   "source": [
    "## Setup"
   ]
  },
  {
   "cell_type": "markdown",
   "id": "da03cb97-7b00-44f2-a6dd-c444f8a930d8",
   "metadata": {},
   "source": [
    "We want to be able to create call-setups on the function mock. A setup consists of a signature validation and a return value generator. When the mock is called with a list of arguments, we check this list against the signature validator. If the call matches, we call the return value generator to generate the return value."
   ]
  },
  {
   "cell_type": "code",
   "execution_count": null,
   "id": "dd39e199-4fee-4d0c-ae5f-567900f1ba48",
   "metadata": {},
   "outputs": [],
   "source": [
    "#| export\n",
    "class Setup:\n",
    "    \"This class bundles a signature validator with a call-result-action\"\n",
    "    def __init__(self, signature_validator: SignatureValidator):\n",
    "        self._signature_validator = signature_validator\n",
    "        \n",
    "    def is_valid(self, *args, **kwargs) -> bool:\n",
    "        \"Uses the underlying `SignatureValidator` to determine if the argument list is valid\"\n",
    "        return self._signature_validator.is_valid(*args, **kwargs)\n",
    "        \n",
    "    def returns(self, return_value_generator: ReturnValueGenerator) -> None:\n",
    "        \"Set the `ReturnValueGenerator` to be called when this setup is successfully called\"\n",
    "        self._return_value_generator = return_value_generator\n",
    "        \n",
    "    def get_return_value(self, *args, **kwargs):\n",
    "        \"Calls the underlying `ReturnValueGenerator` the get the return value for the exact argument list\"\n",
    "        return self._return_value_generator(*args, **kwargs)"
   ]
  },
  {
   "cell_type": "code",
   "execution_count": null,
   "id": "a7fa5299-3a33-4986-9416-7c3b7c38f481",
   "metadata": {},
   "outputs": [
    {
     "data": {
      "text/markdown": [
       "---\n",
       "\n",
       "### Setup.returns\n",
       "\n",
       ">      Setup.returns (return_value_generator:pymoq.return_value_generators.Retur\n",
       ">                     nValueGenerator)\n",
       "\n",
       "Set the `ReturnValueGenerator` to be called when this setup is successfully called"
      ],
      "text/plain": [
       "---\n",
       "\n",
       "### Setup.returns\n",
       "\n",
       ">      Setup.returns (return_value_generator:pymoq.return_value_generators.Retur\n",
       ">                     nValueGenerator)\n",
       "\n",
       "Set the `ReturnValueGenerator` to be called when this setup is successfully called"
      ]
     },
     "execution_count": null,
     "metadata": {},
     "output_type": "execute_result"
    }
   ],
   "source": [
    "show_doc(Setup.returns)"
   ]
  },
  {
   "cell_type": "code",
   "execution_count": null,
   "id": "1eac1cf7-36f1-42f9-8862-5e383ec8404c",
   "metadata": {},
   "outputs": [],
   "source": [
    "@patch_to(FunctionMock)\n",
    "def setup(self, *args, **kwargs):\n",
    "    # todo: actually implement this\n",
    "    sig = signature_validator_from_arguments(args, kwargs)\n",
    "    self._setups.append(Setup(sig))\n",
    "    \n",
    "    return self._setups[-1]"
   ]
  },
  {
   "cell_type": "code",
   "execution_count": null,
   "id": "d8b8ac06-4a9d-4aa4-8d0b-e967c69c98e0",
   "metadata": {},
   "outputs": [],
   "source": [
    "mock = FunctionMock(f)\n",
    "\n",
    "mock.setup().returns(lambda: 5)\n",
    "assert mock._setups[0].get_return_value() == 5"
   ]
  },
  {
   "cell_type": "code",
   "execution_count": null,
   "id": "2aeec1dd-a629-49f4-9b6c-b07525feff95",
   "metadata": {},
   "outputs": [],
   "source": [
    "assert mock._setups[0].is_valid()\n",
    "assert not mock._setups[0].is_valid(1)"
   ]
  },
  {
   "cell_type": "markdown",
   "id": "3e6ddd87-54cb-4b1d-b3cc-ae4671416682",
   "metadata": {},
   "source": [
    "# Build library"
   ]
  },
  {
   "cell_type": "code",
   "execution_count": null,
   "id": "06d58d85-5664-422a-8fa9-fece43bfaf44",
   "metadata": {},
   "outputs": [],
   "source": [
    "#| hide\n",
    "import nbdev; nbdev.nbdev_export()"
   ]
  },
  {
   "cell_type": "code",
   "execution_count": null,
   "id": "1aacce4d-ae2c-44dd-ac1d-93235b775557",
   "metadata": {},
   "outputs": [],
   "source": []
  }
 ],
 "metadata": {
  "kernelspec": {
   "display_name": "Python 3 (ipykernel)",
   "language": "python",
   "name": "python3"
  }
 },
 "nbformat": 4,
 "nbformat_minor": 5
}
