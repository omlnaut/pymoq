{
 "cells": [
  {
   "cell_type": "code",
   "execution_count": null,
   "metadata": {},
   "outputs": [],
   "source": [
    "#| hide\n",
    "from pymoq.core import *"
   ]
  },
  {
   "cell_type": "markdown",
   "metadata": {},
   "source": [
    "# pymoq\n",
    "\n",
    "> Extending unittest-mock with moq-like validators"
   ]
  },
  {
   "cell_type": "markdown",
   "metadata": {},
   "source": [
    "Following the end-to-end [tutorial](https://nbdev.fast.ai/Tutorials/tutorial.html) for nbdev."
   ]
  },
  {
   "cell_type": "markdown",
   "metadata": {},
   "source": [
    "## Install"
   ]
  },
  {
   "cell_type": "markdown",
   "metadata": {},
   "source": [
    "```sh\n",
    "pip install pymoq\n",
    "```"
   ]
  },
  {
   "cell_type": "markdown",
   "metadata": {},
   "source": [
    "## Notes"
   ]
  },
  {
   "cell_type": "markdown",
   "metadata": {},
   "source": [
    "- started signature validator\n",
    "- moved notebooks back to nbs folder\n",
    "- troubles with pipelines...\n",
    "    - github container doesn't use min_python_version from settings.ini\n",
    "    - manually set version in test.yaml fixes the problem, but really this should be auto-populated\n",
    "- added vim extensions to jupyterlab\n",
    "- removed egg-info dir from index. It caused the pipeline to fail becauce of unclean git status\n",
    "- use `nbdev_prepare` to\n",
    "    - build the library\n",
    "    - run tests\n",
    "    - clean notebooks from metadata\n",
    "    - update readme from index notebook\n",
    "- preview documentation\n",
    "- editable install library\n",
    "- install git hooks\n",
    "- continue with \"Check out your workflows\"\n",
    "- initialized nbdev repo\n",
    "- initialized ssh access for github"
   ]
  },
  {
   "cell_type": "code",
   "execution_count": null,
   "metadata": {},
   "outputs": [],
   "source": []
  }
 ],
 "metadata": {
  "kernelspec": {
   "display_name": "Python 3 (ipykernel)",
   "language": "python",
   "name": "python3"
  }
 },
 "nbformat": 4,
 "nbformat_minor": 4
}
