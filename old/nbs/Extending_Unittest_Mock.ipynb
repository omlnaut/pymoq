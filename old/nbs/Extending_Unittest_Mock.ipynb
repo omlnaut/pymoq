{
 "cells": [
  {
   "cell_type": "code",
   "execution_count": 1,
   "id": "d2fb96da-3d4f-4197-883b-785ef437edac",
   "metadata": {},
   "outputs": [],
   "source": [
    "%load_ext autoreload\n",
    "%autoreload 2"
   ]
  },
  {
   "cell_type": "code",
   "execution_count": 54,
   "id": "aba3af6f-2947-4827-bd12-4eea97ebe2bb",
   "metadata": {},
   "outputs": [],
   "source": [
    "from unittest.mock import create_autospec\n",
    "from typing import Protocol, Any"
   ]
  },
  {
   "cell_type": "code",
   "execution_count": 136,
   "id": "854e752a-b47f-4d7d-8d92-be9a6a4251c9",
   "metadata": {},
   "outputs": [],
   "source": [
    "class IWeb(Protocol):\n",
    "    def get(self, url: str) -> str:\n",
    "        ...\n",
    "    def request(self, url: str, body: dict[str, Any], verbose=False):\n",
    "        ..."
   ]
  },
  {
   "cell_type": "markdown",
   "id": "9aac5b08-ddaa-422a-bc47-06843b094afe",
   "metadata": {},
   "source": [
    "# Autospec"
   ]
  },
  {
   "cell_type": "markdown",
   "id": "422d326c-fd46-40aa-a9cf-ac64b80914ac",
   "metadata": {},
   "source": [
    "## Creating a mock based on a protocol"
   ]
  },
  {
   "cell_type": "code",
   "execution_count": 56,
   "id": "9c73514d-f44c-4bfe-ac93-1f2e4562e4c2",
   "metadata": {},
   "outputs": [
    {
     "data": {
      "text/plain": [
       "<MagicMock name='mock.get()' id='2054874427504'>"
      ]
     },
     "execution_count": 56,
     "metadata": {},
     "output_type": "execute_result"
    }
   ],
   "source": [
    "m = create_autospec(IWeb)\n",
    "\n",
    "m.get('url')"
   ]
  },
  {
   "cell_type": "markdown",
   "id": "fe381d79-0b81-4b5b-9016-a4496e638ac8",
   "metadata": {},
   "source": [
    "## Calling function with invalid signature"
   ]
  },
  {
   "cell_type": "code",
   "execution_count": 57,
   "id": "ee069deb-7e42-4b73-93c0-036a1a284422",
   "metadata": {},
   "outputs": [
    {
     "name": "stdout",
     "output_type": "stream",
     "text": [
      "missing a required argument: 'url'\n"
     ]
    }
   ],
   "source": [
    "try:\n",
    "    m.get()\n",
    "except Exception as e:\n",
    "    print(e)"
   ]
  },
  {
   "cell_type": "code",
   "execution_count": 58,
   "id": "4784cf74-bb5f-45b3-9e0e-40ef400669f9",
   "metadata": {},
   "outputs": [
    {
     "name": "stdout",
     "output_type": "stream",
     "text": [
      "too many positional arguments\n"
     ]
    }
   ],
   "source": [
    "try:\n",
    "    m.get(1,2)\n",
    "except Exception as e:\n",
    "    print(e)"
   ]
  },
  {
   "cell_type": "markdown",
   "id": "b7f1455b-5f9f-4669-a6a9-cb02be1aef77",
   "metadata": {},
   "source": [
    "## Accessing non-existing attributes"
   ]
  },
  {
   "cell_type": "code",
   "execution_count": 59,
   "id": "99ef1281-bcf4-4014-94bc-63a38de52919",
   "metadata": {},
   "outputs": [
    {
     "name": "stdout",
     "output_type": "stream",
     "text": [
      "Mock object has no attribute 'func'\n"
     ]
    }
   ],
   "source": [
    "try:\n",
    "    m.func\n",
    "except Exception as e:\n",
    "    print(e)"
   ]
  },
  {
   "cell_type": "markdown",
   "id": "07b14f83-e118-4bcb-ad0d-21c17a32d5a7",
   "metadata": {},
   "source": [
    "# Conditional return values"
   ]
  },
  {
   "cell_type": "markdown",
   "id": "64073393-757e-4d1f-b683-de516a5c5b3b",
   "metadata": {},
   "source": [
    "Global return values are done with:"
   ]
  },
  {
   "cell_type": "code",
   "execution_count": 60,
   "id": "01a3fce4-6760-4b2c-b02d-163792afbc54",
   "metadata": {},
   "outputs": [],
   "source": [
    "m.get.return_value = 'response'"
   ]
  },
  {
   "cell_type": "code",
   "execution_count": 61,
   "id": "9483e2ba-2d9f-4b8e-9d9d-bcff4787814e",
   "metadata": {},
   "outputs": [
    {
     "data": {
      "text/plain": [
       "'response'"
      ]
     },
     "execution_count": 61,
     "metadata": {},
     "output_type": "execute_result"
    }
   ],
   "source": [
    "m.get('url')"
   ]
  },
  {
   "cell_type": "markdown",
   "id": "ba6e8f7f-d1f1-4e7f-b138-2912660bf285",
   "metadata": {},
   "source": [
    "But what if we only want a return type for a specific string?"
   ]
  },
  {
   "cell_type": "code",
   "execution_count": 62,
   "id": "6a746631-f7ec-4365-9230-37b00a79c8c9",
   "metadata": {},
   "outputs": [],
   "source": [
    "def handle_return(*args, **kwargs):\n",
    "    url = args[0]\n",
    "    if url=='url':\n",
    "        return 'handled response'\n",
    "    return None\n",
    "\n",
    "m.get.side_effect = handle_return"
   ]
  },
  {
   "cell_type": "code",
   "execution_count": 63,
   "id": "f4b5ba7e-9437-4da5-ae38-c64778b1ffad",
   "metadata": {},
   "outputs": [],
   "source": [
    "m.get(1)"
   ]
  },
  {
   "cell_type": "code",
   "execution_count": 64,
   "id": "1549c938-db19-4d5f-b966-44af65e8db9b",
   "metadata": {},
   "outputs": [
    {
     "data": {
      "text/plain": [
       "'handled response'"
      ]
     },
     "execution_count": 64,
     "metadata": {},
     "output_type": "execute_result"
    }
   ],
   "source": [
    "m.get('url')"
   ]
  },
  {
   "cell_type": "code",
   "execution_count": 88,
   "id": "b3714196-d433-4f4f-9fcb-685f941a56d9",
   "metadata": {},
   "outputs": [],
   "source": [
    "class ArgumentValidator:\n",
    "    def __init__(self, validation_func, arg_name=None):\n",
    "        self.validation_func = validation_func\n",
    "        self.arg_name = arg_name\n",
    "        \n",
    "    @property\n",
    "    def is_required(self):\n",
    "        return self.arg_name is None\n",
    "        \n",
    "    def is_valid(self, arg):\n",
    "        return self.validation_func(arg)"
   ]
  },
  {
   "cell_type": "code",
   "execution_count": 95,
   "id": "a72aba3b-cb28-478f-a670-4c2a600f2897",
   "metadata": {},
   "outputs": [],
   "source": [
    "valid_dict = {'method': 1}\n",
    "invalid_dict = {'method1': 1}"
   ]
  },
  {
   "cell_type": "code",
   "execution_count": 96,
   "id": "3afadb3a-b5bf-4555-9196-412ef8fc8de0",
   "metadata": {},
   "outputs": [
    {
     "data": {
      "text/plain": [
       "(True, False)"
      ]
     },
     "execution_count": 96,
     "metadata": {},
     "output_type": "execute_result"
    }
   ],
   "source": [
    "body_validator = ArgumentValidator(lambda d: 'method' in d.keys())\n",
    "body_validator.is_valid(valid_dict), body_validator.is_valid(invalid_dict)"
   ]
  },
  {
   "cell_type": "code",
   "execution_count": 97,
   "id": "1f5b30dd-bed0-4230-9715-6a1c02256367",
   "metadata": {},
   "outputs": [
    {
     "data": {
      "text/plain": [
       "(False, True)"
      ]
     },
     "execution_count": 97,
     "metadata": {},
     "output_type": "execute_result"
    }
   ],
   "source": [
    "url_validator = ArgumentValidator(lambda s: s=='url')\n",
    "url_validator.is_valid(1), url_validator.is_valid('url')"
   ]
  },
  {
   "cell_type": "code",
   "execution_count": 104,
   "id": "53644b4d-084b-4252-903e-5074a5ba5c7c",
   "metadata": {},
   "outputs": [
    {
     "data": {
      "text/plain": [
       "(True, False)"
      ]
     },
     "execution_count": 104,
     "metadata": {},
     "output_type": "execute_result"
    }
   ],
   "source": [
    "verbose_validator = ArgumentValidator(lambda b: b==True, arg_name='verbose')\n",
    "verbose_validator.is_valid(True), verbose_validator.is_valid(False)"
   ]
  },
  {
   "cell_type": "code",
   "execution_count": 121,
   "id": "8dcf6615-6451-482a-a615-0e95fab3e8f2",
   "metadata": {},
   "outputs": [],
   "source": [
    "class SignatureValidator:\n",
    "    def __init__(self, argument_validators):\n",
    "        self.argument_validators = argument_validators\n",
    "        self.required_validators = list(filter(lambda v: v.is_required, self.argument_validators))\n",
    "        self.optional_validators = {val.arg_name: val for val in filter(lambda v: not v.is_required, self.argument_validators)}\n",
    "        \n",
    "    def is_valid(self, *args, **kwargs):\n",
    "        if len(args)+len(kwargs) > len(self.argument_validators):\n",
    "            return False\n",
    "        \n",
    "        if len(args) != len(self.required_validators):\n",
    "            return False\n",
    "        \n",
    "        if len(kwargs) > len(self.optional_validators):\n",
    "            return False\n",
    "        \n",
    "        positional_valid = all(arg_validator.is_valid(arg) for arg_validator,arg in zip(self.argument_validators, args))\n",
    "        optional_valid = True\n",
    "        \n",
    "        for (arg_name, value) in kwargs.items():\n",
    "            if arg_name not in self.optional_validators.keys():\n",
    "                return False # actually raise error\n",
    "            \n",
    "            validator = self.optional_validators[arg_name]\n",
    "            optional_valid = optional_valid and validator.is_valid(value)\n",
    "        \n",
    "        \n",
    "        return positional_valid and optional_valid"
   ]
  },
  {
   "cell_type": "code",
   "execution_count": 122,
   "id": "31b96e00-5a2f-4b72-b8f2-88a1a0a27ecb",
   "metadata": {},
   "outputs": [
    {
     "data": {
      "text/plain": [
       "(False, True)"
      ]
     },
     "execution_count": 122,
     "metadata": {},
     "output_type": "execute_result"
    }
   ],
   "source": [
    "s = SignatureValidator([url_validator, body_validator, verbose_validator])\n",
    "s.is_valid('url1', invalid_dict), s.is_valid('url', valid_dict)"
   ]
  },
  {
   "cell_type": "markdown",
   "id": "13fb697d-5868-4a23-994f-1cde7f0b3211",
   "metadata": {},
   "source": [
    "Invalid keyword arguments:"
   ]
  },
  {
   "cell_type": "code",
   "execution_count": 123,
   "id": "1510c793-13fd-4574-8e8a-63e741b46c78",
   "metadata": {},
   "outputs": [
    {
     "data": {
      "text/plain": [
       "False"
      ]
     },
     "execution_count": 123,
     "metadata": {},
     "output_type": "execute_result"
    }
   ],
   "source": [
    "s.is_valid('url', valid_dict, verboser=False)"
   ]
  },
  {
   "cell_type": "markdown",
   "id": "4117ccc4-9b09-4d03-8139-3a21b97d379e",
   "metadata": {},
   "source": [
    "Non-matching keyword-arguments:"
   ]
  },
  {
   "cell_type": "code",
   "execution_count": 124,
   "id": "862e2580-9df6-40ea-854f-a38d3a8d3813",
   "metadata": {},
   "outputs": [
    {
     "data": {
      "text/plain": [
       "False"
      ]
     },
     "execution_count": 124,
     "metadata": {},
     "output_type": "execute_result"
    }
   ],
   "source": [
    "s.is_valid('url', valid_dict, verbose=False)"
   ]
  },
  {
   "cell_type": "markdown",
   "id": "b28c8b16-2add-4106-9b3c-501c0274a0d0",
   "metadata": {},
   "source": [
    "Matching signature"
   ]
  },
  {
   "cell_type": "code",
   "execution_count": 125,
   "id": "b4a64790-b7b4-4dbe-9b6a-cd3c82d3cfe6",
   "metadata": {},
   "outputs": [
    {
     "data": {
      "text/plain": [
       "True"
      ]
     },
     "execution_count": 125,
     "metadata": {},
     "output_type": "execute_result"
    }
   ],
   "source": [
    "s.is_valid('url', valid_dict, verbose=True)"
   ]
  },
  {
   "cell_type": "markdown",
   "id": "4416c192-c380-496c-b712-7e91f18835da",
   "metadata": {},
   "source": [
    "## Function introspection"
   ]
  },
  {
   "cell_type": "code",
   "execution_count": 137,
   "id": "2454c423-ef18-4895-891b-d879ac7917b2",
   "metadata": {},
   "outputs": [],
   "source": [
    "IWeb.request.__kwdefaults__"
   ]
  },
  {
   "cell_type": "code",
   "execution_count": 138,
   "id": "418abca0-5dc6-4e32-96bc-a62a2890bba3",
   "metadata": {},
   "outputs": [
    {
     "data": {
      "text/plain": [
       "(False,)"
      ]
     },
     "execution_count": 138,
     "metadata": {},
     "output_type": "execute_result"
    }
   ],
   "source": [
    "IWeb.request.__defaults__"
   ]
  },
  {
   "cell_type": "code",
   "execution_count": 142,
   "id": "98417b6c-4966-40d0-b4c7-3fc1ec8b93df",
   "metadata": {},
   "outputs": [],
   "source": [
    "def f(a=1):\n",
    "    pass\n",
    "\n",
    "def g(*, a=1):\n",
    "    pass"
   ]
  },
  {
   "cell_type": "code",
   "execution_count": 143,
   "id": "41602ac7-06dd-45f8-b819-4edc2ce13fcc",
   "metadata": {},
   "outputs": [
    {
     "data": {
      "text/plain": [
       "(None, {'a': 1})"
      ]
     },
     "execution_count": 143,
     "metadata": {},
     "output_type": "execute_result"
    }
   ],
   "source": [
    "f.__kwdefaults__, g.__kwdefaults__"
   ]
  },
  {
   "cell_type": "code",
   "execution_count": 146,
   "id": "e565f4d4-d652-48ee-a37a-66a0f8457bae",
   "metadata": {},
   "outputs": [
    {
     "data": {
      "text/plain": [
       "<Signature (self, url: str, body: dict[str, typing.Any], verbose=False)>"
      ]
     },
     "execution_count": 146,
     "metadata": {},
     "output_type": "execute_result"
    }
   ],
   "source": [
    "from inspect import signature\n",
    "\n",
    "sig = signature(IWeb.request)\n",
    "sig"
   ]
  },
  {
   "cell_type": "code",
   "execution_count": 147,
   "id": "f09ff621-1bab-40df-a644-3a782b124e1b",
   "metadata": {},
   "outputs": [
    {
     "data": {
      "text/plain": [
       "mappingproxy({'self': <Parameter \"self\">,\n",
       "              'url': <Parameter \"url: str\">,\n",
       "              'body': <Parameter \"body: dict[str, typing.Any]\">,\n",
       "              'verbose': <Parameter \"verbose=False\">})"
      ]
     },
     "execution_count": 147,
     "metadata": {},
     "output_type": "execute_result"
    }
   ],
   "source": [
    "sig.parameters"
   ]
  },
  {
   "cell_type": "code",
   "execution_count": 155,
   "id": "d4ebe310-fe52-4a8e-9895-92819dcaf558",
   "metadata": {},
   "outputs": [
    {
     "data": {
      "text/plain": [
       "(<Parameter \"url: str\">, inspect._empty)"
      ]
     },
     "execution_count": 155,
     "metadata": {},
     "output_type": "execute_result"
    }
   ],
   "source": [
    "p = sig.parameters['url']\n",
    "p, p.default"
   ]
  },
  {
   "cell_type": "code",
   "execution_count": 151,
   "id": "e0731920-e910-4598-8776-baf73f761f9c",
   "metadata": {},
   "outputs": [],
   "source": [
    "p = sig.parameters['verbose']"
   ]
  },
  {
   "cell_type": "code",
   "execution_count": 153,
   "id": "2a71455e-24f1-4fcf-9b51-8d93a176ea93",
   "metadata": {},
   "outputs": [
    {
     "data": {
      "text/plain": [
       "False"
      ]
     },
     "execution_count": 153,
     "metadata": {},
     "output_type": "execute_result"
    }
   ],
   "source": [
    "p.default"
   ]
  },
  {
   "cell_type": "code",
   "execution_count": null,
   "id": "f3ca09c6-2997-4d48-93ae-f4f9e0cb2050",
   "metadata": {},
   "outputs": [],
   "source": []
  }
 ],
 "metadata": {
  "kernelspec": {
   "display_name": "Python 3 (ipykernel)",
   "language": "python",
   "name": "python3"
  },
  "language_info": {
   "codemirror_mode": {
    "name": "ipython",
    "version": 3
   },
   "file_extension": ".py",
   "mimetype": "text/x-python",
   "name": "python",
   "nbconvert_exporter": "python",
   "pygments_lexer": "ipython3",
   "version": "3.10.4"
  }
 },
 "nbformat": 4,
 "nbformat_minor": 5
}
