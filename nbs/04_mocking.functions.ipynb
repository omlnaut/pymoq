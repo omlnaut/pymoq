{
 "cells": [
  {
   "cell_type": "code",
   "execution_count": null,
   "id": "bef9c6a0-0a1f-4611-aa92-a4e189a88ff8",
   "metadata": {},
   "outputs": [],
   "source": [
    "#| default_exp mocking.functions"
   ]
  },
  {
   "cell_type": "code",
   "execution_count": null,
   "id": "374438ac-4c1b-4d2c-b212-735f1b9106ef",
   "metadata": {},
   "outputs": [],
   "source": [
    "%load_ext autoreload\n",
    "%autoreload 2"
   ]
  },
  {
   "cell_type": "code",
   "execution_count": null,
   "id": "3abeee2f-bb1c-4de1-b433-a6ff19e35b98",
   "metadata": {},
   "outputs": [],
   "source": [
    "#| export\n",
    "import inspect\n",
    "from pymoq.core import AnyCallable\n",
    "from pymoq.argument_validators import ArgumentFunctionValidator\n",
    "from pymoq.signature_validators import SignatureValidator, signature_validator_from_arguments\n",
    "from pymoq.return_value_generators import ReturnValueGenerator\n",
    "from fastcore.basics import patch_to"
   ]
  },
  {
   "cell_type": "code",
   "execution_count": null,
   "id": "b39cdce9-78a8-48b3-b8f5-2a590490763b",
   "metadata": {},
   "outputs": [],
   "source": [
    "#| hide\n",
    "from fastcore.test import test_fail\n",
    "from nbdev.showdoc import show_doc"
   ]
  },
  {
   "cell_type": "markdown",
   "id": "6494f4e2-7b69-45c9-b329-5c9a63a493de",
   "metadata": {},
   "source": [
    "# Mocking functions\n",
    "> From function object to function mock"
   ]
  },
  {
   "cell_type": "markdown",
   "id": "39f3f754-bfe2-466f-81b3-6e94c6dfd315",
   "metadata": {},
   "source": [
    "## Checking arguments against original signature"
   ]
  },
  {
   "cell_type": "markdown",
   "id": "666c8b77-723c-413c-a8e6-f0d0001f1ec5",
   "metadata": {},
   "source": [
    "For a given argument list, we want to know whether the original function can be called with that set of parameters. This can be done in two steps:\n",
    "1. Extract the signature\n",
    "2. Try to bind the argument list against the signature. This throws an exception if the arguments can not be matched against the signature"
   ]
  },
  {
   "cell_type": "markdown",
   "id": "46801fb2-7bbf-4a1f-a846-52f104edc7c3",
   "metadata": {},
   "source": [
    "### Binding free methods"
   ]
  },
  {
   "cell_type": "code",
   "execution_count": null,
   "id": "e1fb8d18-2b4c-46f6-98cd-de41cf3b867f",
   "metadata": {},
   "outputs": [],
   "source": [
    "def f(a: int, b: str, c:str|None =None) -> None:\n",
    "    pass"
   ]
  },
  {
   "cell_type": "markdown",
   "id": "ce1acb3c-12a2-4297-954a-aa8cb76b52d8",
   "metadata": {},
   "source": [
    "Successful bind:"
   ]
  },
  {
   "cell_type": "code",
   "execution_count": null,
   "id": "ee03d408-ef0d-4042-bea0-5706dafb742e",
   "metadata": {},
   "outputs": [
    {
     "data": {
      "text/plain": [
       "<BoundArguments (a=1, b='1', c='2')>"
      ]
     },
     "execution_count": null,
     "metadata": {},
     "output_type": "execute_result"
    }
   ],
   "source": [
    "inspect.signature(f).bind(1, \"1\", \"2\")"
   ]
  },
  {
   "cell_type": "markdown",
   "id": "fde587be-f554-4c6a-9a99-c132ca9c8f96",
   "metadata": {},
   "source": [
    "Unsuccessful bind:"
   ]
  },
  {
   "cell_type": "code",
   "execution_count": null,
   "id": "ace6fd28-1e86-46df-b7bb-833a25e99ed4",
   "metadata": {},
   "outputs": [
    {
     "name": "stdout",
     "output_type": "stream",
     "text": [
      "missing a required argument: 'b'\n"
     ]
    }
   ],
   "source": [
    "try:\n",
    "    inspect.signature(f).bind(1)\n",
    "except Exception as e:\n",
    "    print(e)"
   ]
  },
  {
   "cell_type": "markdown",
   "id": "02029fbd-3d1e-424e-b227-782f62a09491",
   "metadata": {},
   "source": [
    "### Binding class methods"
   ]
  },
  {
   "cell_type": "markdown",
   "id": "1db119f7-585f-428d-af1c-3b2a3b7e6011",
   "metadata": {},
   "source": [
    "When binding class methods, the special case of the self parameter has to be considered."
   ]
  },
  {
   "cell_type": "code",
   "execution_count": null,
   "id": "4075f2f0-842f-4f85-860f-24f3320a740e",
   "metadata": {},
   "outputs": [],
   "source": [
    "class A:\n",
    "    def f(self, a:int):\n",
    "        return a+1"
   ]
  },
  {
   "cell_type": "code",
   "execution_count": null,
   "id": "263e9df7-96b0-4271-85d2-6edbca988ed2",
   "metadata": {},
   "outputs": [
    {
     "name": "stdout",
     "output_type": "stream",
     "text": [
      "missing a required argument: 'a'\n"
     ]
    }
   ],
   "source": [
    "signature = inspect.signature(A.f)\n",
    "\n",
    "try:\n",
    "    signature.bind(1)\n",
    "except Exception as e:\n",
    "    print(e)    "
   ]
  },
  {
   "cell_type": "markdown",
   "id": "932d467a-fa84-4093-b276-39e1f1b63ede",
   "metadata": {},
   "source": [
    "We will mark a function as 'class'-function if it has a parameter called 'self'."
   ]
  },
  {
   "cell_type": "code",
   "execution_count": null,
   "id": "7e2681aa-4ae5-449b-a92c-5cfff19fd91a",
   "metadata": {},
   "outputs": [],
   "source": [
    "#| export\n",
    "def is_class_method(func: AnyCallable) -> bool:\n",
    "    \"Returns true if the given function has a parameter called 'self'\"\n",
    "    signature = inspect.signature(func)\n",
    "    return 'self' in signature.parameters"
   ]
  },
  {
   "cell_type": "code",
   "execution_count": null,
   "id": "8e2ba72e-2610-44cd-8db8-7268a50acfe3",
   "metadata": {},
   "outputs": [],
   "source": [
    "assert is_class_method(A.f)\n",
    "assert not is_class_method(f)"
   ]
  },
  {
   "cell_type": "markdown",
   "id": "68d45941-32a8-49cd-817f-04554fba63fd",
   "metadata": {},
   "source": [
    "### Function Mock"
   ]
  },
  {
   "cell_type": "code",
   "execution_count": null,
   "id": "b0912264-5f00-450a-a131-18148180aa51",
   "metadata": {},
   "outputs": [],
   "source": [
    "#| export\n",
    "class FlaggedReturn:\n",
    "    def __init__(self, success: bool, exception: Exception|None = None):\n",
    "        self.success = success\n",
    "        self.exception = exception"
   ]
  },
  {
   "cell_type": "code",
   "execution_count": null,
   "id": "9967eb12-5d92-475c-9c02-04c1471ff9e7",
   "metadata": {},
   "outputs": [],
   "source": [
    "#| export\n",
    "class FunctionMock:\n",
    "    \"Mocks a function object based on its signature\"\n",
    "    def __init__(self, func: AnyCallable):\n",
    "        self._func = func\n",
    "        self._signature = inspect.signature(self._func)\n",
    "        self._setups = []\n",
    "        \n",
    "        self._is_class_method = is_class_method(self._func)\n",
    "        \n",
    "    def arguments_valid(self, *args, **kwargs) -> FlaggedReturn:\n",
    "        \"Given an arbitrary argument list (both positional and keyword arguments), returns True if the mocked function could be called with those arguments\"\n",
    "        if self._is_class_method:\n",
    "            # add dummy 'self' argument\n",
    "            args = (None,) + args\n",
    "        try:\n",
    "            self._signature.bind(*args, **kwargs)\n",
    "            return FlaggedReturn(True)\n",
    "        except Exception as e:\n",
    "            return FlaggedReturn(False, e)"
   ]
  },
  {
   "cell_type": "code",
   "execution_count": null,
   "id": "f428de3d-1e21-42fe-a055-150f13801455",
   "metadata": {},
   "outputs": [],
   "source": [
    "mock = FunctionMock(f)"
   ]
  },
  {
   "cell_type": "markdown",
   "id": "55d1d805-bb42-4804-96da-a22d2cd43ad6",
   "metadata": {},
   "source": [
    "Successful binds:"
   ]
  },
  {
   "cell_type": "code",
   "execution_count": null,
   "id": "0b8a10f0-021c-4cf4-801c-124d8cfddb46",
   "metadata": {},
   "outputs": [],
   "source": [
    "assert mock.arguments_valid(1, \"1\", \"2\").success\n",
    "assert mock.arguments_valid(1, \"1\").success\n",
    "assert mock.arguments_valid(1, \"1\", c=\"2\").success\n",
    "assert mock.arguments_valid(a=1, b=\"1\", c=\"2\").success"
   ]
  },
  {
   "cell_type": "markdown",
   "id": "42cdb2e0-803e-4dfa-b7a9-0937df8faf9e",
   "metadata": {},
   "source": [
    "Note that the types are not checked with this:"
   ]
  },
  {
   "cell_type": "code",
   "execution_count": null,
   "id": "b715ce8f-bbc5-45c9-a55a-1b28ff798ed8",
   "metadata": {},
   "outputs": [],
   "source": [
    "assert mock.arguments_valid(1, 1)"
   ]
  },
  {
   "cell_type": "markdown",
   "id": "c6c9b539-2e41-460c-89ed-dc59a96306c3",
   "metadata": {},
   "source": [
    "Unsuccessful binds might be:"
   ]
  },
  {
   "cell_type": "code",
   "execution_count": null,
   "id": "ee59263e-7fd8-4061-a8a6-58adb6854ab2",
   "metadata": {},
   "outputs": [
    {
     "data": {
      "text/plain": [
       "TypeError(\"missing a required argument: 'b'\")"
      ]
     },
     "execution_count": null,
     "metadata": {},
     "output_type": "execute_result"
    }
   ],
   "source": [
    "result = mock.arguments_valid(1)# too few arguments\n",
    "result.exception"
   ]
  },
  {
   "cell_type": "code",
   "execution_count": null,
   "id": "eb155856-0bad-439c-ab9c-ec1e56eb9a52",
   "metadata": {},
   "outputs": [],
   "source": [
    "#| hide\n",
    "assert not result.success\n",
    "assert \"missing a required argument\" in  str(result.exception)"
   ]
  },
  {
   "cell_type": "code",
   "execution_count": null,
   "id": "a216303f-51f6-40c5-9786-b5d8c5b595e9",
   "metadata": {},
   "outputs": [
    {
     "data": {
      "text/plain": [
       "TypeError('too many positional arguments')"
      ]
     },
     "execution_count": null,
     "metadata": {},
     "output_type": "execute_result"
    }
   ],
   "source": [
    "result = mock.arguments_valid(1,2,3,4) # too many arguments\n",
    "result.exception"
   ]
  },
  {
   "cell_type": "code",
   "execution_count": null,
   "id": "62e61fc7-28d6-4dcb-bef5-0b6435fb44f3",
   "metadata": {},
   "outputs": [],
   "source": [
    "#| hide\n",
    "assert not result.success\n",
    "assert \"too many positional arguments\" in  str(result.exception)"
   ]
  },
  {
   "cell_type": "code",
   "execution_count": null,
   "id": "56534589-e937-4ce0-8d89-c065c285ea64",
   "metadata": {},
   "outputs": [
    {
     "data": {
      "text/plain": [
       "TypeError(\"got an unexpected keyword argument 'd'\")"
      ]
     },
     "execution_count": null,
     "metadata": {},
     "output_type": "execute_result"
    }
   ],
   "source": [
    "result = mock.arguments_valid(1,2,d=3) # unknown argument name\n",
    "result.exception"
   ]
  },
  {
   "cell_type": "code",
   "execution_count": null,
   "id": "8ec0a0cc-5afa-40bf-8cb9-bc313de24059",
   "metadata": {},
   "outputs": [],
   "source": [
    "#| hide\n",
    "assert not result.success\n",
    "assert \"got an unexpected keyword argument\" in  str(result.exception)"
   ]
  },
  {
   "cell_type": "markdown",
   "id": "7e25776d-8ca9-4049-9a2b-2d629a916fd3",
   "metadata": {},
   "source": [
    "Special case class method:"
   ]
  },
  {
   "cell_type": "code",
   "execution_count": null,
   "id": "db2f2706-e49d-4684-94c1-e41042091ffa",
   "metadata": {},
   "outputs": [],
   "source": [
    "mock = FunctionMock(A.f)\n",
    "\n",
    "assert mock.arguments_valid(1).success\n",
    "assert not mock.arguments_valid().success\n",
    "assert not mock.arguments_valid(1,2).success"
   ]
  },
  {
   "cell_type": "markdown",
   "id": "f727316c-4ade-4bff-8e74-9273ab717bf0",
   "metadata": {},
   "source": [
    "## Setup"
   ]
  },
  {
   "cell_type": "markdown",
   "id": "da03cb97-7b00-44f2-a6dd-c444f8a930d8",
   "metadata": {},
   "source": [
    "We want to be able to create call-setups on the function mock. A setup consists of a signature validation and a return value generator. When the mock is called with a list of arguments, we check this list against the signature validator. If the call matches, we call the return value generator to generate the return value."
   ]
  },
  {
   "cell_type": "code",
   "execution_count": null,
   "id": "dd39e199-4fee-4d0c-ae5f-567900f1ba48",
   "metadata": {},
   "outputs": [],
   "source": [
    "#| export\n",
    "class Setup:\n",
    "    \"This class bundles a signature validator with a call-result-action\"\n",
    "    def __init__(self, signature_validator: SignatureValidator):\n",
    "        self._signature_validator = signature_validator\n",
    "        \n",
    "    def is_valid(self, *args, **kwargs) -> bool:\n",
    "        \"Uses the underlying `SignatureValidator` to determine if the argument list is valid\"\n",
    "        return self._signature_validator.is_valid(*args, **kwargs)\n",
    "        \n",
    "    def returns(self, return_value_generator: ReturnValueGenerator) -> None:\n",
    "        \"Set the `ReturnValueGenerator` to be called when this setup is successfully called\"\n",
    "        self._return_value_generator = return_value_generator\n",
    "        \n",
    "    def get_return_value(self, *args, **kwargs):\n",
    "        \"Calls the underlying `ReturnValueGenerator` the get the return value for the exact argument list\"\n",
    "        return self._return_value_generator(*args, **kwargs)"
   ]
  },
  {
   "cell_type": "code",
   "execution_count": null,
   "id": "a7fa5299-3a33-4986-9416-7c3b7c38f481",
   "metadata": {},
   "outputs": [
    {
     "data": {
      "text/markdown": [
       "---\n",
       "\n",
       "### Setup.returns\n",
       "\n",
       ">      Setup.returns (return_value_generator:pymoq.return_value_generators.Retur\n",
       ">                     nValueGenerator)\n",
       "\n",
       "Set the `ReturnValueGenerator` to be called when this setup is successfully called"
      ],
      "text/plain": [
       "---\n",
       "\n",
       "### Setup.returns\n",
       "\n",
       ">      Setup.returns (return_value_generator:pymoq.return_value_generators.Retur\n",
       ">                     nValueGenerator)\n",
       "\n",
       "Set the `ReturnValueGenerator` to be called when this setup is successfully called"
      ]
     },
     "execution_count": null,
     "metadata": {},
     "output_type": "execute_result"
    }
   ],
   "source": [
    "show_doc(Setup.returns)"
   ]
  },
  {
   "cell_type": "code",
   "execution_count": null,
   "id": "1eac1cf7-36f1-42f9-8862-5e383ec8404c",
   "metadata": {},
   "outputs": [],
   "source": [
    "#| export\n",
    "@patch_to(FunctionMock)\n",
    "def setup(self, *args, **kwargs):\n",
    "    # todo: actually implement this\n",
    "    sig = signature_validator_from_arguments(*args, **kwargs)\n",
    "    self._setups.append(Setup(sig))\n",
    "    \n",
    "    return self._setups[-1]"
   ]
  },
  {
   "cell_type": "code",
   "execution_count": null,
   "id": "d8b8ac06-4a9d-4aa4-8d0b-e967c69c98e0",
   "metadata": {},
   "outputs": [],
   "source": [
    "mock = FunctionMock(f)\n",
    "\n",
    "mock.setup(ArgumentFunctionValidator(lambda a: isinstance(a, int), name='a', position=0)).returns(lambda: 5)\n",
    "assert mock._setups[0].get_return_value() == 5"
   ]
  },
  {
   "cell_type": "code",
   "execution_count": null,
   "id": "2aeec1dd-a629-49f4-9b6c-b07525feff95",
   "metadata": {},
   "outputs": [],
   "source": [
    "assert mock._setups[0].is_valid(1)\n",
    "assert not mock._setups[0].is_valid(\"1\")"
   ]
  },
  {
   "cell_type": "markdown",
   "id": "39453507-3259-4e0c-847f-eaf7573311b0",
   "metadata": {},
   "source": [
    "## Call validation"
   ]
  },
  {
   "cell_type": "markdown",
   "id": "43221cde-914f-4950-bc0f-08efa8f4709a",
   "metadata": {},
   "source": [
    "When called, a function mock should perform the following steps:\n",
    "1. check if the argument list binds against the original functions signature\n",
    "2. check if the signature validator matches for the stored Setups in order they were added\n",
    "3. The first setup with a matching signature validator should be used for generating the return value\n",
    "\n",
    "Edge cases:\n",
    "- If no Setup matches, return None"
   ]
  },
  {
   "cell_type": "code",
   "execution_count": null,
   "id": "43cd9aaf-f529-418c-bf4a-c13db7a55a56",
   "metadata": {},
   "outputs": [],
   "source": [
    "#| export\n",
    "@patch_to(FunctionMock)\n",
    "def __call__(self, *args, **kwargs):\n",
    "    validation = self.arguments_valid(*args, **kwargs)\n",
    "    if not validation.success:\n",
    "        raise validation.exception\n",
    "        \n",
    "    for setup in reversed(self._setups):\n",
    "        if setup.is_valid(*args, **kwargs):\n",
    "            return_value = setup.get_return_value(*args, **kwargs)\n",
    "            return return_value"
   ]
  },
  {
   "cell_type": "code",
   "execution_count": null,
   "id": "3b5c037d-4be5-4da1-a432-0e9679068eea",
   "metadata": {},
   "outputs": [],
   "source": [
    "def f(a: int, b: str, c:str|None =None) -> None:\n",
    "    pass\n",
    "\n",
    "mock = FunctionMock(f)"
   ]
  },
  {
   "cell_type": "markdown",
   "id": "43ee55a2-e5ab-4f01-bb0d-01b3d9b5f529",
   "metadata": {},
   "source": [
    "Without any setup a call either fails or returns None:"
   ]
  },
  {
   "cell_type": "code",
   "execution_count": null,
   "id": "f156a7ad-f1ee-4ee8-aca3-b6d5508ff1df",
   "metadata": {},
   "outputs": [],
   "source": [
    "test_fail(lambda: mock())\n",
    "assert mock(1,\"1\") is None"
   ]
  },
  {
   "cell_type": "markdown",
   "id": "e6a40a6e-953d-4a12-9fd7-dd6b562e7964",
   "metadata": {},
   "source": [
    "Now we'll add two setups. The first one is the more generic one that only checks if `a` is an `int` and `b` is a `string`. The second one checks if `a==2` and `b` is a string."
   ]
  },
  {
   "cell_type": "code",
   "execution_count": null,
   "id": "b6d60e4f-f16f-469e-8b73-2d7c56f87d6f",
   "metadata": {},
   "outputs": [],
   "source": [
    "# this will be prettier, I promise!\n",
    "mock = FunctionMock(f)\n",
    "\n",
    "# Generic type checker\n",
    "mock.setup(\n",
    "    ArgumentFunctionValidator(lambda a: isinstance(a, int), name='a', position=0),\n",
    "    ArgumentFunctionValidator(lambda b: isinstance(b, str), name='b', position=1)).returns(lambda a,b: 5)\n",
    "\n",
    "# Value checker\n",
    "mock.setup(\n",
    "    ArgumentFunctionValidator(lambda a: a==2, name='a', position=0),\n",
    "    ArgumentFunctionValidator(lambda b: isinstance(b, str), name='b', position=1)).returns(lambda a,b: 6)\n",
    "\n",
    "assert mock(2, 'anyString')==6\n",
    "assert mock(1, 'anyString')==5\n",
    "assert mock(1, 1) is None"
   ]
  },
  {
   "cell_type": "markdown",
   "id": "c52ac175-49d7-4eeb-a029-66e3d000590c",
   "metadata": {},
   "source": [
    "Lastly, the generic return value generator could be used to return a value based on the input value:"
   ]
  },
  {
   "cell_type": "code",
   "execution_count": null,
   "id": "a1a06327-88f5-4f50-b3a1-18f257addedb",
   "metadata": {},
   "outputs": [],
   "source": [
    "mock = FunctionMock(f)\n",
    "\n",
    "# Generic type checker\n",
    "mock.setup(\n",
    "    ArgumentFunctionValidator(lambda a: isinstance(a, int), name='a', position=0),\n",
    "    ArgumentFunctionValidator(lambda b: isinstance(b, str), name='b', position=1)).returns(lambda a,b: a+1)\n",
    "\n",
    "assert mock(1,'anyString')==2\n",
    "assert mock(2,'anyString')==3"
   ]
  },
  {
   "cell_type": "markdown",
   "id": "725aed0e-69a0-4618-b088-2549859d8bd3",
   "metadata": {},
   "source": [
    "### On class methods"
   ]
  },
  {
   "cell_type": "code",
   "execution_count": null,
   "id": "b110c08a-d415-4123-b05b-865af4b4e52d",
   "metadata": {},
   "outputs": [],
   "source": [
    "class A:\n",
    "    def f(self, a: int, b: str, c:str|None =None) -> None:\n",
    "        pass"
   ]
  },
  {
   "cell_type": "code",
   "execution_count": null,
   "id": "d53969e9-d2dd-498f-829a-28c37d0617f7",
   "metadata": {},
   "outputs": [],
   "source": [
    "mock = FunctionMock(A.f)"
   ]
  },
  {
   "cell_type": "code",
   "execution_count": null,
   "id": "1e83b048-acd7-4872-a029-e8fc4ae50068",
   "metadata": {},
   "outputs": [],
   "source": [
    "test_fail(lambda: mock())\n",
    "assert mock(1, \"1\", \"c\") is None"
   ]
  },
  {
   "cell_type": "code",
   "execution_count": null,
   "id": "30a611e5-9df4-4545-8e89-731ab0c265df",
   "metadata": {},
   "outputs": [],
   "source": [
    "# this will be prettier, I promise!\n",
    "mock = FunctionMock(A.f)\n",
    "\n",
    "# Generic type checker\n",
    "mock.setup(\n",
    "    ArgumentFunctionValidator(lambda a: isinstance(a, int), name='a', position=0),\n",
    "    ArgumentFunctionValidator(lambda b: isinstance(b, str), name='b', position=1)).returns(lambda a,b: 5)\n",
    "\n",
    "# Value checker\n",
    "mock.setup(\n",
    "    ArgumentFunctionValidator(lambda a: a==2, name='a', position=0),\n",
    "    ArgumentFunctionValidator(lambda b: isinstance(b, str), name='b', position=1)).returns(lambda a,b: 6)\n",
    "\n",
    "assert mock(2, 'anyString')==6\n",
    "assert mock(1, 'anyString')==5\n",
    "assert mock(1, 1) is None"
   ]
  },
  {
   "cell_type": "markdown",
   "id": "3e6ddd87-54cb-4b1d-b3cc-ae4671416682",
   "metadata": {},
   "source": [
    "# Build library"
   ]
  },
  {
   "cell_type": "code",
   "execution_count": null,
   "id": "06d58d85-5664-422a-8fa9-fece43bfaf44",
   "metadata": {},
   "outputs": [],
   "source": [
    "#| hide\n",
    "import nbdev; nbdev.nbdev_export()"
   ]
  },
  {
   "cell_type": "code",
   "execution_count": null,
   "id": "1aacce4d-ae2c-44dd-ac1d-93235b775557",
   "metadata": {},
   "outputs": [],
   "source": []
  }
 ],
 "metadata": {
  "kernelspec": {
   "display_name": "Python 3 (ipykernel)",
   "language": "python",
   "name": "python3"
  }
 },
 "nbformat": 4,
 "nbformat_minor": 5
}
