{
 "cells": [
  {
   "cell_type": "code",
   "execution_count": null,
   "id": "2e8a7b1e-1e01-4711-97d1-91a88ef9c5b8",
   "metadata": {},
   "outputs": [],
   "source": [
    "#| default_exp verification"
   ]
  },
  {
   "cell_type": "code",
   "execution_count": null,
   "id": "f398dd8a-04dc-43e0-9127-5dad7ca0a9f3",
   "metadata": {},
   "outputs": [],
   "source": [
    "%load_ext autoreload\n",
    "%autoreload 2"
   ]
  },
  {
   "cell_type": "markdown",
   "id": "630ca556-bcdb-48f3-8614-cb49c2270d66",
   "metadata": {},
   "source": [
    "# Verification\n",
    "> Verify that the mock was called the way you intended"
   ]
  },
  {
   "cell_type": "code",
   "execution_count": null,
   "id": "49a7496d-48a0-4a89-b883-6a28db22393d",
   "metadata": {},
   "outputs": [],
   "source": []
  }
 ],
 "metadata": {
  "kernelspec": {
   "display_name": "Python 3 (ipykernel)",
   "language": "python",
   "name": "python3"
  }
 },
 "nbformat": 4,
 "nbformat_minor": 5
}
