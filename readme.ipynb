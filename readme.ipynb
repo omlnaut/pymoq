{
 "cells": [
  {
   "cell_type": "markdown",
   "id": "74050b0a-5f0d-4051-a56c-8d5c14b266b5",
   "metadata": {},
   "source": [
    "# PyMoq"
   ]
  },
  {
   "cell_type": "markdown",
   "id": "d02595d9-6600-499d-8ea0-aebeb605ef24",
   "metadata": {},
   "source": [
    "This is a recreational attempt at replicating parts of the c# moq library."
   ]
  },
  {
   "cell_type": "markdown",
   "id": "8c440945-c0b2-42ed-8412-83aaa2bea216",
   "metadata": {},
   "source": [
    "## Faking attributes"
   ]
  },
  {
   "cell_type": "markdown",
   "id": "73507ee5-0fef-4ed5-87c6-e60ddf2a15e4",
   "metadata": {},
   "source": [
    "### Reading attributes"
   ]
  },
  {
   "cell_type": "markdown",
   "id": "e85acf8a-e07b-470f-ba8f-ee14bca0b96d",
   "metadata": {},
   "source": [
    "Listing all attributes is easy:"
   ]
  },
  {
   "cell_type": "code",
   "execution_count": 30,
   "id": "409f8fd2-5960-42bd-8231-3c67ca47f317",
   "metadata": {},
   "outputs": [
    {
     "data": {
      "text/plain": [
       "['__abstractmethods__',\n",
       " '__class__',\n",
       " '__class_getitem__',\n",
       " '__delattr__',\n",
       " '__dict__',\n",
       " '__dir__',\n",
       " '__doc__',\n",
       " '__eq__',\n",
       " '__format__',\n",
       " '__ge__',\n",
       " '__getattribute__',\n",
       " '__gt__',\n",
       " '__hash__',\n",
       " '__init__',\n",
       " '__init_subclass__',\n",
       " '__le__',\n",
       " '__lt__',\n",
       " '__module__',\n",
       " '__ne__',\n",
       " '__new__',\n",
       " '__parameters__',\n",
       " '__reduce__',\n",
       " '__reduce_ex__',\n",
       " '__repr__',\n",
       " '__setattr__',\n",
       " '__sizeof__',\n",
       " '__slots__',\n",
       " '__str__',\n",
       " '__subclasshook__',\n",
       " '__weakref__',\n",
       " '_abc_impl',\n",
       " '_is_protocol',\n",
       " '_is_runtime_protocol',\n",
       " 'get']"
      ]
     },
     "execution_count": 30,
     "metadata": {},
     "output_type": "execute_result"
    }
   ],
   "source": [
    "dir(IWeb)"
   ]
  },
  {
   "cell_type": "markdown",
   "id": "4ca9dacd-0c1b-4089-8e26-cd0adbf8bd02",
   "metadata": {},
   "source": [
    "These have to be filtered, we only need the 'public' attributes. By convention, these are the ones not starting with an underscore."
   ]
  },
  {
   "cell_type": "code",
   "execution_count": 85,
   "id": "8252e3f6-75d9-447d-b30c-7b3998f8aa88",
   "metadata": {},
   "outputs": [],
   "source": [
    "from typing import Any, List\n",
    "\n",
    "def is_public(name: str) -> bool:\n",
    "    return not name.startswith('_')\n",
    "\n",
    "def get_public_attributes(cls : Any) -> List[str]:\n",
    "    return list(filter(is_public, dir(cls)))"
   ]
  },
  {
   "cell_type": "code",
   "execution_count": 86,
   "id": "af82f998-8bf4-4829-80bf-644d95ce4e58",
   "metadata": {},
   "outputs": [
    {
     "data": {
      "text/plain": [
       "['get']"
      ]
     },
     "execution_count": 86,
     "metadata": {},
     "output_type": "execute_result"
    }
   ],
   "source": [
    "get_public_attributes(IWeb)"
   ]
  },
  {
   "cell_type": "markdown",
   "id": "7c6fac16-26f9-459c-8cc8-70862aca998e",
   "metadata": {},
   "source": [
    "### Get Function by name"
   ]
  },
  {
   "cell_type": "markdown",
   "id": "68911c53-873c-4ed0-92b0-3bde735b1921",
   "metadata": {},
   "source": [
    "The string name of the functions from above can easily be used to access the corresponding function objects of a class:"
   ]
  },
  {
   "cell_type": "code",
   "execution_count": 84,
   "id": "fbd86b6d-d53f-4e39-8cea-a1fe03ec307f",
   "metadata": {},
   "outputs": [
    {
     "data": {
      "text/plain": [
       "<function __main__.IWeb.get(url: str) -> str>"
      ]
     },
     "execution_count": 84,
     "metadata": {},
     "output_type": "execute_result"
    }
   ],
   "source": [
    "getattr(IWeb, 'get')"
   ]
  },
  {
   "cell_type": "markdown",
   "id": "28075ede-94a2-4b70-a539-178cbb21e250",
   "metadata": {},
   "source": [
    "### Signature validation"
   ]
  },
  {
   "cell_type": "markdown",
   "id": "25317239-789c-412b-b13d-6526dddbdc44",
   "metadata": {},
   "source": [
    "The inspect module gives easy access to the signature of a callable:"
   ]
  },
  {
   "cell_type": "code",
   "execution_count": 83,
   "id": "b50e9538-ea94-4e8d-90dc-67e8c97cb635",
   "metadata": {},
   "outputs": [
    {
     "data": {
      "text/plain": [
       "<Signature (url: str) -> str>"
      ]
     },
     "execution_count": 83,
     "metadata": {},
     "output_type": "execute_result"
    }
   ],
   "source": [
    "from inspect import signature\n",
    "\n",
    "sig = signature(IWeb.get)\n",
    "sig"
   ]
  },
  {
   "cell_type": "markdown",
   "id": "6b276b2d-472d-4388-9a03-deb46a731e75",
   "metadata": {},
   "source": [
    "We can also check if a given argument list is enough to call a function with the given signature:"
   ]
  },
  {
   "cell_type": "code",
   "execution_count": 73,
   "id": "37cb7000-56bb-463d-89b5-77d844b91a31",
   "metadata": {},
   "outputs": [
    {
     "data": {
      "text/plain": [
       "<BoundArguments (url='url')>"
      ]
     },
     "execution_count": 73,
     "metadata": {},
     "output_type": "execute_result"
    }
   ],
   "source": [
    "sig.bind('url')"
   ]
  },
  {
   "cell_type": "code",
   "execution_count": 75,
   "id": "fa20caf0-7176-4af4-aa64-5677bd6fbd8e",
   "metadata": {},
   "outputs": [
    {
     "name": "stdout",
     "output_type": "stream",
     "text": [
      "missing a required argument: 'url'\n"
     ]
    }
   ],
   "source": [
    "try:\n",
    "    sig.bind()\n",
    "except TypeError as e:\n",
    "    print(e)"
   ]
  },
  {
   "cell_type": "markdown",
   "id": "702779ad-b6ad-4f4e-a71b-d70daebdc6e8",
   "metadata": {},
   "source": [
    "From this, we can create a wrapper that checks for the validity of a call, then does some optional pattern matching on the given arguments."
   ]
  },
  {
   "cell_type": "code",
   "execution_count": 154,
   "id": "ca9e04dc-e4af-4849-bdab-4d22228c4974",
   "metadata": {},
   "outputs": [],
   "source": [
    "from typing import Callable\n",
    "\n",
    "class FunctionMocker:\n",
    "    def __init__(self, target_function: Callable[[Any], Any], top_level: str=\"\"):\n",
    "        self.name = target_function.__name__\n",
    "        self.target_signature = signature(target_function)\n",
    "        self._error_prefix = f'{top_level}.' if top_level else ''\n",
    "        \n",
    "    def _validate_signature(self, *args, **kwargs):\n",
    "        try:\n",
    "            self.target_signature.bind(*args, **kwargs)\n",
    "        except TypeError as e:\n",
    "            raise TypeError(f'{self._error_prefix}{self.name}{self.target_signature}: {e}')\n",
    "        \n",
    "    def __call__(self, *args, **kwargs):\n",
    "        self._validate_signature(*args, **kwargs)\n",
    "        \n",
    "        print('Correct signature, start pattern matching')\n",
    "        \n",
    "    def __str__(self):\n",
    "        return f'Moq: {self.name}{self.target_signature}'\n",
    "    \n",
    "    def __repr__(self):\n",
    "        return str(self)"
   ]
  },
  {
   "cell_type": "code",
   "execution_count": 155,
   "id": "601939b1-7f34-4233-9efc-238b70b4cadf",
   "metadata": {},
   "outputs": [
    {
     "name": "stdout",
     "output_type": "stream",
     "text": [
      "Correct signature, start pattern matching\n"
     ]
    }
   ],
   "source": [
    "f = FunctionMocker(IWeb.get)\n",
    "f('url')"
   ]
  },
  {
   "cell_type": "code",
   "execution_count": 156,
   "id": "4f618b78-b4c4-4ee8-91ac-d92d6233e5a3",
   "metadata": {},
   "outputs": [
    {
     "name": "stdout",
     "output_type": "stream",
     "text": [
      "get(url: str) -> str: missing a required argument: 'url'\n"
     ]
    }
   ],
   "source": [
    "try:\n",
    "    f()\n",
    "except TypeError as e:\n",
    "    print(e)"
   ]
  },
  {
   "cell_type": "markdown",
   "id": "644caef0-4887-4fc1-a176-c85c7526fe0c",
   "metadata": {},
   "source": [
    "### A first simple Mocker"
   ]
  },
  {
   "cell_type": "markdown",
   "id": "4b0fc15d-1b75-41e6-8342-a370ddf39072",
   "metadata": {},
   "source": [
    "With the `FunctionMocker` from above we can implement a very simple version of a class-specific Mocker."
   ]
  },
  {
   "cell_type": "code",
   "execution_count": 160,
   "id": "c18a6dab-8499-4e0b-81ae-db742f906fb1",
   "metadata": {},
   "outputs": [],
   "source": [
    "class Moq:\n",
    "    def __init__(self, cls: Any):\n",
    "        self.cls_name = cls.__name__\n",
    "        self._extract_attributes(cls)\n",
    "        \n",
    "    def _extract_attributes(self, cls):\n",
    "        self.attribute_names = get_public_attributes(cls)\n",
    "        self.moq_functions = {name: FunctionMocker(getattr(cls, name), self.cls_name) for name in self.attribute_names}\n",
    "        \n",
    "    def __getattr__(self, name):\n",
    "        if name not in self.moq_functions:\n",
    "            raise AttributeError(f\"No attribute with name '{name}' in class {self.cls_name}\")\n",
    "            \n",
    "        return self.moq_functions[name]\n",
    "    \n",
    "    def __dir__(self):\n",
    "        return dir(super()) + self.attribute_names"
   ]
  },
  {
   "cell_type": "code",
   "execution_count": 161,
   "id": "fa48595e-03c1-455f-9cff-baeeb40da8fb",
   "metadata": {},
   "outputs": [],
   "source": [
    "m = Moq(IWeb)"
   ]
  },
  {
   "cell_type": "code",
   "execution_count": 162,
   "id": "e1b9e627-c20a-405b-8bc7-82de5dbf3ffd",
   "metadata": {},
   "outputs": [
    {
     "ename": "TypeError",
     "evalue": "IWeb.get(url: str) -> str: missing a required argument: 'url'",
     "output_type": "error",
     "traceback": [
      "\u001b[1;31m---------------------------------------------------------------------------\u001b[0m",
      "\u001b[1;31mTypeError\u001b[0m                                 Traceback (most recent call last)",
      "Input \u001b[1;32mIn [154]\u001b[0m, in \u001b[0;36mFunctionMocker._validate_signature\u001b[1;34m(self, *args, **kwargs)\u001b[0m\n\u001b[0;32m     10\u001b[0m \u001b[38;5;28;01mtry\u001b[39;00m:\n\u001b[1;32m---> 11\u001b[0m     \u001b[38;5;28mself\u001b[39m\u001b[38;5;241m.\u001b[39mtarget_signature\u001b[38;5;241m.\u001b[39mbind(\u001b[38;5;241m*\u001b[39margs, \u001b[38;5;241m*\u001b[39m\u001b[38;5;241m*\u001b[39mkwargs)\n\u001b[0;32m     12\u001b[0m \u001b[38;5;28;01mexcept\u001b[39;00m \u001b[38;5;167;01mTypeError\u001b[39;00m \u001b[38;5;28;01mas\u001b[39;00m e:\n",
      "File \u001b[1;32m~\\miniconda3\\envs\\moq_exp\\lib\\inspect.py:3179\u001b[0m, in \u001b[0;36mSignature.bind\u001b[1;34m(self, *args, **kwargs)\u001b[0m\n\u001b[0;32m   3175\u001b[0m \u001b[38;5;124;03m\"\"\"Get a BoundArguments object, that maps the passed `args`\u001b[39;00m\n\u001b[0;32m   3176\u001b[0m \u001b[38;5;124;03mand `kwargs` to the function's signature.  Raises `TypeError`\u001b[39;00m\n\u001b[0;32m   3177\u001b[0m \u001b[38;5;124;03mif the passed arguments can not be bound.\u001b[39;00m\n\u001b[0;32m   3178\u001b[0m \u001b[38;5;124;03m\"\"\"\u001b[39;00m\n\u001b[1;32m-> 3179\u001b[0m \u001b[38;5;28;01mreturn\u001b[39;00m \u001b[38;5;28;43mself\u001b[39;49m\u001b[38;5;241;43m.\u001b[39;49m\u001b[43m_bind\u001b[49m\u001b[43m(\u001b[49m\u001b[43margs\u001b[49m\u001b[43m,\u001b[49m\u001b[43m \u001b[49m\u001b[43mkwargs\u001b[49m\u001b[43m)\u001b[49m\n",
      "File \u001b[1;32m~\\miniconda3\\envs\\moq_exp\\lib\\inspect.py:3094\u001b[0m, in \u001b[0;36mSignature._bind\u001b[1;34m(self, args, kwargs, partial)\u001b[0m\n\u001b[0;32m   3093\u001b[0m                 msg \u001b[38;5;241m=\u001b[39m msg\u001b[38;5;241m.\u001b[39mformat(arg\u001b[38;5;241m=\u001b[39mparam\u001b[38;5;241m.\u001b[39mname)\n\u001b[1;32m-> 3094\u001b[0m                 \u001b[38;5;28;01mraise\u001b[39;00m \u001b[38;5;167;01mTypeError\u001b[39;00m(msg) \u001b[38;5;28;01mfrom\u001b[39;00m \u001b[38;5;28mNone\u001b[39m\n\u001b[0;32m   3095\u001b[0m \u001b[38;5;28;01melse\u001b[39;00m:\n\u001b[0;32m   3096\u001b[0m     \u001b[38;5;66;03m# We have a positional argument to process\u001b[39;00m\n",
      "\u001b[1;31mTypeError\u001b[0m: missing a required argument: 'url'",
      "\nDuring handling of the above exception, another exception occurred:\n",
      "\u001b[1;31mTypeError\u001b[0m                                 Traceback (most recent call last)",
      "Input \u001b[1;32mIn [162]\u001b[0m, in \u001b[0;36m<cell line: 1>\u001b[1;34m()\u001b[0m\n\u001b[1;32m----> 1\u001b[0m \u001b[43mm\u001b[49m\u001b[38;5;241;43m.\u001b[39;49m\u001b[43mget\u001b[49m\u001b[43m(\u001b[49m\u001b[43m)\u001b[49m\n",
      "Input \u001b[1;32mIn [154]\u001b[0m, in \u001b[0;36mFunctionMocker.__call__\u001b[1;34m(self, *args, **kwargs)\u001b[0m\n\u001b[0;32m     15\u001b[0m \u001b[38;5;28;01mdef\u001b[39;00m \u001b[38;5;21m__call__\u001b[39m(\u001b[38;5;28mself\u001b[39m, \u001b[38;5;241m*\u001b[39margs, \u001b[38;5;241m*\u001b[39m\u001b[38;5;241m*\u001b[39mkwargs):\n\u001b[1;32m---> 16\u001b[0m     \u001b[38;5;28mself\u001b[39m\u001b[38;5;241m.\u001b[39m_validate_signature(\u001b[38;5;241m*\u001b[39margs, \u001b[38;5;241m*\u001b[39m\u001b[38;5;241m*\u001b[39mkwargs)\n\u001b[0;32m     18\u001b[0m     \u001b[38;5;28mprint\u001b[39m(\u001b[38;5;124m'\u001b[39m\u001b[38;5;124mCorrect signature, start pattern matching\u001b[39m\u001b[38;5;124m'\u001b[39m)\n",
      "Input \u001b[1;32mIn [154]\u001b[0m, in \u001b[0;36mFunctionMocker._validate_signature\u001b[1;34m(self, *args, **kwargs)\u001b[0m\n\u001b[0;32m     11\u001b[0m     \u001b[38;5;28mself\u001b[39m\u001b[38;5;241m.\u001b[39mtarget_signature\u001b[38;5;241m.\u001b[39mbind(\u001b[38;5;241m*\u001b[39margs, \u001b[38;5;241m*\u001b[39m\u001b[38;5;241m*\u001b[39mkwargs)\n\u001b[0;32m     12\u001b[0m \u001b[38;5;28;01mexcept\u001b[39;00m \u001b[38;5;167;01mTypeError\u001b[39;00m \u001b[38;5;28;01mas\u001b[39;00m e:\n\u001b[1;32m---> 13\u001b[0m     \u001b[38;5;28;01mraise\u001b[39;00m \u001b[38;5;167;01mTypeError\u001b[39;00m(\u001b[38;5;124mf\u001b[39m\u001b[38;5;124m'\u001b[39m\u001b[38;5;132;01m{\u001b[39;00m\u001b[38;5;28mself\u001b[39m\u001b[38;5;241m.\u001b[39m_error_prefix\u001b[38;5;132;01m}\u001b[39;00m\u001b[38;5;132;01m{\u001b[39;00m\u001b[38;5;28mself\u001b[39m\u001b[38;5;241m.\u001b[39mname\u001b[38;5;132;01m}\u001b[39;00m\u001b[38;5;132;01m{\u001b[39;00m\u001b[38;5;28mself\u001b[39m\u001b[38;5;241m.\u001b[39mtarget_signature\u001b[38;5;132;01m}\u001b[39;00m\u001b[38;5;124m: \u001b[39m\u001b[38;5;132;01m{\u001b[39;00me\u001b[38;5;132;01m}\u001b[39;00m\u001b[38;5;124m'\u001b[39m)\n",
      "\u001b[1;31mTypeError\u001b[0m: IWeb.get(url: str) -> str: missing a required argument: 'url'"
     ]
    }
   ],
   "source": [
    "m.get()"
   ]
  },
  {
   "cell_type": "code",
   "execution_count": 163,
   "id": "968af1f9-a355-441d-8930-074484dfe631",
   "metadata": {},
   "outputs": [
    {
     "name": "stdout",
     "output_type": "stream",
     "text": [
      "No attribute with name 'not_found' in class IWeb\n"
     ]
    }
   ],
   "source": [
    "try:\n",
    "    m.not_found\n",
    "except AttributeError as e:\n",
    "    print(e)"
   ]
  },
  {
   "cell_type": "code",
   "execution_count": null,
   "id": "b34f04a4-6e4f-43de-9345-45c7019b6df6",
   "metadata": {},
   "outputs": [],
   "source": []
  }
 ],
 "metadata": {
  "kernelspec": {
   "display_name": "Python 3 (ipykernel)",
   "language": "python",
   "name": "python3"
  },
  "language_info": {
   "codemirror_mode": {
    "name": "ipython",
    "version": 3
   },
   "file_extension": ".py",
   "mimetype": "text/x-python",
   "name": "python",
   "nbconvert_exporter": "python",
   "pygments_lexer": "ipython3",
   "version": "3.10.4"
  }
 },
 "nbformat": 4,
 "nbformat_minor": 5
}
