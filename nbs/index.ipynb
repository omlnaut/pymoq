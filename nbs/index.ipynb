{
 "cells": [
  {
   "cell_type": "code",
   "execution_count": null,
   "metadata": {},
   "outputs": [],
   "source": [
    "#| hide\n",
    "from pymoq.core import *"
   ]
  },
  {
   "cell_type": "markdown",
   "metadata": {},
   "source": [
    "# pymoq\n",
    "\n",
    "> Extending unittest-mock with moq-like validators"
   ]
  },
  {
   "cell_type": "markdown",
   "metadata": {},
   "source": [
    "Following the end-to-end [tutorial](https://nbdev.fast.ai/Tutorials/tutorial.html) for nbdev.\n",
    "Project homepage: [github](https://github.com/omlnaut/pymoq)"
   ]
  },
  {
   "cell_type": "markdown",
   "metadata": {},
   "source": [
    "## Install"
   ]
  },
  {
   "cell_type": "markdown",
   "metadata": {},
   "source": [
    "```sh\n",
    "pip install pymoq\n",
    "```"
   ]
  },
  {
   "cell_type": "markdown",
   "metadata": {},
   "source": [
    "## How to use"
   ]
  },
  {
   "cell_type": "markdown",
   "metadata": {},
   "source": [
    "Suppose we have the following setup in a python backend."
   ]
  },
  {
   "cell_type": "code",
   "execution_count": null,
   "metadata": {},
   "outputs": [],
   "source": [
    "from typing import Protocol\n",
    "\n",
    "class IWeb(Protocol):\n",
    "    \"Interface for accessing internet resources\"\n",
    "    \n",
    "    def get(self, url:str, page:int, verbose:bool=False) -> str:\n",
    "        \"Fetches the ressource at `url` and returns it in string representation\""
   ]
  },
  {
   "cell_type": "code",
   "execution_count": null,
   "metadata": {},
   "outputs": [],
   "source": [
    "class RessourceFetcher:\n",
    "    base_url: str = \"https://some_base.com/\"\n",
    "    \n",
    "    def __init__(self, web: IWeb):\n",
    "        self._web = web\n",
    "    \n",
    "    def check_ressource(self, ressource_name: str, page:int, verbose:bool=False) -> bool:\n",
    "        url = self.base_url + ressource_name\n",
    "        ressource = self._web.get(url, page, verbose)\n",
    "        \n",
    "        return ressource is not None"
   ]
  },
  {
   "cell_type": "markdown",
   "metadata": {},
   "source": [
    "We want to test the `fetch_ressource` method of `RessourceFetcher`. More specifically, we want to test that if the ressource is correctly returned from the source, this method should return `True`, otherwise `False`."
   ]
  },
  {
   "cell_type": "markdown",
   "metadata": {},
   "source": [
    "### Setting up the mock"
   ]
  },
  {
   "cell_type": "code",
   "execution_count": null,
   "metadata": {},
   "outputs": [],
   "source": [
    "import pymoq.mocking.objects"
   ]
  },
  {
   "cell_type": "code",
   "execution_count": null,
   "metadata": {},
   "outputs": [],
   "source": [
    "mock = pymoq.mocking.objects.Mock(IWeb)\n",
    "mock.get\\\n",
    "    .setup('https://some_base.com/ressource', int, False)\\\n",
    "    .returns(lambda self,url,page,verbose: True)\n",
    "\n",
    "fetcher = RessourceFetcher(mock)"
   ]
  },
  {
   "cell_type": "markdown",
   "metadata": {},
   "source": [
    "If the call matches the siganture defined in the `setup` method, the lambda in `returns` is called and its return value is returned:"
   ]
  },
  {
   "cell_type": "code",
   "execution_count": null,
   "metadata": {},
   "outputs": [],
   "source": [
    "assert fetcher.check_ressource('ressource', 1)"
   ]
  },
  {
   "cell_type": "markdown",
   "metadata": {},
   "source": [
    "If any part of the signature does not match, `None` is returned:"
   ]
  },
  {
   "cell_type": "code",
   "execution_count": null,
   "metadata": {},
   "outputs": [],
   "source": [
    "assert not fetcher.check_ressource('other_ressource', 1) # wrong ressource name\n",
    "assert not fetcher.check_ressource('ressource', \"1\") # wrong type of page argument\n",
    "assert not fetcher.check_ressource('ressource', \"1\", verbose=True) # wrong value for verbose argument"
   ]
  },
  {
   "cell_type": "markdown",
   "metadata": {},
   "source": [
    "### Verification"
   ]
  },
  {
   "cell_type": "markdown",
   "metadata": {},
   "source": [
    "One might want to check how often a function mock was invoked with a specific call signature. This can easily be done via the `.verify` method:"
   ]
  },
  {
   "cell_type": "code",
   "execution_count": null,
   "metadata": {},
   "outputs": [],
   "source": [
    "mock = pymoq.mocking.objects.Mock(IWeb)\n",
    "fetcher = RessourceFetcher(mock)\n",
    "\n",
    "# setup\n",
    "mock.get.setup(str, int, bool).returns(lambda self,url,page,verbose: True)\n",
    "\n",
    "# act\n",
    "fetcher.check_ressource('ressource', 1)\n",
    "fetcher.check_ressource('ressource', 2)\n",
    "fetcher.check_ressource('ressource', 1, verbose=True)\n",
    "\n",
    "# assert\n",
    "mock.get.verify(str, int, bool).times(3)\n",
    "mock.get.verify(str, int, bool).more_than(1)\n",
    "mock.get.verify(str, str).never()"
   ]
  },
  {
   "cell_type": "code",
   "execution_count": null,
   "metadata": {},
   "outputs": [],
   "source": []
  }
 ],
 "metadata": {
  "kernelspec": {
   "display_name": "Python 3 (ipykernel)",
   "language": "python",
   "name": "python3"
  }
 },
 "nbformat": 4,
 "nbformat_minor": 4
}
