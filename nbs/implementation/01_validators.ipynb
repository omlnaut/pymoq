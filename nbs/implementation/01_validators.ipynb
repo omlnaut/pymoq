{
 "cells": [
  {
   "cell_type": "code",
   "execution_count": null,
   "metadata": {},
   "outputs": [],
   "source": [
    "#| default_exp argument_validators"
   ]
  },
  {
   "cell_type": "code",
   "execution_count": null,
   "metadata": {},
   "outputs": [],
   "source": [
    "%load_ext autoreload\n",
    "%autoreload 2"
   ]
  },
  {
   "cell_type": "code",
   "execution_count": null,
   "metadata": {},
   "outputs": [],
   "source": [
    "#| export\n",
    "from typing import Protocol, Any, runtime_checkable\n",
    "from collections.abc import Callable\n",
    "from pymoq.core import AnyCallable"
   ]
  },
  {
   "cell_type": "code",
   "execution_count": null,
   "metadata": {},
   "outputs": [],
   "source": [
    "#| hide\n",
    "from nbdev.showdoc import *\n",
    "from fastcore.test import test_fail"
   ]
  },
  {
   "cell_type": "markdown",
   "metadata": {},
   "source": [
    "# Validators\n",
    "\n",
    "> Collection of methods to validate specific call arguments."
   ]
  },
  {
   "cell_type": "markdown",
   "metadata": {},
   "source": [
    "Goal: Evaluate whether a call like `f(1,\"s\")` matches any signature-pattern. A signature pattern might be defined like `f(1, str)`. This should match any call that passes the exact value one for the first argument and any object of type str in the second."
   ]
  },
  {
   "cell_type": "markdown",
   "metadata": {},
   "source": [
    "## Argument validators"
   ]
  },
  {
   "cell_type": "markdown",
   "metadata": {},
   "source": [
    "We break the task down to validating a single argument. The signature of such an ArgumentValidator should look like :"
   ]
  },
  {
   "cell_type": "code",
   "execution_count": null,
   "metadata": {},
   "outputs": [],
   "source": [
    "#| export\n",
    "@runtime_checkable\n",
    "class ArgumentValidator(Protocol):\n",
    "    \"Interface for all argument validators.\"\n",
    "    \n",
    "    @property\n",
    "    def name() -> str:\n",
    "        \"Name of the argument in the signature\"\n",
    "        \n",
    "    @property\n",
    "    def position() -> int:\n",
    "        \"Position of the argument in the signature\"\n",
    "        \n",
    "    def is_valid(self, argument: Any) -> bool:\n",
    "        ..."
   ]
  },
  {
   "cell_type": "markdown",
   "metadata": {},
   "source": [
    "The most flexibility can be achieved by constructing an ArgumentValidator that evaluates an arbitrary function:"
   ]
  },
  {
   "cell_type": "code",
   "execution_count": null,
   "metadata": {},
   "outputs": [],
   "source": [
    "#| export\n",
    "class ArgumentFunctionValidator:\n",
    "    \"Validate an argument by evaluating an arbitrary function\"\n",
    "    def __init__(self, func: AnyCallable[bool], name: str, position: int, display:str|None = None):\n",
    "        self._func = func\n",
    "        self._name = name\n",
    "        self._position = position\n",
    "        self._display = display\n",
    "        \n",
    "    @property\n",
    "    def name(self) -> str:\n",
    "        return self._name\n",
    "    \n",
    "    @property\n",
    "    def position(self) -> int:\n",
    "        return self._position\n",
    "        \n",
    "    def is_valid(self, argument: Any) -> bool:\n",
    "        return self._func(argument)\n",
    "    \n",
    "    def __str__(self):\n",
    "        if self._display is None:\n",
    "            return f'ArgumentFunctionValidator(name:{self.name}, position={self.position})'\n",
    "        return f'ArgumentFunctionValidator(argument_name:{self.name}, position={self.position}): {self._display}'\n",
    "    def __repr__(self): return str(self)\n",
    "    \n",
    "assert isinstance(ArgumentFunctionValidator, ArgumentValidator), \"ArgumentFunctionValidator does not implement the ArgumentValidator-Protocol\""
   ]
  },
  {
   "cell_type": "markdown",
   "metadata": {},
   "source": [
    "This could now be used like:"
   ]
  },
  {
   "cell_type": "code",
   "execution_count": null,
   "metadata": {},
   "outputs": [
    {
     "data": {
      "text/plain": [
       "ArgumentFunctionValidator(argument_name:firstArgument, position=0): AnyInt()"
      ]
     },
     "execution_count": null,
     "metadata": {},
     "output_type": "execute_result"
    }
   ],
   "source": [
    "any_int = ArgumentFunctionValidator(lambda v: isinstance(v, int), \"firstArgument\", 0, display='AnyInt()')\n",
    "any_int"
   ]
  },
  {
   "cell_type": "code",
   "execution_count": null,
   "metadata": {},
   "outputs": [],
   "source": [
    "assert any_int.is_valid(1)\n",
    "assert not any_int.is_valid(1.1)\n",
    "assert not any_int.is_valid(\"string\")\n",
    "assert str(any_int)=='ArgumentFunctionValidator(argument_name:firstArgument, position=0): AnyInt()'"
   ]
  },
  {
   "cell_type": "markdown",
   "metadata": {},
   "source": [
    "In later stages there should be convenience methods around creating such argument validators. E.g. `from_type(some_type)` for making the above easier."
   ]
  },
  {
   "cell_type": "markdown",
   "metadata": {},
   "source": [
    "### Ease of use: Construction from arguments"
   ]
  },
  {
   "cell_type": "code",
   "execution_count": null,
   "metadata": {},
   "outputs": [],
   "source": [
    "#| export\n",
    "def argument_validator_from_argument(argument: Any, name:str, position: int, verbose:bool=False) -> ArgumentValidator:\n",
    "    if verbose: print(f\"Constructing ArgumentValidatorFrom {argument}\")\n",
    "    match argument:\n",
    "        case ArgumentValidator():\n",
    "            return argument\n",
    "        case type():\n",
    "            return ArgumentFunctionValidator(lambda v: isinstance(v, argument), name=name, position=position, display=f'any_{argument.__name__}')\n",
    "        case Callable():\n",
    "            if hasattr(argument, 'display'):\n",
    "                display = argument.display\n",
    "            else:\n",
    "                display = 'callable()'\n",
    "            \n",
    "            return ArgumentFunctionValidator(argument, name=name, position=position, display=display)\n",
    "    \n",
    "    return ArgumentFunctionValidator(lambda v: v==argument, name=name, position=position, display=f'== {argument}')"
   ]
  },
  {
   "cell_type": "markdown",
   "metadata": {},
   "source": [
    "##### ArgumentValidator"
   ]
  },
  {
   "cell_type": "markdown",
   "metadata": {},
   "source": [
    "Passing a valid `ArgumentValidator` simply returns it:"
   ]
  },
  {
   "cell_type": "code",
   "execution_count": null,
   "metadata": {},
   "outputs": [],
   "source": [
    "assert argument_validator_from_argument(any_int, any_int.name, 0) == any_int"
   ]
  },
  {
   "cell_type": "markdown",
   "metadata": {},
   "source": [
    "##### Callable"
   ]
  },
  {
   "cell_type": "markdown",
   "metadata": {},
   "source": [
    "Passing a callable constructs an `ArgumentFunctionValidator`:"
   ]
  },
  {
   "cell_type": "code",
   "execution_count": null,
   "metadata": {},
   "outputs": [
    {
     "data": {
      "text/plain": [
       "ArgumentFunctionValidator(argument_name:a, position=0): callable()"
      ]
     },
     "execution_count": null,
     "metadata": {},
     "output_type": "execute_result"
    }
   ],
   "source": [
    "arg_val = argument_validator_from_argument(lambda v: isinstance(v, int), 'a', 0)\n",
    "arg_val"
   ]
  },
  {
   "cell_type": "code",
   "execution_count": null,
   "metadata": {},
   "outputs": [
    {
     "data": {
      "text/plain": [
       "ArgumentFunctionValidator(argument_name:a, position=0): any_int"
      ]
     },
     "execution_count": null,
     "metadata": {},
     "output_type": "execute_result"
    }
   ],
   "source": [
    "check_type = lambda v: isinstance(v, int)\n",
    "check_type.display = 'any_int'\n",
    "\n",
    "arg_val = argument_validator_from_argument(check_type, 'a', 0)\n",
    "arg_val"
   ]
  },
  {
   "cell_type": "code",
   "execution_count": null,
   "metadata": {},
   "outputs": [],
   "source": [
    "assert isinstance(arg_val, ArgumentValidator)\n",
    "assert arg_val.is_valid(1)\n",
    "assert not arg_val.is_valid(\"1\")"
   ]
  },
  {
   "cell_type": "markdown",
   "metadata": {},
   "source": [
    "##### Type"
   ]
  },
  {
   "cell_type": "code",
   "execution_count": null,
   "metadata": {},
   "outputs": [
    {
     "data": {
      "text/plain": [
       "ArgumentFunctionValidator(argument_name:a, position=0): any_int"
      ]
     },
     "execution_count": null,
     "metadata": {},
     "output_type": "execute_result"
    }
   ],
   "source": [
    "arg_val = argument_validator_from_argument(int, name='a', position=0)\n",
    "arg_val"
   ]
  },
  {
   "cell_type": "code",
   "execution_count": null,
   "metadata": {},
   "outputs": [],
   "source": [
    "assert isinstance(arg_val, ArgumentValidator)\n",
    "assert arg_val.is_valid(1)\n",
    "assert not arg_val.is_valid(\"1\")"
   ]
  },
  {
   "cell_type": "markdown",
   "metadata": {},
   "source": [
    "##### Non-callable, non-type"
   ]
  },
  {
   "cell_type": "markdown",
   "metadata": {},
   "source": [
    "Passing a non-callable assumes that the value should be compared against, i.e. it's a constant:"
   ]
  },
  {
   "cell_type": "code",
   "execution_count": null,
   "metadata": {},
   "outputs": [
    {
     "data": {
      "text/plain": [
       "ArgumentFunctionValidator(argument_name:a, position=0): == 123"
      ]
     },
     "execution_count": null,
     "metadata": {},
     "output_type": "execute_result"
    }
   ],
   "source": [
    "arg_val = argument_validator_from_argument(123, name='a', position=0)\n",
    "arg_val"
   ]
  },
  {
   "cell_type": "code",
   "execution_count": null,
   "metadata": {},
   "outputs": [],
   "source": [
    "assert isinstance(arg_val, ArgumentValidator)\n",
    "assert arg_val.is_valid(123)\n",
    "assert not arg_val.is_valid(124)\n",
    "assert str(arg_val)=='ArgumentFunctionValidator(argument_name:a, position=0): == 123'"
   ]
  },
  {
   "cell_type": "markdown",
   "metadata": {},
   "source": [
    "## Special Validators"
   ]
  },
  {
   "cell_type": "code",
   "execution_count": null,
   "metadata": {},
   "outputs": [],
   "source": [
    "#| export\n",
    "AnyArg = lambda: lambda v: True\n",
    "AnyArg.display = 'any()'"
   ]
  },
  {
   "cell_type": "code",
   "execution_count": null,
   "metadata": {},
   "outputs": [],
   "source": [
    "#| export\n",
    "class AnyInt:\n",
    "    \"Special validator that provides methods for integers\"\n",
    "    def __init__(self,name: str, position: int, display:str|None = None):\n",
    "        self._name = name\n",
    "        self._position = position\n",
    "        self._display = display\n",
    "        \n",
    "        self._validators: list[ArgumentValidator] = [argument_validator_from_argument(int, name=name, position=position)]\n",
    "        self._validator_names: list[str] = ['AnyInt()']\n",
    "    \n",
    "    @property\n",
    "    def name(self) -> str:\n",
    "        return self._name\n",
    "    \n",
    "    @property\n",
    "    def position(self) -> int:\n",
    "        return self._position\n",
    "    \n",
    "    def greather_than(self, lower: int) -> \"AnyInt\":\n",
    "        greather_func = lambda value: lower<value\n",
    "        self._validator_names.append(f\"greather_than({lower})\")\n",
    "        \n",
    "        self._validators.append(argument_validator_from_argument(greather_func, name=self._name, position=self._position))\n",
    "        return self\n",
    "    \n",
    "    def greather_than_or_equal(self, lower: int) -> \"AnyInt\":\n",
    "        greather_func = lambda value: lower<=value\n",
    "        self._validator_names.append(f\"greather_than_or_equal({lower})\")\n",
    "        \n",
    "        self._validators.append(argument_validator_from_argument(greather_func, name=self._name, position=self._position))\n",
    "        return self\n",
    "    \n",
    "    def less_than(self, upper: int) -> \"AnyInt\":\n",
    "        less_func = lambda value: value<upper\n",
    "        self._validator_names.append(f\"less_than({upper})\")\n",
    "        \n",
    "        self._validators.append(argument_validator_from_argument(less_func, name=self._name, position=self._position))\n",
    "        return self\n",
    "    \n",
    "    def less_than_or_equal(self, upper: int) -> \"AnyInt\":\n",
    "        less_func = lambda value: value<=upper\n",
    "        self._validator_names.append(f\"less_than_or_equal({upper})\")\n",
    "        \n",
    "        self._validators.append(argument_validator_from_argument(less_func, name=self._name, position=self._position))\n",
    "        return self\n",
    "        \n",
    "    def is_valid(self, argument: Any) -> bool:\n",
    "        return all(validator.is_valid(argument) for validator in self._validators)\n",
    "    \n",
    "    def __str__(self):\n",
    "        return '.'.join(self._validator_names)\n",
    "    \n",
    "    def __repr__(self): return str(self)"
   ]
  },
  {
   "cell_type": "code",
   "execution_count": null,
   "metadata": {},
   "outputs": [
    {
     "data": {
      "text/plain": [
       "AnyInt()"
      ]
     },
     "execution_count": null,
     "metadata": {},
     "output_type": "execute_result"
    }
   ],
   "source": [
    "a = AnyInt('a', 0)\n",
    "\n",
    "assert a.is_valid(1)\n",
    "assert not a.is_valid(\"1\")\n",
    "a"
   ]
  },
  {
   "cell_type": "code",
   "execution_count": null,
   "metadata": {},
   "outputs": [
    {
     "data": {
      "text/plain": [
       "AnyInt().greather_than(5)"
      ]
     },
     "execution_count": null,
     "metadata": {},
     "output_type": "execute_result"
    }
   ],
   "source": [
    "b = AnyInt('b', 1).greather_than(5)\n",
    "\n",
    "assert b.is_valid(6)\n",
    "assert not b.is_valid(5)\n",
    "b"
   ]
  },
  {
   "cell_type": "code",
   "execution_count": null,
   "metadata": {},
   "outputs": [
    {
     "data": {
      "text/plain": [
       "AnyInt().greather_than_or_equal(5)"
      ]
     },
     "execution_count": null,
     "metadata": {},
     "output_type": "execute_result"
    }
   ],
   "source": [
    "b = AnyInt('b', 1).greather_than_or_equal(5)\n",
    "\n",
    "assert b.is_valid(5)\n",
    "assert not b.is_valid(4)\n",
    "b"
   ]
  },
  {
   "cell_type": "code",
   "execution_count": null,
   "metadata": {},
   "outputs": [
    {
     "data": {
      "text/plain": [
       "AnyInt().less_than(5)"
      ]
     },
     "execution_count": null,
     "metadata": {},
     "output_type": "execute_result"
    }
   ],
   "source": [
    "c = AnyInt('c', 2).less_than(5)\n",
    "\n",
    "assert c.is_valid(4)\n",
    "assert not c.is_valid(5)\n",
    "c"
   ]
  },
  {
   "cell_type": "code",
   "execution_count": null,
   "metadata": {},
   "outputs": [
    {
     "data": {
      "text/plain": [
       "AnyInt().less_than_or_equal(5)"
      ]
     },
     "execution_count": null,
     "metadata": {},
     "output_type": "execute_result"
    }
   ],
   "source": [
    "c = AnyInt('c', 2).less_than_or_equal(5)\n",
    "\n",
    "assert c.is_valid(5)\n",
    "assert not c.is_valid(6)\n",
    "c"
   ]
  },
  {
   "cell_type": "markdown",
   "metadata": {},
   "source": [
    "# Build library"
   ]
  },
  {
   "cell_type": "code",
   "execution_count": null,
   "metadata": {},
   "outputs": [],
   "source": [
    "#| hide\n",
    "import nbdev; nbdev.nbdev_export()"
   ]
  },
  {
   "cell_type": "code",
   "execution_count": null,
   "metadata": {},
   "outputs": [],
   "source": []
  }
 ],
 "metadata": {
  "kernelspec": {
   "display_name": "Python 3 (ipykernel)",
   "language": "python",
   "name": "python3"
  }
 },
 "nbformat": 4,
 "nbformat_minor": 4
}
