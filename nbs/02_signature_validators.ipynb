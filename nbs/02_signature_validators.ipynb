{
 "cells": [
  {
   "cell_type": "code",
   "execution_count": null,
   "id": "4d41e701-761c-4b52-9343-6a6bc8d78a17",
   "metadata": {},
   "outputs": [],
   "source": [
    "#| default_exp signature_validators"
   ]
  },
  {
   "cell_type": "code",
   "execution_count": null,
   "id": "482842eb-3488-4b99-9fab-77b5304fcadd",
   "metadata": {},
   "outputs": [],
   "source": [
    "#| export\n",
    "from pymoq.argument_validators import ArgumentValidator, ArgumentFunctionValidator\n",
    "from typing import Any"
   ]
  },
  {
   "cell_type": "code",
   "execution_count": null,
   "id": "6d423209-5c42-40dc-9a20-e729fb7261eb",
   "metadata": {},
   "outputs": [],
   "source": [
    "#| export\n",
    "from fastcore.test import test_fail"
   ]
  },
  {
   "cell_type": "markdown",
   "id": "5ba598ab-7dc8-453f-a981-8f11e560b069",
   "metadata": {},
   "source": [
    "## Signature validators\n",
    "> Checking if signatures are valid"
   ]
  },
  {
   "cell_type": "markdown",
   "id": "e1ba1b06-2447-4bf0-8390-0da87d7b6ce3",
   "metadata": {},
   "source": [
    "A signature validator is simply a collection of argument validators. Its `is_valid` methods checks for a given list of arguments if all argument validators return valid."
   ]
  },
  {
   "cell_type": "code",
   "execution_count": null,
   "id": "4073f4aa-7ce5-4139-8d97-dddc81a4f056",
   "metadata": {},
   "outputs": [],
   "source": [
    "#| export\n",
    "class SignatureValidator:\n",
    "    \"This class holds a list of argument validators and can evaluate a list of arguments against those validators\"\n",
    "    def __init__(self, argument_validators: list[ArgumentValidator]):\n",
    "        self.argument_validators = argument_validators\n",
    "        self._named_validators = {validator.name: validator\n",
    "                                  for validator in self.argument_validators}\n",
    "        \n",
    "        self._positional_validators = {validator.position: validator\n",
    "                                      for validator in self.argument_validators}\n",
    "        \n",
    "        names = [validator.name for validator in self.argument_validators]\n",
    "        if len(names) != len(set(names)):\n",
    "            raise ValueError(f\"List of argument validators contains duplicate names: {names}\")\n",
    "            \n",
    "        positions = [validator.position for validator in self.argument_validators]\n",
    "        if len(positions) != len(set(positions)):\n",
    "            raise ValueError(f\"List of argument validators contains duplicate positions: {positions}\")\n",
    "        \n",
    "    def is_valid(self, *args: list[Any], **kwargs: dict[str, Any]) -> bool:\n",
    "        if len(args) > len(self.argument_validators): return False\n",
    "    \n",
    "        # positional arguments\n",
    "        for position, value in enumerate(args):\n",
    "            if not position in self._positional_validators.keys(): return False\n",
    "            \n",
    "            if not self._positional_validators[position].is_valid(value): return False\n",
    "        \n",
    "        # named arguments\n",
    "        for name,value in kwargs.items():\n",
    "            if name not in self._named_validators: return False\n",
    "        \n",
    "            if not self._named_validators[name].is_valid(value): return False\n",
    "        \n",
    "        return True"
   ]
  },
  {
   "cell_type": "code",
   "execution_count": null,
   "id": "62f443f6-e745-4a0f-9d5d-24dc39407b93",
   "metadata": {},
   "outputs": [],
   "source": [
    "any_int = ArgumentFunctionValidator(lambda v: isinstance(v, int), \"firstArgument\", 0)\n",
    "second_any_int = ArgumentFunctionValidator(lambda v: isinstance(v, int), \"secondArgument\", 1)\n",
    "\n",
    "s = SignatureValidator([any_int, second_any_int])"
   ]
  },
  {
   "cell_type": "markdown",
   "id": "da533734-faaa-4779-86c1-72140e4bcbc9",
   "metadata": {},
   "source": [
    "Calling a signature validator with only positional arguments works as expected:"
   ]
  },
  {
   "cell_type": "code",
   "execution_count": null,
   "id": "aebc62b1-03d2-4d9c-9353-ab2318d1efe2",
   "metadata": {},
   "outputs": [],
   "source": [
    "assert s.is_valid(1,1)\n",
    "assert not s.is_valid(1,\"1\")\n",
    "assert not s.is_valid(\"1\", 1)"
   ]
  },
  {
   "cell_type": "markdown",
   "id": "cefe6482-baf8-4b4d-b4ff-2dc9b949e3ad",
   "metadata": {},
   "source": [
    "Named arguments:"
   ]
  },
  {
   "cell_type": "code",
   "execution_count": null,
   "id": "83d1ea48-9ff8-4ad9-ab33-5552f8da0e46",
   "metadata": {},
   "outputs": [],
   "source": [
    "assert s.is_valid(1, secondArgument=1)\n",
    "assert not s.is_valid(1, named=\"1\")"
   ]
  },
  {
   "cell_type": "markdown",
   "id": "75e0e0a6-1f9c-420d-9232-3c972c376fc8",
   "metadata": {},
   "source": [
    "#### Edge cases"
   ]
  },
  {
   "cell_type": "markdown",
   "id": "489deff6-1b0a-4dd1-b598-5055883f68ba",
   "metadata": {},
   "source": [
    "Argument validators contain more than one element with the same name"
   ]
  },
  {
   "cell_type": "code",
   "execution_count": null,
   "id": "05a8063a-a119-4d63-98e9-5c43d8adba07",
   "metadata": {},
   "outputs": [],
   "source": [
    "test_fail(lambda : SignatureValidator([any_int, any_int]), \"duplicate names\")"
   ]
  },
  {
   "cell_type": "markdown",
   "id": "b6973150-27e6-405d-9199-4829d9fad02a",
   "metadata": {},
   "source": [
    "Argument validators contain more than one element with the same position"
   ]
  },
  {
   "cell_type": "code",
   "execution_count": null,
   "id": "d4bb7891-bd5a-49c0-8c84-22110397acfd",
   "metadata": {},
   "outputs": [],
   "source": [
    "second_any_int._position = any_int._position\n",
    "test_fail(lambda : SignatureValidator([any_int, second_any_int]), \"duplicate positions\")\n",
    "second_any_int._position = any_int._position + 1"
   ]
  },
  {
   "cell_type": "markdown",
   "id": "b519b682-e03f-42d8-9cfd-80ec66495a2d",
   "metadata": {},
   "source": [
    "More arguments than validators:"
   ]
  },
  {
   "cell_type": "code",
   "execution_count": null,
   "id": "5ce8eba5-7376-4495-a925-4083bb580039",
   "metadata": {},
   "outputs": [],
   "source": [
    "assert not s.is_valid(1,1,1)"
   ]
  },
  {
   "cell_type": "markdown",
   "id": "d0c5c5d5-933f-434c-8884-b48902db6e36",
   "metadata": {},
   "source": [
    "# Build library"
   ]
  },
  {
   "cell_type": "code",
   "execution_count": null,
   "id": "363ab0f0-7548-4fc6-a1bf-854efe15e55c",
   "metadata": {},
   "outputs": [],
   "source": [
    "#| hide\n",
    "import nbdev; nbdev.nbdev_export()"
   ]
  }
 ],
 "metadata": {
  "kernelspec": {
   "display_name": "Python 3 (ipykernel)",
   "language": "python",
   "name": "python3"
  }
 },
 "nbformat": 4,
 "nbformat_minor": 5
}
