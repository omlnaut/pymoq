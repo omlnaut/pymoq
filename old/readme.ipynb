{
 "cells": [
  {
   "cell_type": "markdown",
   "id": "74050b0a-5f0d-4051-a56c-8d5c14b266b5",
   "metadata": {},
   "source": [
    "# PyMoq"
   ]
  },
  {
   "cell_type": "markdown",
   "id": "d02595d9-6600-499d-8ea0-aebeb605ef24",
   "metadata": {},
   "source": [
    "This is a recreational attempt at replicating parts of the c# moq library."
   ]
  },
  {
   "cell_type": "code",
   "execution_count": 2,
   "id": "7a33e56d-c37f-4760-b746-1c6211db7f82",
   "metadata": {},
   "outputs": [],
   "source": [
    "from typing import Protocol\n",
    "\n",
    "class IWeb(Protocol):\n",
    "    def get(url: str) -> str:\n",
    "        pass"
   ]
  },
  {
   "cell_type": "markdown",
   "id": "547d388d",
   "metadata": {},
   "source": [
    "## Goals"
   ]
  },
  {
   "cell_type": "markdown",
   "id": "75cad520",
   "metadata": {},
   "source": [
    "- Create a mock based from an interface. It should throw an error if a function is called on it that doesn't exist on the interface\n",
    "\n",
    "    `m = Mock(IWeb)`\n",
    "\n",
    "    `m.func() --> throws an error that func doesn't exist on m`\n",
    "\n",
    "    `m.get() --> throws an error that function signature does not match`\n",
    "    \n",
    "- Set return types based on call signature. E.g.\n",
    "\n",
    "    `m.get.setup().returns(\"default for all calls\")` or\n",
    "\n",
    "    `m.get.setup(\"specific str\").returns(\"for that specific string\")` or\n",
    "\n",
    "    `m.get.setup(str).returns(\"for any string\")` or\n",
    "\n",
    "    `m.get.setup(ConditionType(str, lambda s: s.starts_with(\"a\"))).returns(\"for a string that matches the condition\")`\n",
    "\n",
    "- Validate calls based on signature. E.g.\n",
    "\n",
    "    `m.get.validate(\"specific str\").times(1)` or\n",
    "\n",
    "    `m.get.validate(str).times(0)` or\n",
    "\n",
    "    `m.get.validate(AnyType(str, lambda s: s.starts_with(\"a\"))).times(2)`"
   ]
  },
  {
   "cell_type": "markdown",
   "id": "8c440945-c0b2-42ed-8412-83aaa2bea216",
   "metadata": {
    "tags": []
   },
   "source": [
    "## Faking attributes"
   ]
  },
  {
   "cell_type": "markdown",
   "id": "73507ee5-0fef-4ed5-87c6-e60ddf2a15e4",
   "metadata": {
    "tags": []
   },
   "source": [
    "### Reading attributes"
   ]
  },
  {
   "cell_type": "markdown",
   "id": "e85acf8a-e07b-470f-ba8f-ee14bca0b96d",
   "metadata": {},
   "source": [
    "Listing all attributes is easy:"
   ]
  },
  {
   "cell_type": "code",
   "execution_count": 2,
   "id": "409f8fd2-5960-42bd-8231-3c67ca47f317",
   "metadata": {},
   "outputs": [
    {
     "data": {
      "text/plain": [
       "['__abstractmethods__',\n",
       " '__annotations__',\n",
       " '__class__',\n",
       " '__class_getitem__',\n",
       " '__delattr__',\n",
       " '__dict__',\n",
       " '__dir__',\n",
       " '__doc__',\n",
       " '__eq__',\n",
       " '__format__',\n",
       " '__ge__',\n",
       " '__getattribute__',\n",
       " '__gt__',\n",
       " '__hash__',\n",
       " '__init__',\n",
       " '__init_subclass__',\n",
       " '__le__',\n",
       " '__lt__',\n",
       " '__module__',\n",
       " '__ne__',\n",
       " '__new__',\n",
       " '__parameters__',\n",
       " '__reduce__',\n",
       " '__reduce_ex__',\n",
       " '__repr__',\n",
       " '__setattr__',\n",
       " '__sizeof__',\n",
       " '__slots__',\n",
       " '__str__',\n",
       " '__subclasshook__',\n",
       " '__weakref__',\n",
       " '_abc_impl',\n",
       " '_is_protocol',\n",
       " '_is_runtime_protocol',\n",
       " 'get']"
      ]
     },
     "execution_count": 2,
     "metadata": {},
     "output_type": "execute_result"
    }
   ],
   "source": [
    "dir(IWeb)"
   ]
  },
  {
   "cell_type": "markdown",
   "id": "4ca9dacd-0c1b-4089-8e26-cd0adbf8bd02",
   "metadata": {},
   "source": [
    "These have to be filtered, we only need the 'public' attributes. By convention, these are the ones not starting with an underscore."
   ]
  },
  {
   "cell_type": "code",
   "execution_count": 3,
   "id": "8252e3f6-75d9-447d-b30c-7b3998f8aa88",
   "metadata": {},
   "outputs": [],
   "source": [
    "from typing import Any, List\n",
    "\n",
    "def is_public(name: str) -> bool:\n",
    "    return not name.startswith('_')\n",
    "\n",
    "def get_public_attributes(cls : Any) -> List[str]:\n",
    "    return list(filter(is_public, dir(cls)))"
   ]
  },
  {
   "cell_type": "code",
   "execution_count": 4,
   "id": "af82f998-8bf4-4829-80bf-644d95ce4e58",
   "metadata": {},
   "outputs": [
    {
     "data": {
      "text/plain": [
       "['get']"
      ]
     },
     "execution_count": 4,
     "metadata": {},
     "output_type": "execute_result"
    }
   ],
   "source": [
    "get_public_attributes(IWeb)"
   ]
  },
  {
   "cell_type": "markdown",
   "id": "7c6fac16-26f9-459c-8cc8-70862aca998e",
   "metadata": {},
   "source": [
    "### Get Function by name"
   ]
  },
  {
   "cell_type": "markdown",
   "id": "68911c53-873c-4ed0-92b0-3bde735b1921",
   "metadata": {},
   "source": [
    "The string name of the functions from above can easily be used to access the corresponding function objects of a class:"
   ]
  },
  {
   "cell_type": "code",
   "execution_count": 5,
   "id": "fbd86b6d-d53f-4e39-8cea-a1fe03ec307f",
   "metadata": {},
   "outputs": [
    {
     "data": {
      "text/plain": [
       "<function __main__.IWeb.get(url: str) -> str>"
      ]
     },
     "execution_count": 5,
     "metadata": {},
     "output_type": "execute_result"
    }
   ],
   "source": [
    "getattr(IWeb, 'get')"
   ]
  },
  {
   "cell_type": "markdown",
   "id": "28075ede-94a2-4b70-a539-178cbb21e250",
   "metadata": {},
   "source": [
    "### Signature validation"
   ]
  },
  {
   "cell_type": "markdown",
   "id": "25317239-789c-412b-b13d-6526dddbdc44",
   "metadata": {},
   "source": [
    "The inspect module gives easy access to the signature of a callable:"
   ]
  },
  {
   "cell_type": "code",
   "execution_count": 6,
   "id": "b50e9538-ea94-4e8d-90dc-67e8c97cb635",
   "metadata": {},
   "outputs": [
    {
     "data": {
      "text/plain": [
       "<Signature (url: str) -> str>"
      ]
     },
     "execution_count": 6,
     "metadata": {},
     "output_type": "execute_result"
    }
   ],
   "source": [
    "from inspect import signature\n",
    "\n",
    "sig = signature(IWeb.get)\n",
    "sig"
   ]
  },
  {
   "cell_type": "markdown",
   "id": "6b276b2d-472d-4388-9a03-deb46a731e75",
   "metadata": {},
   "source": [
    "We can also check if a given argument list is enough to call a function with the given signature:"
   ]
  },
  {
   "cell_type": "code",
   "execution_count": 10,
   "id": "37cb7000-56bb-463d-89b5-77d844b91a31",
   "metadata": {},
   "outputs": [
    {
     "data": {
      "text/plain": [
       "<BoundArguments (url='url')>"
      ]
     },
     "execution_count": 10,
     "metadata": {},
     "output_type": "execute_result"
    }
   ],
   "source": [
    "sig.bind('url')"
   ]
  },
  {
   "cell_type": "code",
   "execution_count": 11,
   "id": "3c37c676-47b6-4b47-aad5-aaefc38ce6e5",
   "metadata": {},
   "outputs": [
    {
     "name": "stdout",
     "output_type": "stream",
     "text": [
      "missing a required argument: 'url'\n"
     ]
    }
   ],
   "source": [
    "try:\n",
    "    sig.bind()\n",
    "except Exception as e:\n",
    "    print(e)"
   ]
  },
  {
   "cell_type": "markdown",
   "id": "702779ad-b6ad-4f4e-a71b-d70daebdc6e8",
   "metadata": {},
   "source": [
    "From this, we can create a wrapper that checks for the validity of a call, then does some optional pattern matching on the given arguments."
   ]
  },
  {
   "cell_type": "code",
   "execution_count": 186,
   "id": "ca9e04dc-e4af-4849-bdab-4d22228c4974",
   "metadata": {},
   "outputs": [],
   "source": [
    "from typing import Callable\n",
    "import sys\n",
    "\n",
    "class FunctionMocker:\n",
    "    def __init__(self, target_function: Callable[[Any], Any], top_level: str=\"\"):\n",
    "        self.name = target_function.__name__\n",
    "        self.target_signature = signature(target_function)\n",
    "        self._error_prefix = f'{top_level}.' if top_level else ''\n",
    "        \n",
    "    def _validate_signature(self, *args, **kwargs):\n",
    "        try:\n",
    "            self.target_signature.bind(*args, **kwargs)\n",
    "        except TypeError as e:\n",
    "            ei = sys.exc_info()\n",
    "            raise ei[0](TypeError(f'{self._error_prefix}{self.name}{self.target_signature}: {e}')).with_traceback(ei[2].tb_next.tb_next.tb_next) from None\n",
    "            #raise ei[0], TypeError(f'{self._error_prefix}{self.name}{self.target_signature}: {e}'), ei[2].tb_next\n",
    "            #raise TypeError(f'{self._error_prefix}{self.name}{self.target_signature}: {e}') from None\n",
    "        \n",
    "    def __call__(self, *args, **kwargs):\n",
    "        self._validate_signature(*args, **kwargs)\n",
    "        \n",
    "        print('Correct signature, start pattern matching')\n",
    "        \n",
    "    def setup(self):\n",
    "        pass\n",
    "        \n",
    "    def __str__(self):\n",
    "        return f'Moq: {self.name}{self.target_signature}'\n",
    "    \n",
    "    def __repr__(self):\n",
    "        return str(self)"
   ]
  },
  {
   "cell_type": "code",
   "execution_count": 148,
   "id": "601939b1-7f34-4233-9efc-238b70b4cadf",
   "metadata": {},
   "outputs": [
    {
     "name": "stdout",
     "output_type": "stream",
     "text": [
      "Correct signature, start pattern matching\n"
     ]
    }
   ],
   "source": [
    "f = FunctionMocker(IWeb.get)\n",
    "f('url')"
   ]
  },
  {
   "cell_type": "code",
   "execution_count": 149,
   "id": "4f618b78-b4c4-4ee8-91ac-d92d6233e5a3",
   "metadata": {},
   "outputs": [
    {
     "name": "stdout",
     "output_type": "stream",
     "text": [
      "get(url: str) -> str: missing a required argument: 'url'\n"
     ]
    }
   ],
   "source": [
    "try:\n",
    "    f()\n",
    "except TypeError as e:\n",
    "    print(e)"
   ]
  },
  {
   "cell_type": "markdown",
   "id": "644caef0-4887-4fc1-a176-c85c7526fe0c",
   "metadata": {},
   "source": [
    "### A first simple Mocker"
   ]
  },
  {
   "cell_type": "markdown",
   "id": "4b0fc15d-1b75-41e6-8342-a370ddf39072",
   "metadata": {},
   "source": [
    "With the `FunctionMocker` from above we can implement a simple version of a class-specific Mocker."
   ]
  },
  {
   "cell_type": "code",
   "execution_count": 159,
   "id": "c18a6dab-8499-4e0b-81ae-db742f906fb1",
   "metadata": {},
   "outputs": [],
   "source": [
    "from typing import TypeVar, Type\n",
    "T = TypeVar('T')\n",
    "\n",
    "class Moq:\n",
    "    def __init__(self, cls: Type[T]) -> T:\n",
    "        self.cls_name = cls.__name__\n",
    "        self._extract_attributes(cls)\n",
    "        \n",
    "    def _extract_attributes(self, cls):\n",
    "        self.attribute_names = get_public_attributes(cls)\n",
    "        self.moq_functions = {name: FunctionMocker(getattr(cls, name), self.cls_name)\n",
    "                              for name in self.attribute_names}\n",
    "        \n",
    "    def __getattr__(self, name):\n",
    "        if name not in self.moq_functions:\n",
    "            raise AttributeError(f\"No attribute with name '{name}' in class {self.cls_name}\")\n",
    "            \n",
    "        return self.moq_functions[name]\n",
    "    \n",
    "    def __dir__(self):\n",
    "        return dir(super()) + self.attribute_names"
   ]
  },
  {
   "cell_type": "code",
   "execution_count": 160,
   "id": "fa48595e-03c1-455f-9cff-baeeb40da8fb",
   "metadata": {},
   "outputs": [],
   "source": [
    "m = Moq(IWeb)"
   ]
  },
  {
   "cell_type": "code",
   "execution_count": 161,
   "id": "e1b9e627-c20a-405b-8bc7-82de5dbf3ffd",
   "metadata": {},
   "outputs": [],
   "source": [
    "def function_to_test():\n",
    "    a = 1\n",
    "    m.get()\n",
    "    return a+2"
   ]
  },
  {
   "cell_type": "markdown",
   "id": "c58f7979-d188-4a42-8a0b-fdf362e56d81",
   "metadata": {},
   "source": [
    "Calling a function with an incorrect argument:"
   ]
  },
  {
   "cell_type": "code",
   "execution_count": 162,
   "id": "eab31fa8-b613-4bdf-825c-633a0bc38e5b",
   "metadata": {},
   "outputs": [
    {
     "name": "stdout",
     "output_type": "stream",
     "text": [
      "IWeb.get(url: str) -> str: missing a required argument: 'url'\n"
     ]
    }
   ],
   "source": [
    "try:\n",
    "    function_to_test()\n",
    "except Exception as e:\n",
    "    print(e)"
   ]
  },
  {
   "cell_type": "markdown",
   "id": "a4e63304-1e91-4b3d-8e50-f8f035f357e6",
   "metadata": {},
   "source": [
    "Calling a not existing function:"
   ]
  },
  {
   "cell_type": "code",
   "execution_count": 163,
   "id": "968af1f9-a355-441d-8930-074484dfe631",
   "metadata": {},
   "outputs": [
    {
     "name": "stdout",
     "output_type": "stream",
     "text": [
      "No attribute with name 'not_found' in class IWeb\n"
     ]
    }
   ],
   "source": [
    "try:\n",
    "    m.not_found\n",
    "except AttributeError as e:\n",
    "    print(e)"
   ]
  },
  {
   "cell_type": "code",
   "execution_count": 187,
   "id": "d8d40ec9-21a6-4f0e-97b0-b95c112f0d4d",
   "metadata": {},
   "outputs": [],
   "source": [
    "import types"
   ]
  },
  {
   "cell_type": "code",
   "execution_count": 188,
   "id": "b786d692-b78c-4bb2-a66f-0d229c493063",
   "metadata": {},
   "outputs": [],
   "source": [
    "names = ['get']"
   ]
  },
  {
   "cell_type": "code",
   "execution_count": 189,
   "id": "7115242b-77c0-4c1a-afc4-447308768cfc",
   "metadata": {},
   "outputs": [],
   "source": [
    "a = type('A', (), {name: FunctionMocker(IWeb.get) for name in names})"
   ]
  },
  {
   "cell_type": "code",
   "execution_count": 190,
   "id": "3233ba6b-5a55-4671-9d27-fa26b5db0856",
   "metadata": {},
   "outputs": [],
   "source": [
    "b = a()"
   ]
  },
  {
   "cell_type": "code",
   "execution_count": 191,
   "id": "0a622990-3588-4d4a-a98a-f70a2c4431d2",
   "metadata": {},
   "outputs": [
    {
     "data": {
      "text/plain": [
       "__main__.A"
      ]
     },
     "execution_count": 191,
     "metadata": {},
     "output_type": "execute_result"
    }
   ],
   "source": [
    "type(b)"
   ]
  },
  {
   "cell_type": "code",
   "execution_count": 193,
   "id": "e487ed2a-0c91-4341-9c77-e757d33e7bc0",
   "metadata": {},
   "outputs": [
    {
     "data": {
      "text/plain": [
       "<bound method FunctionMocker.setup of Moq: get(url: str) -> str>"
      ]
     },
     "execution_count": 193,
     "metadata": {},
     "output_type": "execute_result"
    }
   ],
   "source": [
    "b.get.setup"
   ]
  },
  {
   "cell_type": "code",
   "execution_count": null,
   "id": "18831351-6060-483e-b498-2a00597d7e88",
   "metadata": {},
   "outputs": [],
   "source": []
  }
 ],
 "metadata": {
  "kernelspec": {
   "display_name": "Python 3.10.2 64-bit",
   "language": "python",
   "name": "python3"
  },
  "language_info": {
   "codemirror_mode": {
    "name": "ipython",
    "version": 3
   },
   "file_extension": ".py",
   "mimetype": "text/x-python",
   "name": "python",
   "nbconvert_exporter": "python",
   "pygments_lexer": "ipython3",
   "version": "3.10.2"
  },
  "vscode": {
   "interpreter": {
    "hash": "148e52d79fa19b7d3ef7b16da2a7976a99613c3a2f456ce9477896b8d8aca4cd"
   }
  }
 },
 "nbformat": 4,
 "nbformat_minor": 5
}
