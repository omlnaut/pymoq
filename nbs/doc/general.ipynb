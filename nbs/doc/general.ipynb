{
 "cells": [
  {
   "cell_type": "code",
   "execution_count": null,
   "metadata": {},
   "outputs": [
    {
     "name": "stdout",
     "output_type": "stream",
     "text": [
      "Note: you may need to restart the kernel to use updated packages.\n"
     ]
    }
   ],
   "source": [
    "#| hide\n",
    "from pymoq.all import *\n",
    "\n",
    "%pip install pytest -q\n",
    "import pytest"
   ]
  },
  {
   "attachments": {},
   "cell_type": "markdown",
   "metadata": {},
   "source": [
    "# General structure"
   ]
  },
  {
   "cell_type": "code",
   "execution_count": null,
   "metadata": {},
   "outputs": [],
   "source": [
    "from typing import Protocol\n",
    "\n",
    "class IWeb(Protocol):\n",
    "    \"Interface for accessing internet resources\"\n",
    "    \n",
    "    def get(self, url:str, page:int, verbose:bool=False) -> str:\n",
    "        \"Fetches the ressource at `url` and returns it in string representation\""
   ]
  },
  {
   "cell_type": "code",
   "execution_count": null,
   "metadata": {},
   "outputs": [],
   "source": [
    "class RessourceFetcher:\n",
    "    base_url: str = \"https://some_base.com/\"\n",
    "    \n",
    "    def __init__(self, web: IWeb):\n",
    "        self._web = web\n",
    "    \n",
    "    def check_ressource(self, ressource_name: str, page:int, verbose:bool=False) -> bool:\n",
    "        url = self.base_url + ressource_name\n",
    "        ressource = self._web.get(url, page, verbose)\n",
    "        \n",
    "        return ressource is not None"
   ]
  },
  {
   "attachments": {},
   "cell_type": "markdown",
   "metadata": {},
   "source": [
    "The general structure of pymoqs workflows is:"
   ]
  },
  {
   "attachments": {},
   "cell_type": "markdown",
   "metadata": {},
   "source": [
    "## Setup\n"
   ]
  },
  {
   "cell_type": "code",
   "execution_count": null,
   "metadata": {},
   "outputs": [],
   "source": [
    "#| hide\n",
    "ArbitrarySignatureValidator = \"\"\n",
    "ArbitraryReturnValueGenerator = \"\""
   ]
  },
  {
   "cell_type": "code",
   "execution_count": null,
   "metadata": {},
   "outputs": [],
   "source": [
    "mock = Mock(IWeb)\n",
    "\n",
    "mock.get\\\n",
    "    .setup(ArbitrarySignatureValidator)\\\n",
    "    .returns(ArbitraryReturnValueGenerator)"
   ]
  },
  {
   "attachments": {},
   "cell_type": "markdown",
   "metadata": {},
   "source": [
    "In general, a `SignatureValidator` is a list of `ArgumentValidator` `s`.\n",
    "\n",
    "An object following the `ArgumentValidator` protocol has, among other properties, a `is_valid` method that accepts a single argument and returns a bool, indicating if the given argument matches the expected conditions. Conditions might be a type check, a direct value check or something else entirely (e.g. \"is it a string that starts with 'py'?).\n",
    "\n",
    "To make construcing a suitable list of `ArgumentValidator` `s` more convenient, there are a bunch of shortcuts for passing values to the `setup` method. They coded in `argument_validator_from_argument`. As of 2023-03-18, the shortcuts are:\n",
    "\n",
    "- If an object is passed that satisfies the `ArgumentValidator` Protocol, it is used without any alteration\n",
    "- If a type is passed, an `ArgumentFunctionValidator` is constructed that matches against that type\n",
    "- If a Callable is passed, an `ArgumentFunctionValidator` is constructed that passes the argument through to the callable\n",
    "- In any other case, an `ArgumentFunctionValidator` is constructed that matches the argument against the passed value\n",
    "\n",
    "\n",
    "In the example:"
   ]
  },
  {
   "cell_type": "code",
   "execution_count": null,
   "metadata": {},
   "outputs": [],
   "source": [
    "mock = Mock(IWeb)\n",
    "mock.get\\\n",
    "    .setup('https://some_base.com/ressource', int, False);"
   ]
  },
  {
   "attachments": {},
   "cell_type": "markdown",
   "metadata": {},
   "source": [
    "- The first argument constructs a `ArgumentValidator` that returns true iff the string `https://some_base.com/ressource` is passed (last case)\n",
    "- The second argument constructs a `ArgumentValidator` that returns true iff the passed argument is of type `int` (second case)\n",
    "- The third argument constructs a `ArgumentValidator` that returns true iff the passed argument hast the value `False` (last case)\n",
    "\n",
    "The first argument could also be an arbitrary function evaluation like:\n"
   ]
  },
  {
   "cell_type": "code",
   "execution_count": null,
   "metadata": {},
   "outputs": [],
   "source": [
    "mock.get\\\n",
    "    .setup(lambda arg: isinstance(arg, str) and arg.startswith('https'), int, False);"
   ]
  },
  {
   "attachments": {},
   "cell_type": "markdown",
   "metadata": {},
   "source": [
    "This now matches against any `arg` that is of type `string` and starts with the substring `https`."
   ]
  },
  {
   "attachments": {},
   "cell_type": "markdown",
   "metadata": {},
   "source": [
    "## Return Action"
   ]
  },
  {
   "attachments": {},
   "cell_type": "markdown",
   "metadata": {},
   "source": [
    "If the a call on a mock satisfies one of the setups, the corresponding return action is invoked:"
   ]
  },
  {
   "cell_type": "code",
   "execution_count": null,
   "metadata": {},
   "outputs": [],
   "source": [
    "mock.get\\\n",
    "    .setup(ArbitrarySignatureValidator)\\\n",
    "    .returns(ArbitraryReturnValueGenerator)"
   ]
  },
  {
   "attachments": {},
   "cell_type": "markdown",
   "metadata": {},
   "source": [
    "The `ArbitraryReturnValueGenerator` is an object that follows the `ReturnValueGenerator` protocol. Essentially thats any callable. `pymoq` passes the arguments that were used in the specific call to the `ReturnValueGenerator`, enabling the user to return values depending on the concrete arguments used in each call.\n",
    "\n",
    "To make constructing a `ReturnValueGenerator` more convenient, one can pass a non-callable object. `pymoq` constructs a `ReturnValueGenerator` from this that takes in any number of arguments and always returns that one value.\n",
    "\n",
    "E.g."
   ]
  },
  {
   "cell_type": "code",
   "execution_count": null,
   "metadata": {},
   "outputs": [],
   "source": [
    "mock.get\\\n",
    "    .setup('https://some_base.com/ressource', int, False)\\\n",
    "    .returns(True)\n",
    "\n",
    "assert mock.get('https://some_base.com/ressource', 0, False)\n",
    "assert mock.get('https://some_base.com/ressource', 1, False)"
   ]
  },
  {
   "attachments": {},
   "cell_type": "markdown",
   "metadata": {},
   "source": [
    "will always return `True` (if the signature matches the validator in the setup function).\n",
    "\n",
    "In contrast,"
   ]
  },
  {
   "cell_type": "code",
   "execution_count": null,
   "metadata": {},
   "outputs": [],
   "source": [
    "mock.get\\\n",
    "    .setup('https://some_base.com/ressource', int, False)\\\n",
    "    .returns(lambda self, url, page, verbose: page+1)\n",
    "\n",
    "assert mock.get('https://some_base.com/ressource', 0, False) == 1\n",
    "assert mock.get('https://some_base.com/ressource', 5, False) == 6"
   ]
  },
  {
   "attachments": {},
   "cell_type": "markdown",
   "metadata": {},
   "source": [
    "will return `page + 1`, making the return value dependent on the caller value."
   ]
  },
  {
   "attachments": {},
   "cell_type": "markdown",
   "metadata": {},
   "source": [
    "### Return sequence"
   ]
  },
  {
   "attachments": {},
   "cell_type": "markdown",
   "metadata": {},
   "source": [
    "It's possible to setup a sequence of return values. For each invocation that matches the signature validator, the next value of the sequence is returned. If the sequence is empty, `None` is returned."
   ]
  },
  {
   "cell_type": "code",
   "execution_count": null,
   "metadata": {},
   "outputs": [
    {
     "name": "stdout",
     "output_type": "stream",
     "text": [
      "None\n"
     ]
    }
   ],
   "source": [
    "mock = Mock(IWeb)\n",
    "mock.get.setup('resource', int, bool).returns_sequence([1,2,3])\n",
    "\n",
    "assert mock.get('resource', 1, True)==1\n",
    "assert mock.get('resource', 2, False)==2\n",
    "assert mock.get('resource', 3, True)==3\n",
    "\n",
    "print(mock.get('ressource', 1, True))"
   ]
  },
  {
   "attachments": {},
   "cell_type": "markdown",
   "metadata": {},
   "source": [
    "### Return exceptions"
   ]
  },
  {
   "attachments": {},
   "cell_type": "markdown",
   "metadata": {},
   "source": [
    "A return action could also be the throwing of an exception:"
   ]
  },
  {
   "cell_type": "code",
   "execution_count": null,
   "metadata": {},
   "outputs": [],
   "source": [
    "class WebException(Exception):\n",
    "    \"\"\"Exception that describes web-access errors\"\"\"\n",
    "\n",
    "\n",
    "mock = Mock(IWeb)\n",
    "fetcher = RessourceFetcher(mock)\n",
    "\n",
    "# setup failing web call\n",
    "mock.get.setup('https://some_base.com/unavailable_ressource', int, bool).throws(WebException())\n",
    "\n",
    "# act and assert exception\n",
    "with pytest.raises(WebException):\n",
    "    fetcher.check_ressource('unavailable_ressource', 1, True)\n",
    "    \n",
    "# does not raise exception if call signature does not match\n",
    "fetcher.check_ressource('available_ressource', 1, True);\n"
   ]
  },
  {
   "attachments": {},
   "cell_type": "markdown",
   "metadata": {},
   "source": [
    "## Verification"
   ]
  },
  {
   "cell_type": "markdown",
   "metadata": {},
   "source": []
  }
 ],
 "metadata": {
  "kernelspec": {
   "display_name": "python3",
   "language": "python",
   "name": "python3"
  }
 },
 "nbformat": 4,
 "nbformat_minor": 2
}
