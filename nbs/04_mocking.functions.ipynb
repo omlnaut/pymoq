{
 "cells": [
  {
   "cell_type": "code",
   "execution_count": null,
   "id": "bef9c6a0-0a1f-4611-aa92-a4e189a88ff8",
   "metadata": {},
   "outputs": [],
   "source": [
    "#| default_exp mocking.functions"
   ]
  },
  {
   "cell_type": "code",
   "execution_count": null,
   "id": "374438ac-4c1b-4d2c-b212-735f1b9106ef",
   "metadata": {},
   "outputs": [],
   "source": [
    "%load_ext autoreload\n",
    "%autoreload 2"
   ]
  },
  {
   "cell_type": "code",
   "execution_count": null,
   "id": "3abeee2f-bb1c-4de1-b433-a6ff19e35b98",
   "metadata": {},
   "outputs": [],
   "source": [
    "#| export\n",
    "import inspect\n",
    "from typing import Any\n",
    "\n",
    "from pymoq.core import AnyCallable\n",
    "from pymoq.argument_validators import ArgumentFunctionValidator\n",
    "from pymoq.signature_validators import SignatureValidator, signature_validator_from_arguments\n",
    "from pymoq.return_value_generators import ReturnValueGenerator\n",
    "\n",
    "from fastcore.basics import patch_to"
   ]
  },
  {
   "cell_type": "code",
   "execution_count": null,
   "id": "b39cdce9-78a8-48b3-b8f5-2a590490763b",
   "metadata": {},
   "outputs": [],
   "source": [
    "#| hide\n",
    "from fastcore.test import test_fail\n",
    "from nbdev.showdoc import show_doc"
   ]
  },
  {
   "cell_type": "markdown",
   "id": "6494f4e2-7b69-45c9-b329-5c9a63a493de",
   "metadata": {},
   "source": [
    "# Mocking functions\n",
    "> From function object to function mock"
   ]
  },
  {
   "cell_type": "markdown",
   "id": "39f3f754-bfe2-466f-81b3-6e94c6dfd315",
   "metadata": {},
   "source": [
    "## Checking arguments against original signature"
   ]
  },
  {
   "cell_type": "markdown",
   "id": "666c8b77-723c-413c-a8e6-f0d0001f1ec5",
   "metadata": {},
   "source": [
    "For a given argument list, we want to know whether the original function can be called with that set of parameters. This can be done in two steps:\n",
    "1. Extract the signature\n",
    "2. Try to bind the argument list against the signature. This throws an exception if the arguments can not be matched against the signature"
   ]
  },
  {
   "cell_type": "markdown",
   "id": "46801fb2-7bbf-4a1f-a846-52f104edc7c3",
   "metadata": {},
   "source": [
    "### Binding free methods"
   ]
  },
  {
   "cell_type": "code",
   "execution_count": null,
   "id": "e1fb8d18-2b4c-46f6-98cd-de41cf3b867f",
   "metadata": {},
   "outputs": [],
   "source": [
    "def f(a: int, b: str, c:str|None =None) -> None:\n",
    "    pass"
   ]
  },
  {
   "cell_type": "markdown",
   "id": "ce1acb3c-12a2-4297-954a-aa8cb76b52d8",
   "metadata": {},
   "source": [
    "Successful bind:"
   ]
  },
  {
   "cell_type": "code",
   "execution_count": null,
   "id": "ee03d408-ef0d-4042-bea0-5706dafb742e",
   "metadata": {},
   "outputs": [
    {
     "data": {
      "text/plain": [
       "<BoundArguments (a=1, b='1', c='2')>"
      ]
     },
     "execution_count": null,
     "metadata": {},
     "output_type": "execute_result"
    }
   ],
   "source": [
    "inspect.signature(f).bind(1, \"1\", \"2\")"
   ]
  },
  {
   "cell_type": "markdown",
   "id": "fde587be-f554-4c6a-9a99-c132ca9c8f96",
   "metadata": {},
   "source": [
    "Unsuccessful bind:"
   ]
  },
  {
   "cell_type": "code",
   "execution_count": null,
   "id": "ace6fd28-1e86-46df-b7bb-833a25e99ed4",
   "metadata": {},
   "outputs": [
    {
     "name": "stdout",
     "output_type": "stream",
     "text": [
      "missing a required argument: 'b'\n"
     ]
    }
   ],
   "source": [
    "try:\n",
    "    inspect.signature(f).bind(1)\n",
    "except Exception as e:\n",
    "    print(e)"
   ]
  },
  {
   "cell_type": "markdown",
   "id": "02029fbd-3d1e-424e-b227-782f62a09491",
   "metadata": {},
   "source": [
    "### Binding class methods"
   ]
  },
  {
   "cell_type": "markdown",
   "id": "1db119f7-585f-428d-af1c-3b2a3b7e6011",
   "metadata": {},
   "source": [
    "When binding class methods, the special case of the self parameter has to be considered."
   ]
  },
  {
   "cell_type": "code",
   "execution_count": null,
   "id": "4075f2f0-842f-4f85-860f-24f3320a740e",
   "metadata": {},
   "outputs": [],
   "source": [
    "class A:\n",
    "    def f(self, a:int):\n",
    "        return a+1"
   ]
  },
  {
   "cell_type": "code",
   "execution_count": null,
   "id": "263e9df7-96b0-4271-85d2-6edbca988ed2",
   "metadata": {},
   "outputs": [
    {
     "name": "stdout",
     "output_type": "stream",
     "text": [
      "missing a required argument: 'a'\n"
     ]
    }
   ],
   "source": [
    "signature = inspect.signature(A.f)\n",
    "\n",
    "try:\n",
    "    signature.bind(1)\n",
    "except Exception as e:\n",
    "    print(e)    "
   ]
  },
  {
   "cell_type": "markdown",
   "id": "932d467a-fa84-4093-b276-39e1f1b63ede",
   "metadata": {},
   "source": [
    "We will mark a function as 'class'-function if it has a parameter called 'self'."
   ]
  },
  {
   "cell_type": "code",
   "execution_count": null,
   "id": "7e2681aa-4ae5-449b-a92c-5cfff19fd91a",
   "metadata": {},
   "outputs": [],
   "source": [
    "#| export\n",
    "def is_class_method(func: AnyCallable) -> bool:\n",
    "    \"Returns true if the given function has a parameter called 'self'\"\n",
    "    signature = inspect.signature(func)\n",
    "    return 'self' in signature.parameters"
   ]
  },
  {
   "cell_type": "code",
   "execution_count": null,
   "id": "8e2ba72e-2610-44cd-8db8-7268a50acfe3",
   "metadata": {},
   "outputs": [],
   "source": [
    "assert is_class_method(A.f)\n",
    "assert not is_class_method(f)"
   ]
  },
  {
   "cell_type": "code",
   "execution_count": null,
   "id": "1e7d2993-7fee-4412-8065-6b3ac0f6af2c",
   "metadata": {},
   "outputs": [],
   "source": [
    "#| export\n",
    "def add_self_parameter(args: tuple[Any]) -> list[Any]:\n",
    "    return (None,) + args"
   ]
  },
  {
   "cell_type": "markdown",
   "id": "68d45941-32a8-49cd-817f-04554fba63fd",
   "metadata": {},
   "source": [
    "### Function Mock"
   ]
  },
  {
   "cell_type": "code",
   "execution_count": null,
   "id": "9967eb12-5d92-475c-9c02-04c1471ff9e7",
   "metadata": {},
   "outputs": [],
   "source": [
    "#| export\n",
    "class FunctionMock:\n",
    "    \"Mocks a function object based on its signature\"\n",
    "    def __init__(self, func: AnyCallable):\n",
    "        self._func = func\n",
    "        self._signature = inspect.signature(self._func)\n",
    "        self._setups = []\n",
    "        \n",
    "        self._is_class_method = is_class_method(self._func)\n",
    "        \n",
    "    def arguments_valid(self, *args, **kwargs) -> None:\n",
    "        \"Given an arbitrary argument list (both positional and keyword arguments), returns True if the mocked function could be called with those arguments\"\n",
    "        self._signature.bind(*args, **kwargs)\n",
    "        return True"
   ]
  },
  {
   "cell_type": "code",
   "execution_count": null,
   "id": "f428de3d-1e21-42fe-a055-150f13801455",
   "metadata": {},
   "outputs": [],
   "source": [
    "mock = FunctionMock(f)"
   ]
  },
  {
   "cell_type": "markdown",
   "id": "55d1d805-bb42-4804-96da-a22d2cd43ad6",
   "metadata": {},
   "source": [
    "Successful binds:"
   ]
  },
  {
   "cell_type": "code",
   "execution_count": null,
   "id": "0b8a10f0-021c-4cf4-801c-124d8cfddb46",
   "metadata": {},
   "outputs": [],
   "source": [
    "assert mock.arguments_valid(1, \"1\", \"2\")\n",
    "assert mock.arguments_valid(1, \"1\")\n",
    "assert mock.arguments_valid(1, \"1\", c=\"2\")\n",
    "assert mock.arguments_valid(a=1, b=\"1\", c=\"2\")"
   ]
  },
  {
   "cell_type": "markdown",
   "id": "42cdb2e0-803e-4dfa-b7a9-0937df8faf9e",
   "metadata": {},
   "source": [
    "Note that the types are not checked with this:"
   ]
  },
  {
   "cell_type": "code",
   "execution_count": null,
   "id": "b715ce8f-bbc5-45c9-a55a-1b28ff798ed8",
   "metadata": {},
   "outputs": [],
   "source": [
    "assert mock.arguments_valid(1, 1)"
   ]
  },
  {
   "cell_type": "markdown",
   "id": "c6c9b539-2e41-460c-89ed-dc59a96306c3",
   "metadata": {},
   "source": [
    "Unsuccessful binds might be:"
   ]
  },
  {
   "cell_type": "code",
   "execution_count": null,
   "id": "7aa85585-071a-48c8-9e01-362d85a340c5",
   "metadata": {},
   "outputs": [],
   "source": [
    "def show_exception(func: AnyCallable):\n",
    "    try:\n",
    "        func()\n",
    "    except Exception as e:\n",
    "        print(e)\n",
    "        return\n",
    "    assert False, \"Expected Exception to be thrown\""
   ]
  },
  {
   "cell_type": "code",
   "execution_count": null,
   "id": "ee59263e-7fd8-4061-a8a6-58adb6854ab2",
   "metadata": {},
   "outputs": [
    {
     "name": "stdout",
     "output_type": "stream",
     "text": [
      "missing a required argument: 'b'\n"
     ]
    }
   ],
   "source": [
    "show_exception(lambda: mock.arguments_valid(1))# too few arguments"
   ]
  },
  {
   "cell_type": "code",
   "execution_count": null,
   "id": "a216303f-51f6-40c5-9786-b5d8c5b595e9",
   "metadata": {},
   "outputs": [
    {
     "name": "stdout",
     "output_type": "stream",
     "text": [
      "too many positional arguments\n"
     ]
    }
   ],
   "source": [
    "show_exception(lambda:mock.arguments_valid(1,2,3,4)) # too many arguments"
   ]
  },
  {
   "cell_type": "code",
   "execution_count": null,
   "id": "56534589-e937-4ce0-8d89-c065c285ea64",
   "metadata": {},
   "outputs": [
    {
     "name": "stdout",
     "output_type": "stream",
     "text": [
      "got an unexpected keyword argument 'd'\n"
     ]
    }
   ],
   "source": [
    "show_exception(lambda: mock.arguments_valid(1,2,d=3)) # unknown argument name"
   ]
  },
  {
   "cell_type": "markdown",
   "id": "7e25776d-8ca9-4049-9a2b-2d629a916fd3",
   "metadata": {},
   "source": [
    "Special case class method. Note that when calling `arguments_valid` directly, we need to pass in a dummy `self` argument."
   ]
  },
  {
   "cell_type": "code",
   "execution_count": null,
   "id": "db2f2706-e49d-4684-94c1-e41042091ffa",
   "metadata": {},
   "outputs": [
    {
     "name": "stdout",
     "output_type": "stream",
     "text": [
      "missing a required argument: 'a'\n",
      "too many positional arguments\n"
     ]
    }
   ],
   "source": [
    "mock = FunctionMock(A.f)\n",
    "\n",
    "assert mock.arguments_valid(None, 1)\n",
    "show_exception(lambda: mock.arguments_valid(None))\n",
    "show_exception(lambda: mock.arguments_valid(None, 1,2))"
   ]
  },
  {
   "cell_type": "markdown",
   "id": "f727316c-4ade-4bff-8e74-9273ab717bf0",
   "metadata": {},
   "source": [
    "## Setup"
   ]
  },
  {
   "cell_type": "markdown",
   "id": "da03cb97-7b00-44f2-a6dd-c444f8a930d8",
   "metadata": {},
   "source": [
    "We want to be able to create call-setups on the function mock. A setup consists of a signature validation and a return value generator. When the mock is called with a list of arguments, we check this list against the signature validator. If the call matches, we call the return value generator to generate the return value."
   ]
  },
  {
   "cell_type": "code",
   "execution_count": null,
   "id": "dd39e199-4fee-4d0c-ae5f-567900f1ba48",
   "metadata": {},
   "outputs": [],
   "source": [
    "#| export\n",
    "class Setup:\n",
    "    \"This class bundles a signature validator with a call-result-action\"\n",
    "    def __init__(self, signature_validator: SignatureValidator):\n",
    "        self._signature_validator = signature_validator\n",
    "        \n",
    "    def is_valid(self, *args, **kwargs) -> bool:\n",
    "        \"Uses the underlying `SignatureValidator` to determine if the argument list is valid\"\n",
    "        return self._signature_validator.is_valid(*args, **kwargs)\n",
    "        \n",
    "    def returns(self, return_value_generator: ReturnValueGenerator) -> None:\n",
    "        \"Set the `ReturnValueGenerator` to be called when this setup is successfully called\"\n",
    "        self._return_value_generator = return_value_generator\n",
    "        \n",
    "    def get_return_value(self, *args, **kwargs):\n",
    "        \"Calls the underlying `ReturnValueGenerator` the get the return value for the exact argument list\"\n",
    "        return self._return_value_generator(*args, **kwargs)"
   ]
  },
  {
   "cell_type": "code",
   "execution_count": null,
   "id": "a7fa5299-3a33-4986-9416-7c3b7c38f481",
   "metadata": {},
   "outputs": [
    {
     "data": {
      "text/markdown": [
       "---\n",
       "\n",
       "### Setup.returns\n",
       "\n",
       ">      Setup.returns (return_value_generator:pymoq.return_value_generators.Retur\n",
       ">                     nValueGenerator)\n",
       "\n",
       "Set the `ReturnValueGenerator` to be called when this setup is successfully called"
      ],
      "text/plain": [
       "---\n",
       "\n",
       "### Setup.returns\n",
       "\n",
       ">      Setup.returns (return_value_generator:pymoq.return_value_generators.Retur\n",
       ">                     nValueGenerator)\n",
       "\n",
       "Set the `ReturnValueGenerator` to be called when this setup is successfully called"
      ]
     },
     "execution_count": null,
     "metadata": {},
     "output_type": "execute_result"
    }
   ],
   "source": [
    "show_doc(Setup.returns)"
   ]
  },
  {
   "cell_type": "code",
   "execution_count": null,
   "id": "1eac1cf7-36f1-42f9-8862-5e383ec8404c",
   "metadata": {},
   "outputs": [],
   "source": [
    "#| export\n",
    "@patch_to(FunctionMock)\n",
    "def setup(self, *args, **kwargs):\n",
    "    # todo: actually implement this\n",
    "    sig = signature_validator_from_arguments(*args, **kwargs)\n",
    "    self._setups.append(Setup(sig))\n",
    "    \n",
    "    return self._setups[-1]"
   ]
  },
  {
   "cell_type": "code",
   "execution_count": null,
   "id": "d8b8ac06-4a9d-4aa4-8d0b-e967c69c98e0",
   "metadata": {},
   "outputs": [],
   "source": [
    "mock = FunctionMock(f)\n",
    "\n",
    "mock.setup(ArgumentFunctionValidator(lambda a: isinstance(a, int), name='a', position=0)).returns(lambda *args, **kwargs: 5)\n",
    "assert mock._setups[0].get_return_value() == 5"
   ]
  },
  {
   "cell_type": "code",
   "execution_count": null,
   "id": "56d4835a-88f5-4999-99bc-5b42faaf0abc",
   "metadata": {},
   "outputs": [],
   "source": [
    "assert mock._setups[0].get_return_value(1)==5\n",
    "assert mock._setups[0].get_return_value(1, a=1)==5"
   ]
  },
  {
   "cell_type": "code",
   "execution_count": null,
   "id": "2aeec1dd-a629-49f4-9b6c-b07525feff95",
   "metadata": {},
   "outputs": [],
   "source": [
    "assert mock._setups[0].is_valid(1)\n",
    "assert not mock._setups[0].is_valid(\"1\")"
   ]
  },
  {
   "cell_type": "markdown",
   "id": "39453507-3259-4e0c-847f-eaf7573311b0",
   "metadata": {},
   "source": [
    "## Call validation"
   ]
  },
  {
   "cell_type": "markdown",
   "id": "43221cde-914f-4950-bc0f-08efa8f4709a",
   "metadata": {},
   "source": [
    "When called, a function mock should perform the following steps:\n",
    "1. check if the argument list binds against the original functions signature\n",
    "2. check if the signature validator matches for the stored Setups in order they were added\n",
    "3. The first setup with a matching signature validator should be used for generating the return value\n",
    "\n",
    "Edge cases:\n",
    "- If no Setup matches, return None"
   ]
  },
  {
   "cell_type": "markdown",
   "id": "d6520437-099c-4480-af7e-508f1f4bfd85",
   "metadata": {},
   "source": [
    "### Dealing with default-values"
   ]
  },
  {
   "cell_type": "markdown",
   "id": "4ff5b1c8-79cb-4f2e-84e1-23c821d58f35",
   "metadata": {},
   "source": [
    "The number of arguments passed to a function call might differ from call to call if default values are used:"
   ]
  },
  {
   "cell_type": "code",
   "execution_count": null,
   "id": "4da451c0-9ee6-4d2e-a2d9-81d2b66f6036",
   "metadata": {},
   "outputs": [],
   "source": [
    "def f(a:int, b:str=\"str\"):\n",
    "    ...\n",
    "    \n",
    "mock = FunctionMock(f)\n",
    "mock.setup(ArgumentFunctionValidator(lambda a: True, name='a', position=0), ArgumentFunctionValidator(lambda b: True, name='b', position=1)).returns(lambda *args,**kwargs: print(args, kwargs))"
   ]
  },
  {
   "cell_type": "code",
   "execution_count": null,
   "id": "a4be53d7-7ed5-4d72-a92f-bd1b0f111e49",
   "metadata": {},
   "outputs": [
    {
     "name": "stdout",
     "output_type": "stream",
     "text": [
      "(1,) {}\n",
      "(1,) {'b': 'b'}\n"
     ]
    },
    {
     "data": {
      "text/plain": [
       "(None, None)"
      ]
     },
     "execution_count": null,
     "metadata": {},
     "output_type": "execute_result"
    }
   ],
   "source": [
    "mock._setups[0].get_return_value(1), mock._setups[0].get_return_value(1, b=\"b\")"
   ]
  },
  {
   "cell_type": "markdown",
   "id": "355e1e9b-6867-4432-a143-eed219db7490",
   "metadata": {},
   "source": [
    "Next, we'll match an argument list against the default values."
   ]
  },
  {
   "cell_type": "code",
   "execution_count": null,
   "id": "5d1dae92-f9c8-463c-bd7f-e0337145c521",
   "metadata": {},
   "outputs": [],
   "source": [
    "#| export\n",
    "@patch_to(FunctionMock)\n",
    "def fill_up_arg_list(self, args: list[Any], kwargs: dict[str, Any]) -> dict[str, Any]:\n",
    "    parameters = list(self._signature.parameters.items())\n",
    "    names = list(map(lambda p: p[0], parameters))\n",
    "    n_positional = len(args)\n",
    "    for name,param in parameters[n_positional:]:\n",
    "        if name in kwargs: continue\n",
    "        kwargs[name] = param.default\n",
    "        \n",
    "    return kwargs"
   ]
  },
  {
   "cell_type": "markdown",
   "id": "9fde05b6-043e-42e7-8a06-0b83b14f54c2",
   "metadata": {},
   "source": [
    "If a default-value is already present via name, the default value should not be used:"
   ]
  },
  {
   "cell_type": "code",
   "execution_count": null,
   "id": "0f3bc2cb-ce7f-4c1e-bb34-c3b2f2aea8cf",
   "metadata": {},
   "outputs": [],
   "source": [
    "def f(a: int, b: str, c:str|None ='default str') -> None:\n",
    "    pass\n",
    "\n",
    "mock = FunctionMock(f)\n",
    "\n",
    "assert mock.fill_up_arg_list([1, 1.1], {'c': 'custom str'}) == {'c': 'custom str'}"
   ]
  },
  {
   "cell_type": "markdown",
   "id": "6fb96fee-df09-412a-bad6-98f96badfc0b",
   "metadata": {},
   "source": [
    "If a default-value is already overriden by a positional argument, it should not be used:"
   ]
  },
  {
   "cell_type": "code",
   "execution_count": null,
   "id": "a02f4fab-38ff-4f37-81b3-b0ad0299563d",
   "metadata": {},
   "outputs": [],
   "source": [
    "assert mock.fill_up_arg_list([1, 1.1, 'custom str'], {}) == {}"
   ]
  },
  {
   "cell_type": "markdown",
   "id": "f17bef2a-c3fc-422a-a0ed-635f6e5551c4",
   "metadata": {},
   "source": [
    "If neither is the case, the default-value should be used:"
   ]
  },
  {
   "cell_type": "code",
   "execution_count": null,
   "id": "f2045198-4d0a-4a9c-aa79-98a186bbddcf",
   "metadata": {},
   "outputs": [],
   "source": [
    "assert mock.fill_up_arg_list([1, 1.1], {}) == {'c': 'default str'}"
   ]
  },
  {
   "cell_type": "markdown",
   "id": "d321dc5f-4210-40fc-918a-363be3d4a63f",
   "metadata": {},
   "source": [
    "### Call method"
   ]
  },
  {
   "cell_type": "code",
   "execution_count": null,
   "id": "43cd9aaf-f529-418c-bf4a-c13db7a55a56",
   "metadata": {},
   "outputs": [
    {
     "ename": "NameError",
     "evalue": "name 'patch_to' is not defined",
     "output_type": "error",
     "traceback": [
      "\u001b[0;31m---------------------------------------------------------------------------\u001b[0m",
      "\u001b[0;31mNameError\u001b[0m                                 Traceback (most recent call last)",
      "Input \u001b[0;32mIn [1]\u001b[0m, in \u001b[0;36m<cell line: 2>\u001b[0;34m()\u001b[0m\n\u001b[1;32m      1\u001b[0m \u001b[38;5;66;03m#| export\u001b[39;00m\n\u001b[0;32m----> 2\u001b[0m \u001b[38;5;129m@patch_to\u001b[39m(FunctionMock)\n\u001b[1;32m      3\u001b[0m \u001b[38;5;28;01mdef\u001b[39;00m \u001b[38;5;21m__call__\u001b[39m(\u001b[38;5;28mself\u001b[39m, \u001b[38;5;241m*\u001b[39margs, \u001b[38;5;241m*\u001b[39m\u001b[38;5;241m*\u001b[39mkwargs):\n\u001b[1;32m      4\u001b[0m     \u001b[38;5;28;01mif\u001b[39;00m \u001b[38;5;28mself\u001b[39m\u001b[38;5;241m.\u001b[39m_is_class_method:\n\u001b[1;32m      5\u001b[0m         args \u001b[38;5;241m=\u001b[39m add_self_parameter(args)\n",
      "\u001b[0;31mNameError\u001b[0m: name 'patch_to' is not defined"
     ]
    }
   ],
   "source": [
    "#| export\n",
    "@patch_to(FunctionMock)\n",
    "def __call__(self, *args, **kwargs):\n",
    "    if self._is_class_method:\n",
    "        args = add_self_parameter(args)\n",
    "    \n",
    "    self.arguments_valid(*args, **kwargs)\n",
    "        \n",
    "    kwargs = self.fill_up_arg_list(args, kwargs)\n",
    "    \n",
    "    for setup in reversed(self._setups):\n",
    "        if setup.is_valid(*args, **kwargs):\n",
    "            return_value = setup.get_return_value(*args, **kwargs)\n",
    "            return return_value"
   ]
  },
  {
   "cell_type": "code",
   "execution_count": null,
   "id": "3b5c037d-4be5-4da1-a432-0e9679068eea",
   "metadata": {},
   "outputs": [],
   "source": [
    "def f(a: int, b: str, c:str|None =None) -> None:\n",
    "    pass\n",
    "\n",
    "mock = FunctionMock(f)"
   ]
  },
  {
   "cell_type": "markdown",
   "id": "43ee55a2-e5ab-4f01-bb0d-01b3d9b5f529",
   "metadata": {},
   "source": [
    "Without any setup a call either fails or returns None:"
   ]
  },
  {
   "cell_type": "code",
   "execution_count": null,
   "id": "f156a7ad-f1ee-4ee8-aca3-b6d5508ff1df",
   "metadata": {},
   "outputs": [
    {
     "name": "stdout",
     "output_type": "stream",
     "text": [
      "(1, '1') {'c': None}\n"
     ]
    }
   ],
   "source": [
    "test_fail(lambda: mock())\n",
    "assert mock(1,\"1\") is None"
   ]
  },
  {
   "cell_type": "markdown",
   "id": "e6a40a6e-953d-4a12-9fd7-dd6b562e7964",
   "metadata": {},
   "source": [
    "Now we'll add two setups. The first one is the more generic one that only checks if `a` is an `int` and `b` is a `string`. The second one checks if `a==2` and `b` is a string."
   ]
  },
  {
   "cell_type": "code",
   "execution_count": null,
   "id": "b6d60e4f-f16f-469e-8b73-2d7c56f87d6f",
   "metadata": {},
   "outputs": [
    {
     "name": "stdout",
     "output_type": "stream",
     "text": [
      "(2, 'anyString') {'c': None}\n",
      "(1, 'anyString') {'c': None}\n",
      "(1, 1) {'c': None}\n"
     ]
    }
   ],
   "source": [
    "# this will be prettier, I promise!\n",
    "mock = FunctionMock(f)\n",
    "\n",
    "# Generic type checker\n",
    "mock.setup(\n",
    "    ArgumentFunctionValidator(lambda a: isinstance(a, int), name='a', position=0),\n",
    "    ArgumentFunctionValidator(lambda b: isinstance(b, str), name='b', position=1),\n",
    "    ArgumentFunctionValidator(lambda c: c is None, name='c', position=2)).returns(lambda a,b,c: 5)\n",
    "\n",
    "# Value checker\n",
    "mock.setup(\n",
    "    ArgumentFunctionValidator(lambda a: a==2, name='a', position=0),\n",
    "    ArgumentFunctionValidator(lambda b: isinstance(b, str), name='b', position=1),\n",
    "    ArgumentFunctionValidator(lambda c: c is None, name='c', position=2)).returns(lambda a,b,c: 6)\n",
    "\n",
    "assert mock(2, 'anyString')==6\n",
    "assert mock(1, 'anyString')==5\n",
    "assert mock(1, 1) is None"
   ]
  },
  {
   "cell_type": "markdown",
   "id": "c52ac175-49d7-4eeb-a029-66e3d000590c",
   "metadata": {},
   "source": [
    "Lastly, the generic return value generator could be used to return a value based on the input value:"
   ]
  },
  {
   "cell_type": "code",
   "execution_count": null,
   "id": "a1a06327-88f5-4f50-b3a1-18f257addedb",
   "metadata": {},
   "outputs": [
    {
     "name": "stdout",
     "output_type": "stream",
     "text": [
      "(1, 'anyString') {'c': None}\n",
      "(2, 'anyString') {'c': None}\n"
     ]
    }
   ],
   "source": [
    "mock = FunctionMock(f)\n",
    "\n",
    "# Generic type checker\n",
    "mock.setup(\n",
    "    ArgumentFunctionValidator(lambda a: isinstance(a, int), name='a', position=0),\n",
    "    ArgumentFunctionValidator(lambda b: isinstance(b, str), name='b', position=1),\n",
    "    ArgumentFunctionValidator(lambda c: c is None, name='c', position=2)).returns(lambda a,b,c: a+1)\n",
    "\n",
    "assert mock(1,'anyString')==2\n",
    "assert mock(2,'anyString')==3"
   ]
  },
  {
   "cell_type": "markdown",
   "id": "725aed0e-69a0-4618-b088-2549859d8bd3",
   "metadata": {},
   "source": [
    "### On class methods"
   ]
  },
  {
   "cell_type": "code",
   "execution_count": null,
   "id": "b110c08a-d415-4123-b05b-865af4b4e52d",
   "metadata": {},
   "outputs": [],
   "source": [
    "class A:\n",
    "    def f(self, a: int, b: str, c:str|None =None) -> None:\n",
    "        pass"
   ]
  },
  {
   "cell_type": "code",
   "execution_count": null,
   "id": "d53969e9-d2dd-498f-829a-28c37d0617f7",
   "metadata": {},
   "outputs": [],
   "source": [
    "mock = FunctionMock(A.f)"
   ]
  },
  {
   "cell_type": "code",
   "execution_count": null,
   "id": "1e83b048-acd7-4872-a029-e8fc4ae50068",
   "metadata": {},
   "outputs": [
    {
     "name": "stdout",
     "output_type": "stream",
     "text": [
      "(None, 1, '1', 'c') {}\n"
     ]
    }
   ],
   "source": [
    "test_fail(lambda: mock())\n",
    "assert mock(1, \"1\", \"c\") is None"
   ]
  },
  {
   "cell_type": "code",
   "execution_count": null,
   "id": "30a611e5-9df4-4545-8e89-731ab0c265df",
   "metadata": {},
   "outputs": [
    {
     "name": "stdout",
     "output_type": "stream",
     "text": [
      "(None, 2, 'anyString') {'c': None}\n",
      "(None, 1, 'anyString') {'c': None}\n",
      "(None, 1, 1) {'c': None}\n"
     ]
    }
   ],
   "source": [
    "# this will be prettier, I promise!\n",
    "mock = FunctionMock(A.f)\n",
    "\n",
    "# Generic type checker\n",
    "mock.setup(\n",
    "    ArgumentFunctionValidator(lambda s: True, name='self', position=0),\n",
    "    ArgumentFunctionValidator(lambda a: isinstance(a, int), name='a', position=1),\n",
    "    ArgumentFunctionValidator(lambda b: isinstance(b, str), name='b', position=2),\n",
    "    ArgumentFunctionValidator(lambda c: c is None, name='c', position=3)).returns(lambda self,a,b,c: 5)\n",
    "\n",
    "# Value checker\n",
    "mock.setup(\n",
    "    ArgumentFunctionValidator(lambda s: True, name='self', position=0),\n",
    "    ArgumentFunctionValidator(lambda a: a==2, name='a', position=1),\n",
    "    ArgumentFunctionValidator(lambda b: isinstance(b, str), name='b', position=2),\n",
    "    ArgumentFunctionValidator(lambda c: c is None, name='c', position=3)).returns(lambda self,a,b,c: 6)\n",
    "\n",
    "assert mock(2, 'anyString')==6\n",
    "assert mock(1, 'anyString')==5\n",
    "assert mock(1, 1) is None"
   ]
  },
  {
   "cell_type": "markdown",
   "id": "3e6ddd87-54cb-4b1d-b3cc-ae4671416682",
   "metadata": {},
   "source": [
    "# Build library"
   ]
  },
  {
   "cell_type": "code",
   "execution_count": null,
   "id": "06d58d85-5664-422a-8fa9-fece43bfaf44",
   "metadata": {},
   "outputs": [],
   "source": [
    "#| hide\n",
    "import nbdev; nbdev.nbdev_export()"
   ]
  },
  {
   "cell_type": "code",
   "execution_count": null,
   "id": "1aacce4d-ae2c-44dd-ac1d-93235b775557",
   "metadata": {},
   "outputs": [],
   "source": []
  }
 ],
 "metadata": {
  "kernelspec": {
   "display_name": "Python 3 (ipykernel)",
   "language": "python",
   "name": "python3"
  }
 },
 "nbformat": 4,
 "nbformat_minor": 5
}
