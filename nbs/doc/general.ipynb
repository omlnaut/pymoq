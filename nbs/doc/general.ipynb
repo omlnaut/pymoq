{
 "cells": [
  {
   "cell_type": "code",
   "execution_count": null,
   "metadata": {},
   "outputs": [
    {
     "name": "stdout",
     "output_type": "stream",
     "text": [
      "Note: you may need to restart the kernel to use updated packages.\n"
     ]
    }
   ],
   "source": [
    "#| hide\n",
    "from pymoq.all import *\n",
    "\n",
    "%pip install pytest -q\n",
    "import pytest"
   ]
  },
  {
   "attachments": {},
   "cell_type": "markdown",
   "metadata": {},
   "source": [
    "# General structure"
   ]
  },
  {
   "cell_type": "code",
   "execution_count": null,
   "metadata": {},
   "outputs": [],
   "source": [
    "from typing import Protocol\n",
    "\n",
    "class IWeb(Protocol):\n",
    "    \"Interface for accessing internet resources\"\n",
    "    \n",
    "    def get(self, url:str, page:int, verbose:bool=False) -> str:\n",
    "        \"Fetches the ressource at `url` and returns it in string representation\""
   ]
  },
  {
   "cell_type": "code",
   "execution_count": null,
   "metadata": {},
   "outputs": [],
   "source": [
    "class RessourceFetcher:\n",
    "    base_url: str = \"https://some_base.com/\"\n",
    "    \n",
    "    def __init__(self, web: IWeb):\n",
    "        self._web = web\n",
    "    \n",
    "    def check_ressource(self, ressource_name: str, page:int, verbose:bool=False) -> bool:\n",
    "        url = self.base_url + ressource_name\n",
    "        ressource = self._web.get(url, page, verbose)\n",
    "        \n",
    "        return ressource is not None"
   ]
  },
  {
   "attachments": {},
   "cell_type": "markdown",
   "metadata": {},
   "source": [
    "The general structure of pymoqs workflows is:"
   ]
  },
  {
   "attachments": {},
   "cell_type": "markdown",
   "metadata": {},
   "source": [
    "## Setup\n"
   ]
  },
  {
   "cell_type": "code",
   "execution_count": null,
   "metadata": {},
   "outputs": [],
   "source": [
    "#| hide\n",
    "ArbitrarySignatureValidator = \"\"\n",
    "ArbitraryReturnValueGenerator = \"\""
   ]
  },
  {
   "cell_type": "code",
   "execution_count": null,
   "metadata": {},
   "outputs": [],
   "source": [
    "mock = Mock(IWeb)\n",
    "\n",
    "mock.get\\\n",
    "    .setup(ArbitrarySignatureValidator)\\\n",
    "    .returns(ArbitraryReturnValueGenerator)"
   ]
  },
  {
   "attachments": {},
   "cell_type": "markdown",
   "metadata": {},
   "source": [
    "In general, a `SignatureValidator` is a list of `ArgumentValidator` `s`.\n",
    "\n",
    "An object following the `ArgumentValidator` protocol has, among other properties, a `is_valid` method that accepts a single argument and returns a bool, indicating if the given argument matches the expected conditions. Conditions might be a type check, a direct value check or something else entirely (e.g. \"is it a string that starts with 'py'?).\n",
    "\n",
    "To make construcing a suitable list of `ArgumentValidator` `s` more convenient, there are a bunch of shortcuts for passing values to the `setup` method. They coded in `argument_validator_from_argument`. As of 2023-03-18, the shortcuts are:\n",
    "\n",
    "- If an object is passed that satisfies the `ArgumentValidator` Protocol, it is used without any alteration\n",
    "- If a type is passed, an `ArgumentFunctionValidator` is constructed that matches against that type\n",
    "- If a Callable is passed, an `ArgumentFunctionValidator` is constructed that passes the argument through to the callable\n",
    "- In any other case, an `ArgumentFunctionValidator` is constructed that matches the argument against the passed value\n",
    "\n",
    "\n",
    "In the example:"
   ]
  },
  {
   "cell_type": "code",
   "execution_count": null,
   "metadata": {},
   "outputs": [],
   "source": [
    "mock = Mock(IWeb)\n",
    "mock.get\\\n",
    "    .setup('https://some_base.com/ressource', int, False);"
   ]
  },
  {
   "attachments": {},
   "cell_type": "markdown",
   "metadata": {},
   "source": [
    "- The first argument constructs a `ArgumentValidator` that returns true iff the string `https://some_base.com/ressource` is passed (last case)\n",
    "- The second argument constructs a `ArgumentValidator` that returns true iff the passed argument is of type `int` (second case)\n",
    "- The third argument constructs a `ArgumentValidator` that returns true iff the passed argument hast the value `False` (last case)\n",
    "\n",
    "The first argument could also be an arbitrary function evaluation like:\n"
   ]
  },
  {
   "cell_type": "code",
   "execution_count": null,
   "metadata": {},
   "outputs": [],
   "source": [
    "mock.get\\\n",
    "    .setup(lambda arg: isinstance(arg, str) and arg.startswith('https'), int, False);"
   ]
  },
  {
   "attachments": {},
   "cell_type": "markdown",
   "metadata": {},
   "source": [
    "This now matches against any `arg` that is of type `string` and starts with the substring `https`."
   ]
  },
  {
   "attachments": {},
   "cell_type": "markdown",
   "metadata": {},
   "source": [
    "## Special validators"
   ]
  },
  {
   "attachments": {},
   "cell_type": "markdown",
   "metadata": {},
   "source": [
    "The special validator `AnyInt` does a type check on `int` and can further be used to conveniently define int-specific validation rules, like `greater_than` or `less_than_or_equal`. See `AnyInt` for a list of availbe special validation rules."
   ]
  },
  {
   "attachments": {},
   "cell_type": "markdown",
   "metadata": {},
   "source": [
    "Additionally `AnyArg` is available as a way to define that there is no restriction at all on the argument. This argument validator accepts any argument input."
   ]
  },
  {
   "attachments": {},
   "cell_type": "markdown",
   "metadata": {},
   "source": [
    "## Return Action"
   ]
  },
  {
   "attachments": {},
   "cell_type": "markdown",
   "metadata": {},
   "source": [
    "If the a call on a mock satisfies one of the setups, the corresponding return action is invoked:"
   ]
  },
  {
   "cell_type": "code",
   "execution_count": null,
   "metadata": {},
   "outputs": [],
   "source": [
    "mock.get\\\n",
    "    .setup(ArbitrarySignatureValidator)\\\n",
    "    .returns(ArbitraryReturnValueGenerator)"
   ]
  },
  {
   "attachments": {},
   "cell_type": "markdown",
   "metadata": {},
   "source": [
    "The `ArbitraryReturnValueGenerator` is an object that follows the `ReturnValueGenerator` protocol. Essentially thats any callable. `pymoq` passes the arguments that were used in the specific call to the `ReturnValueGenerator`, enabling the user to return values depending on the concrete arguments used in each call.\n",
    "\n",
    "To make constructing a `ReturnValueGenerator` more convenient, one can pass a non-callable object. `pymoq` constructs a `ReturnValueGenerator` from this that takes in any number of arguments and always returns that one value.\n",
    "\n",
    "E.g."
   ]
  },
  {
   "cell_type": "code",
   "execution_count": null,
   "metadata": {},
   "outputs": [],
   "source": [
    "mock.get\\\n",
    "    .setup('https://some_base.com/ressource', int, False)\\\n",
    "    .returns(True)\n",
    "\n",
    "assert mock.get('https://some_base.com/ressource', 0, False)\n",
    "assert mock.get('https://some_base.com/ressource', 1, False)"
   ]
  },
  {
   "attachments": {},
   "cell_type": "markdown",
   "metadata": {},
   "source": [
    "will always return `True` (if the signature matches the validator in the setup function).\n",
    "\n",
    "In contrast,"
   ]
  },
  {
   "cell_type": "code",
   "execution_count": null,
   "metadata": {},
   "outputs": [],
   "source": [
    "mock.get\\\n",
    "    .setup('https://some_base.com/ressource', int, False)\\\n",
    "    .returns(lambda self, url, page, verbose: page+1)\n",
    "\n",
    "assert mock.get('https://some_base.com/ressource', 0, False) == 1\n",
    "assert mock.get('https://some_base.com/ressource', 5, False) == 6"
   ]
  },
  {
   "attachments": {},
   "cell_type": "markdown",
   "metadata": {},
   "source": [
    "will return `page + 1`, making the return value dependent on the caller value."
   ]
  },
  {
   "attachments": {},
   "cell_type": "markdown",
   "metadata": {},
   "source": [
    "### Return sequence"
   ]
  },
  {
   "attachments": {},
   "cell_type": "markdown",
   "metadata": {},
   "source": [
    "It's possible to setup a sequence of return values. For each invocation that matches the signature validator, the next value of the sequence is returned. If the sequence is empty, `None` is returned."
   ]
  },
  {
   "cell_type": "code",
   "execution_count": null,
   "metadata": {},
   "outputs": [
    {
     "name": "stdout",
     "output_type": "stream",
     "text": [
      "None\n"
     ]
    }
   ],
   "source": [
    "mock = Mock(IWeb)\n",
    "mock.get.setup('resource', int, bool).returns_sequence([1,2,3])\n",
    "\n",
    "assert mock.get('resource', 1, True)==1\n",
    "assert mock.get('resource', 2, False)==2\n",
    "assert mock.get('resource', 3, True)==3\n",
    "\n",
    "print(mock.get('ressource', 1, True))"
   ]
  },
  {
   "attachments": {},
   "cell_type": "markdown",
   "metadata": {},
   "source": [
    "### Return exceptions"
   ]
  },
  {
   "attachments": {},
   "cell_type": "markdown",
   "metadata": {},
   "source": [
    "A return action could also be the throwing of an exception:"
   ]
  },
  {
   "cell_type": "code",
   "execution_count": null,
   "metadata": {},
   "outputs": [],
   "source": [
    "class WebException(Exception):\n",
    "    \"\"\"Exception that describes web-access errors\"\"\"\n",
    "\n",
    "\n",
    "mock = Mock(IWeb)\n",
    "fetcher = RessourceFetcher(mock)\n",
    "\n",
    "# setup failing web call\n",
    "mock.get.setup('https://some_base.com/unavailable_ressource', int, bool).throws(WebException())\n",
    "\n",
    "# act and assert exception\n",
    "with pytest.raises(WebException):\n",
    "    fetcher.check_ressource('unavailable_ressource', 1, True)\n",
    "    \n",
    "# does not raise exception if call signature does not match\n",
    "fetcher.check_ressource('available_ressource', 1, True);\n"
   ]
  },
  {
   "attachments": {},
   "cell_type": "markdown",
   "metadata": {},
   "source": [
    "## Verification"
   ]
  },
  {
   "attachments": {},
   "cell_type": "markdown",
   "metadata": {},
   "source": [
    "After the test method was run, one might want to verify how often certain invocations were done on the mock. The general structure for verification looks like:"
   ]
  },
  {
   "attachments": {},
   "cell_type": "markdown",
   "metadata": {},
   "source": [
    "```python\n",
    "mock.get.verify(ArbitrarySignatureValidator).ArbitraryQuantor()\n",
    "```"
   ]
  },
  {
   "attachments": {},
   "cell_type": "markdown",
   "metadata": {},
   "source": [
    "The `SignatureValidator` is the same as for the setup method, so look above for explanation. The `Quantor` defines how often a call was expected whose arguments match the `SignatureValidator`.\n",
    "\n",
    "Available Quantors:"
   ]
  },
  {
   "cell_type": "code",
   "execution_count": null,
   "metadata": {},
   "outputs": [],
   "source": [
    "mock = Mock(IWeb)\n",
    "fetcher = RessourceFetcher(mock)\n",
    "\n",
    "# setup\n",
    "mock.get.setup(str, int, bool).returns(True)\n",
    "\n",
    "# act\n",
    "fetcher.check_ressource('ressource', 1)\n",
    "fetcher.check_ressource('ressource', 2)\n",
    "fetcher.check_ressource('ressource', 1, verbose=True)\n",
    "\n",
    "# assert\n",
    "mock.get.verify(str, int, bool).times(3)\n",
    "mock.get.verify(str, int, bool).more_than(1)\n",
    "mock.get.verify(str, int, bool).more_than_or_equal_to(3)\n",
    "mock.get.verify(str, int, bool).less_than(4)\n",
    "mock.get.verify(str, int, bool).less_than_or_equal_to(3)\n",
    "mock.get.verify(str, str).never()\n",
    "\n",
    "mock.get.verify(str, AnyInt('page', 2).less_than(2), bool).times(2);"
   ]
  },
  {
   "attachments": {},
   "cell_type": "markdown",
   "metadata": {},
   "source": [
    "It's possible to inspect all calls that were done on the mock:"
   ]
  },
  {
   "cell_type": "code",
   "execution_count": null,
   "metadata": {},
   "outputs": [
    {
     "data": {
      "text/plain": [
       "[((None, 'https://some_base.com/ressource', 1, False), {}),\n",
       " ((None, 'https://some_base.com/ressource', 2, False), {}),\n",
       " ((None, 'https://some_base.com/ressource', 1, True), {})]"
      ]
     },
     "execution_count": null,
     "metadata": {},
     "output_type": "execute_result"
    }
   ],
   "source": [
    "mock.get.verify(str, AnyInt('page', 2).less_than(2), bool).all_calls"
   ]
  },
  {
   "attachments": {},
   "cell_type": "markdown",
   "metadata": {},
   "source": [
    "Or only the calls that match the current signature validator:"
   ]
  },
  {
   "cell_type": "code",
   "execution_count": null,
   "metadata": {},
   "outputs": [
    {
     "data": {
      "text/plain": [
       "[((None, 'https://some_base.com/ressource', 1, False), {}),\n",
       " ((None, 'https://some_base.com/ressource', 1, True), {})]"
      ]
     },
     "execution_count": null,
     "metadata": {},
     "output_type": "execute_result"
    }
   ],
   "source": [
    "mock.get.verify(str, AnyInt('page', 2).less_than(2), bool).verified_calls"
   ]
  },
  {
   "cell_type": "code",
   "execution_count": null,
   "metadata": {},
   "outputs": [],
   "source": []
  }
 ],
 "metadata": {
  "kernelspec": {
   "display_name": "python3",
   "language": "python",
   "name": "python3"
  }
 },
 "nbformat": 4,
 "nbformat_minor": 2
}
