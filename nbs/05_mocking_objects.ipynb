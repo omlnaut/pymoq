{
 "cells": [
  {
   "cell_type": "code",
   "execution_count": null,
   "id": "b97f0a20-bacc-4075-bce2-31a8f603919a",
   "metadata": {},
   "outputs": [],
   "source": [
    "#| default_exp mocking.objects"
   ]
  },
  {
   "cell_type": "code",
   "execution_count": null,
   "id": "746aefea-d568-4bf4-9b99-301d0583be2a",
   "metadata": {},
   "outputs": [],
   "source": [
    "%load_ext autoreload\n",
    "%autoreload 2"
   ]
  },
  {
   "cell_type": "code",
   "execution_count": null,
   "id": "74996601-0e27-4d7c-946d-7dbf116d9f92",
   "metadata": {},
   "outputs": [],
   "source": [
    "#| export\n",
    "from pymoq.mocking.functions import FunctionMock\n",
    "\n",
    "from fastcore.basics import patch_to"
   ]
  },
  {
   "cell_type": "code",
   "execution_count": null,
   "id": "00638680-f9b2-4406-8818-2304edea133c",
   "metadata": {},
   "outputs": [],
   "source": [
    "#| hide\n",
    "from fastcore.test import test_fail\n",
    "from pymoq.argument_validators import ArgumentFunctionValidator"
   ]
  },
  {
   "cell_type": "markdown",
   "id": "0a203c52-f0a4-4476-932f-21c066eb1f41",
   "metadata": {},
   "source": [
    "# Mocking objects\n",
    "> Mocking an object with all its (public) attributes and methods"
   ]
  },
  {
   "cell_type": "markdown",
   "id": "c9b4863b-bfb1-4784-827f-d285b3d4b07a",
   "metadata": {},
   "source": [
    "## Public names"
   ]
  },
  {
   "cell_type": "markdown",
   "id": "94d90c72-8504-4d9e-8425-820a1b950be6",
   "metadata": {},
   "source": [
    "Since the main purpose of `pymoq` is to mock interfaces (aka protocols), we need a way to extract the public members of an interface. By convention, public members should not start with an underscore."
   ]
  },
  {
   "cell_type": "markdown",
   "id": "57973f2f-907c-4bc9-b653-967408324597",
   "metadata": {},
   "source": [
    "### Methods"
   ]
  },
  {
   "cell_type": "markdown",
   "id": "53e02564-8667-4689-91d3-7b1f4773880e",
   "metadata": {},
   "source": [
    "All methods whose name doesn't start with an underscore should be included. The only public method in the following class is `get`."
   ]
  },
  {
   "cell_type": "code",
   "execution_count": null,
   "id": "fc132d52-20ed-4e96-9752-1724ce309856",
   "metadata": {},
   "outputs": [],
   "source": [
    "#| export\n",
    "from typing import Protocol"
   ]
  },
  {
   "cell_type": "code",
   "execution_count": null,
   "id": "ff0afb52-8183-4412-a0d4-ed1732d49cce",
   "metadata": {},
   "outputs": [],
   "source": [
    "class IWeb(Protocol):    \n",
    "    def get(self, suffix:str) -> str:\n",
    "        ...\n",
    "    \n",
    "    def _internal_stuff(self) -> None:\n",
    "        ..."
   ]
  },
  {
   "cell_type": "markdown",
   "id": "a876e548-d351-467a-a9e8-94710123a749",
   "metadata": {},
   "source": [
    "All names are exposed through the `dir` method..."
   ]
  },
  {
   "cell_type": "code",
   "execution_count": null,
   "id": "75d1d4f7-0917-4aed-b45f-877de0a28385",
   "metadata": {},
   "outputs": [
    {
     "data": {
      "text/plain": [
       "'__abstractmethods__, __annotations__, __class__, __class_getitem__, __delattr__, __dict__, __dir__, __doc__, __eq__, __format__, __ge__, __getattribute__, __gt__, __hash__, __init__, __init_subclass__, __le__, __lt__, __module__, __ne__, __new__, __parameters__, __reduce__, __reduce_ex__, __repr__, __setattr__, __sizeof__, __slots__, __str__, __subclasshook__, __weakref__, _abc_impl, _internal_stuff, _is_protocol, _is_runtime_protocol, get'"
      ]
     },
     "execution_count": null,
     "metadata": {},
     "output_type": "execute_result"
    }
   ],
   "source": [
    "', '.join(dir(IWeb))"
   ]
  },
  {
   "cell_type": "markdown",
   "id": "3ebf011f-3053-4c9a-9807-a13ad12fb1c5",
   "metadata": {},
   "source": [
    "... which can be filtered for names that don't start with an underscore:"
   ]
  },
  {
   "cell_type": "code",
   "execution_count": null,
   "id": "d9af5125-0014-4080-8007-839cd9052629",
   "metadata": {},
   "outputs": [],
   "source": [
    "#| export\n",
    "def _is_public_name(name: str):\n",
    "    \"Returns whether or not a (member) name is public\"\n",
    "    return not name.startswith('_')\n",
    "\n",
    "def get_public_names(protocol: type) -> list[str]:\n",
    "    \"Returns all names that are considered public from the given class\"\n",
    "    names = [name for name in dir(protocol) if _is_public_name(name)]\n",
    "    return names"
   ]
  },
  {
   "cell_type": "code",
   "execution_count": null,
   "id": "a2bdea25-7daf-473b-b4c5-0dd37aa25a08",
   "metadata": {},
   "outputs": [],
   "source": [
    "assert get_public_names(IWeb)==['get']"
   ]
  },
  {
   "cell_type": "markdown",
   "id": "9e6a7073-548a-4fba-9139-3a30000882d0",
   "metadata": {},
   "source": [
    "### Attributes"
   ]
  },
  {
   "cell_type": "markdown",
   "id": "d6763b73-7648-4427-ae3d-2dd70f1201ee",
   "metadata": {},
   "source": [
    "Attributes defined in protocol classes are not directly stored in the `dir` list. Instead, they are accessible in `__annotations__`. Note that [protocol variables have to be defined](https://peps.python.org/pep-0544/#protocol-members) at class level, not inside the `__init__` method."
   ]
  },
  {
   "cell_type": "code",
   "execution_count": null,
   "id": "0ac54fac-600c-495d-a56a-c4cba1e3eb9f",
   "metadata": {},
   "outputs": [],
   "source": [
    "class IStore(Protocol):\n",
    "    store_id: int\n",
    "    name: str\n",
    "    _internal_key: int\n",
    "    \n",
    "    def get(self, name:str) -> int:\n",
    "        ..."
   ]
  },
  {
   "cell_type": "code",
   "execution_count": null,
   "id": "75c338b6-f5d6-4498-8d9d-395b87e06a2a",
   "metadata": {},
   "outputs": [
    {
     "data": {
      "text/plain": [
       "{'store_id': int, 'name': str, '_internal_key': int}"
      ]
     },
     "execution_count": null,
     "metadata": {},
     "output_type": "execute_result"
    }
   ],
   "source": [
    "IStore.__annotations__"
   ]
  },
  {
   "cell_type": "code",
   "execution_count": null,
   "id": "113dbf6c-380d-4a4f-a634-edd5ac5205d2",
   "metadata": {},
   "outputs": [],
   "source": [
    "#| export\n",
    "def get_public_attributes(protocol: type(Protocol)) -> list[str]:\n",
    "    \"Return a list of all attributes of the given protocol that are considered public.\"\n",
    "    attributes =  [name for name in protocol.__annotations__.keys() if _is_public_name(name)]\n",
    "    return attributes"
   ]
  },
  {
   "cell_type": "code",
   "execution_count": null,
   "id": "27dd8f66-e7ab-4aba-a6e8-8cff8cdd8e55",
   "metadata": {},
   "outputs": [
    {
     "data": {
      "text/plain": [
       "['store_id', 'name']"
      ]
     },
     "execution_count": null,
     "metadata": {},
     "output_type": "execute_result"
    }
   ],
   "source": [
    "get_public_attributes(IStore)"
   ]
  },
  {
   "cell_type": "code",
   "execution_count": null,
   "id": "fb2ff7bb-3013-4efc-be13-c4bf53608976",
   "metadata": {},
   "outputs": [],
   "source": [
    "assert 'store_id' in get_public_attributes(IStore)\n",
    "assert 'name' in get_public_attributes(IStore)\n",
    "assert not '_internal_key' in get_public_attributes(IStore)"
   ]
  },
  {
   "cell_type": "markdown",
   "id": "fdaf5b30-a0e6-4291-995f-f879c4146b97",
   "metadata": {},
   "source": [
    "## Construction from Protocol"
   ]
  },
  {
   "cell_type": "markdown",
   "id": "d066bd71-ffc5-4736-a7f4-75f5d76bd062",
   "metadata": {},
   "source": [
    "### Dynamic attribute access"
   ]
  },
  {
   "cell_type": "markdown",
   "id": "e73373e1-2d30-4d8b-96c1-84aa8a618d9b",
   "metadata": {},
   "source": [
    "Dynamic attribute access is possible by overriding the [special method](https://docs.python.org/3/reference/datamodel.html?highlight=__getattr__#object.__getattr__) `__getattr__`. This method is called when a name is not found in the current instance of the class."
   ]
  },
  {
   "cell_type": "code",
   "execution_count": null,
   "id": "a672ed50-e6f5-494a-9f41-e581b883ef67",
   "metadata": {},
   "outputs": [],
   "source": [
    "class Outer:\n",
    "    def __init__(self):\n",
    "        self.valid = 2\n",
    "        self.values = {'inner': 1}\n",
    "        \n",
    "    def __getattr__(self, name: str):\n",
    "        print(f'Calling __getattr__(\"{name}\")')\n",
    "        if name in self.values:\n",
    "            return self.values[name]\n",
    "        raise AttributeError(f'Name {name} not found in values dictionary')\n",
    "        \n",
    "o = Outer()"
   ]
  },
  {
   "cell_type": "markdown",
   "id": "779cd55a-0fa9-4693-8a2e-7f9766fd0a13",
   "metadata": {},
   "source": [
    "Attribute is present in the class instance, so its accessed directly:"
   ]
  },
  {
   "cell_type": "code",
   "execution_count": null,
   "id": "78b6adbf-3ff9-4ec9-b92d-7a45772efb09",
   "metadata": {},
   "outputs": [
    {
     "name": "stdout",
     "output_type": "stream",
     "text": [
      "2\n"
     ]
    }
   ],
   "source": [
    "print(o.valid)"
   ]
  },
  {
   "cell_type": "markdown",
   "id": "6dd5e82a-3b69-406d-80f9-04496a657e45",
   "metadata": {},
   "source": [
    "Attribute is not present in the class instance, so `__getattr__` is called:"
   ]
  },
  {
   "cell_type": "code",
   "execution_count": null,
   "id": "93c5fee8-7936-44c4-8bbb-e52b89237592",
   "metadata": {},
   "outputs": [
    {
     "name": "stdout",
     "output_type": "stream",
     "text": [
      "Calling __getattr__(\"inner\")\n",
      "1\n"
     ]
    }
   ],
   "source": [
    "print(o.inner)"
   ]
  },
  {
   "cell_type": "code",
   "execution_count": null,
   "id": "ca73541d-5799-4480-9004-35a6536c4145",
   "metadata": {},
   "outputs": [
    {
     "name": "stdout",
     "output_type": "stream",
     "text": [
      "Calling __getattr__(\"invalid\")\n",
      "<class 'AttributeError'> Name invalid not found in values dictionary\n"
     ]
    }
   ],
   "source": [
    "try:\n",
    "    o.invalid\n",
    "except Exception as e:\n",
    "    print(type(e), e)"
   ]
  },
  {
   "cell_type": "markdown",
   "id": "15f26b92-39ff-433d-be1e-b821f03abf3b",
   "metadata": {},
   "source": [
    "## The Mock object"
   ]
  },
  {
   "cell_type": "markdown",
   "id": "b3682219-aaca-4293-9cdd-fa6105c3fcb0",
   "metadata": {},
   "source": [
    "The `Mock` object is the central class that the user of pymoq will interact with. It should be initialized with a protocol, setup function-mocks for all protocol-methods and handle the call redirection to the correct mock."
   ]
  },
  {
   "cell_type": "code",
   "execution_count": null,
   "id": "89aa9b21-4abb-4b13-a183-cb021023adf7",
   "metadata": {},
   "outputs": [],
   "source": [
    "#| export\n",
    "class Mock:\n",
    "    def __init__(self, protocol: type(Protocol)):\n",
    "        self._protocol = protocol\n",
    "        self._init_function_mocks(self._protocol)\n",
    "        \n",
    "    def _init_function_mocks(self, protocol: type(Protocol)):\n",
    "        public_names = get_public_names(protocol)\n",
    "        self._function_mocks = {\n",
    "            name: FunctionMock(getattr(protocol, name))\n",
    "            for name in public_names\n",
    "        }\n",
    "    \n",
    "    def __str__(self):\n",
    "        return f'Mock[{self._protocol.__name__}]'\n",
    "    \n",
    "    def __repr__(self): return str(self)"
   ]
  },
  {
   "cell_type": "code",
   "execution_count": null,
   "id": "84ce6f80-809a-4ac3-a434-91937f46be80",
   "metadata": {},
   "outputs": [
    {
     "data": {
      "text/plain": [
       "{'get': <pymoq.mocking.functions.FunctionMock>}"
      ]
     },
     "execution_count": null,
     "metadata": {},
     "output_type": "execute_result"
    }
   ],
   "source": [
    "mock = Mock(IWeb)\n",
    "assert str(mock) == 'Mock[IWeb]'\n",
    "\n",
    "assert list(mock._function_mocks.keys()) == ['get']\n",
    "\n",
    "mock._function_mocks"
   ]
  },
  {
   "cell_type": "markdown",
   "id": "2579b618-18d0-4c95-b436-4e3e6f08931f",
   "metadata": {},
   "source": [
    "When a function is called on a `Mock`, it should check whether that function is part of the underlyings protocol public interface. If not, throw an `AttributeError`. If yes, return the appropriate function mock."
   ]
  },
  {
   "cell_type": "code",
   "execution_count": null,
   "id": "0a05bfa5-42a1-440e-bcad-e12cd464fb9d",
   "metadata": {},
   "outputs": [],
   "source": [
    "#| export\n",
    "@patch_to(Mock)\n",
    "def __getattr__(self, name: str) -> FunctionMock:\n",
    "    if name not in self._function_mocks:\n",
    "        raise AttributeError(f\"Name {name} not found in {self}\")\n",
    "        \n",
    "    return self._function_mocks[name]"
   ]
  },
  {
   "cell_type": "code",
   "execution_count": null,
   "id": "a3f30fee-2912-42d6-8bc8-50946ad2a4ca",
   "metadata": {},
   "outputs": [],
   "source": [
    "mock = Mock(IWeb)\n",
    "\n",
    "test_fail(lambda: mock.not_a_name)\n",
    "assert isinstance(mock.get, FunctionMock)"
   ]
  },
  {
   "cell_type": "markdown",
   "id": "7eab7e92-31ea-4992-8c7d-fc25322afa14",
   "metadata": {},
   "source": [
    "With this we can now build a working prototype of a mocked protocol."
   ]
  },
  {
   "cell_type": "code",
   "execution_count": null,
   "id": "30d5597e-4d77-40bd-ac77-4dff0f9b5614",
   "metadata": {},
   "outputs": [],
   "source": [
    "mock = Mock(IWeb)\n",
    "\n",
    "mock.get.setup(\n",
    "    ArgumentFunctionValidator(lambda a: isinstance(a, str), name='suffix', position=1)).returns(lambda self,suffix: f'suffix: {suffix}')"
   ]
  },
  {
   "cell_type": "code",
   "execution_count": null,
   "id": "340df891-f344-4ade-a1a3-367a9b4cbf90",
   "metadata": {},
   "outputs": [],
   "source": [
    "assert mock.get('anyString') == 'suffix: anyString'\n",
    "assert mock.get(1) is None\n",
    "test_fail(lambda: mock.get())"
   ]
  },
  {
   "cell_type": "markdown",
   "id": "c93bdb90-7708-422f-b59e-ae737d8713b1",
   "metadata": {},
   "source": [
    "# Build library"
   ]
  },
  {
   "cell_type": "code",
   "execution_count": null,
   "id": "970d5029-15ee-4091-bb22-44041f25a935",
   "metadata": {},
   "outputs": [],
   "source": [
    "#| hide\n",
    "import nbdev; nbdev.nbdev_export()"
   ]
  },
  {
   "cell_type": "code",
   "execution_count": null,
   "id": "485d30b1-56ad-4c37-b2bb-0f14c32b251e",
   "metadata": {},
   "outputs": [],
   "source": []
  }
 ],
 "metadata": {
  "kernelspec": {
   "display_name": "Python 3 (ipykernel)",
   "language": "python",
   "name": "python3"
  }
 },
 "nbformat": 4,
 "nbformat_minor": 5
}
