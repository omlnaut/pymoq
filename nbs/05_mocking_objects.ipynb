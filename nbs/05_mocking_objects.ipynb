{
 "cells": [
  {
   "cell_type": "code",
   "execution_count": null,
   "id": "b97f0a20-bacc-4075-bce2-31a8f603919a",
   "metadata": {},
   "outputs": [],
   "source": [
    "#| default_exp mocking.objects"
   ]
  },
  {
   "cell_type": "code",
   "execution_count": null,
   "id": "b6c6cd8f-65b2-4174-94bc-b23130a43fa6",
   "metadata": {},
   "outputs": [],
   "source": [
    "from typing import Protocol"
   ]
  },
  {
   "cell_type": "markdown",
   "id": "0a203c52-f0a4-4476-932f-21c066eb1f41",
   "metadata": {},
   "source": [
    "# Mocking objects\n",
    "> Mocking an object with all its (public) attributes and methods"
   ]
  },
  {
   "cell_type": "markdown",
   "id": "c9b4863b-bfb1-4784-827f-d285b3d4b07a",
   "metadata": {},
   "source": [
    "## Public names"
   ]
  },
  {
   "cell_type": "markdown",
   "id": "94d90c72-8504-4d9e-8425-820a1b950be6",
   "metadata": {},
   "source": [
    "Since the main purpose of `pymoq` is to mock interfaces (aka protocols), we need a way to extract the public members of an interface. By convention, public members should not start with an underscore."
   ]
  },
  {
   "cell_type": "markdown",
   "id": "57973f2f-907c-4bc9-b653-967408324597",
   "metadata": {},
   "source": [
    "### Methods"
   ]
  },
  {
   "cell_type": "markdown",
   "id": "53e02564-8667-4689-91d3-7b1f4773880e",
   "metadata": {},
   "source": [
    "All methods whose name doesn't start with an underscore should be included. The only public method in the following class is `get`."
   ]
  },
  {
   "cell_type": "code",
   "execution_count": null,
   "id": "6dcd69b1-5dd0-4012-be2c-4cbfe8defbfe",
   "metadata": {},
   "outputs": [],
   "source": [
    "class IWeb(Protocol):\n",
    "    def get(self, suffix:str) -> str:\n",
    "        ...\n",
    "    \n",
    "    def _internal_stuff(self) -> None:\n",
    "        ..."
   ]
  },
  {
   "cell_type": "markdown",
   "id": "a876e548-d351-467a-a9e8-94710123a749",
   "metadata": {},
   "source": [
    "All names are exposed through the `dir` method..."
   ]
  },
  {
   "cell_type": "code",
   "execution_count": null,
   "id": "75d1d4f7-0917-4aed-b45f-877de0a28385",
   "metadata": {},
   "outputs": [
    {
     "data": {
      "text/plain": [
       "['__abstractmethods__',\n",
       " '__annotations__',\n",
       " '__class__',\n",
       " '__class_getitem__',\n",
       " '__delattr__',\n",
       " '__dict__',\n",
       " '__dir__',\n",
       " '__doc__',\n",
       " '__eq__',\n",
       " '__format__',\n",
       " '__ge__',\n",
       " '__getattribute__',\n",
       " '__gt__',\n",
       " '__hash__',\n",
       " '__init__',\n",
       " '__init_subclass__',\n",
       " '__le__',\n",
       " '__lt__',\n",
       " '__module__',\n",
       " '__ne__',\n",
       " '__new__',\n",
       " '__parameters__',\n",
       " '__reduce__',\n",
       " '__reduce_ex__',\n",
       " '__repr__',\n",
       " '__setattr__',\n",
       " '__sizeof__',\n",
       " '__slots__',\n",
       " '__str__',\n",
       " '__subclasshook__',\n",
       " '__weakref__',\n",
       " '_abc_impl',\n",
       " '_internal_stuff',\n",
       " '_is_protocol',\n",
       " '_is_runtime_protocol',\n",
       " 'get']"
      ]
     },
     "execution_count": null,
     "metadata": {},
     "output_type": "execute_result"
    }
   ],
   "source": [
    "dir(IWeb)"
   ]
  },
  {
   "cell_type": "markdown",
   "id": "3ebf011f-3053-4c9a-9807-a13ad12fb1c5",
   "metadata": {},
   "source": [
    "... which can be filtered for names that don't start with an underscore:"
   ]
  },
  {
   "cell_type": "code",
   "execution_count": null,
   "id": "d9af5125-0014-4080-8007-839cd9052629",
   "metadata": {},
   "outputs": [],
   "source": [
    "#| export\n",
    "def _is_public_name(name: str):\n",
    "    \"Returns whether or not a (member) name is public\"\n",
    "    return not name.startswith('_')\n",
    "\n",
    "def get_public_names(protocol: type) -> list[str]:\n",
    "    \"Returns all names that are considered public from the given\"\n",
    "    names = [name for name in dir(protocol) if _is_public_name(name)]\n",
    "    return names"
   ]
  },
  {
   "cell_type": "code",
   "execution_count": null,
   "id": "a2bdea25-7daf-473b-b4c5-0dd37aa25a08",
   "metadata": {},
   "outputs": [],
   "source": [
    "assert get_public_names(IWeb)==['get']"
   ]
  },
  {
   "cell_type": "markdown",
   "id": "9e6a7073-548a-4fba-9139-3a30000882d0",
   "metadata": {},
   "source": [
    "### Attributes"
   ]
  },
  {
   "cell_type": "code",
   "execution_count": null,
   "id": "1defd479-0041-4548-a2b0-73a3a6aad34a",
   "metadata": {},
   "outputs": [],
   "source": []
  }
 ],
 "metadata": {
  "kernelspec": {
   "display_name": "Python 3 (ipykernel)",
   "language": "python",
   "name": "python3"
  }
 },
 "nbformat": 4,
 "nbformat_minor": 5
}
