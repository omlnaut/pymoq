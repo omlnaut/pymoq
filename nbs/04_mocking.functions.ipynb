{
 "cells": [
  {
   "cell_type": "code",
   "execution_count": null,
   "id": "bef9c6a0-0a1f-4611-aa92-a4e189a88ff8",
   "metadata": {},
   "outputs": [],
   "source": [
    "#| default_exp mocking.functions"
   ]
  },
  {
   "cell_type": "code",
   "execution_count": null,
   "id": "3abeee2f-bb1c-4de1-b433-a6ff19e35b98",
   "metadata": {},
   "outputs": [],
   "source": [
    "#| export\n",
    "import inspect\n",
    "from pymoq.core import AnyCallable"
   ]
  },
  {
   "cell_type": "code",
   "execution_count": null,
   "id": "b39cdce9-78a8-48b3-b8f5-2a590490763b",
   "metadata": {},
   "outputs": [],
   "source": [
    "#| hide\n",
    "from fastcore.test import test_fail"
   ]
  },
  {
   "cell_type": "markdown",
   "id": "6494f4e2-7b69-45c9-b329-5c9a63a493de",
   "metadata": {},
   "source": [
    "# Mocking functions\n",
    "> From function object to function mock"
   ]
  },
  {
   "cell_type": "markdown",
   "id": "39f3f754-bfe2-466f-81b3-6e94c6dfd315",
   "metadata": {},
   "source": [
    "## Checking arguments against original signature"
   ]
  },
  {
   "cell_type": "markdown",
   "id": "666c8b77-723c-413c-a8e6-f0d0001f1ec5",
   "metadata": {},
   "source": [
    "For a given argument list, we want to know whether the original function can be called with that set of parameters. This can be done in two steps:\n",
    "1. Extract the signature\n",
    "2. Try to bind the argument list against the signature. This throws an exception if the arguments can not be matched against the signature"
   ]
  },
  {
   "cell_type": "code",
   "execution_count": null,
   "id": "e1fb8d18-2b4c-46f6-98cd-de41cf3b867f",
   "metadata": {},
   "outputs": [],
   "source": [
    "def f(a: int, b: str, c:str|None =None) -> None:\n",
    "    pass"
   ]
  },
  {
   "cell_type": "markdown",
   "id": "ce1acb3c-12a2-4297-954a-aa8cb76b52d8",
   "metadata": {},
   "source": [
    "Successful bind:"
   ]
  },
  {
   "cell_type": "code",
   "execution_count": null,
   "id": "ee03d408-ef0d-4042-bea0-5706dafb742e",
   "metadata": {},
   "outputs": [
    {
     "data": {
      "text/plain": [
       "<BoundArguments (a=1, b='1', c='2')>"
      ]
     },
     "execution_count": null,
     "metadata": {},
     "output_type": "execute_result"
    }
   ],
   "source": [
    "inspect.signature(f).bind(1, \"1\", \"2\")"
   ]
  },
  {
   "cell_type": "markdown",
   "id": "fde587be-f554-4c6a-9a99-c132ca9c8f96",
   "metadata": {},
   "source": [
    "Unsuccessful bind:"
   ]
  },
  {
   "cell_type": "code",
   "execution_count": null,
   "id": "ace6fd28-1e86-46df-b7bb-833a25e99ed4",
   "metadata": {},
   "outputs": [
    {
     "name": "stdout",
     "output_type": "stream",
     "text": [
      "missing a required argument: 'b'\n"
     ]
    }
   ],
   "source": [
    "try:\n",
    "    inspect.signature(f).bind(1)\n",
    "except Exception as e:\n",
    "    print(e)"
   ]
  },
  {
   "cell_type": "code",
   "execution_count": null,
   "id": "9967eb12-5d92-475c-9c02-04c1471ff9e7",
   "metadata": {},
   "outputs": [],
   "source": [
    "#| export\n",
    "class FunctionMock:\n",
    "    \"Mocks a function object based on its signature\"\n",
    "    def __init__(self, func: AnyCallable):\n",
    "        self._func = func\n",
    "        self._signature = inspect.signature(self._func)\n",
    "        \n",
    "    def arguments_valid(self, *args, **kwargs) -> bool:\n",
    "        \"Given an arbitrary argument list (both positional and keyword arguments), returns True if the mocked function could be called with those arguments\"\n",
    "        try:\n",
    "            self._signature.bind(*args, **kwargs)\n",
    "            return True\n",
    "        except:\n",
    "            return False"
   ]
  },
  {
   "cell_type": "code",
   "execution_count": null,
   "id": "f428de3d-1e21-42fe-a055-150f13801455",
   "metadata": {},
   "outputs": [],
   "source": [
    "mock = FunctionMock(f)"
   ]
  },
  {
   "cell_type": "markdown",
   "id": "55d1d805-bb42-4804-96da-a22d2cd43ad6",
   "metadata": {},
   "source": [
    "Successful binds:"
   ]
  },
  {
   "cell_type": "code",
   "execution_count": null,
   "id": "0b8a10f0-021c-4cf4-801c-124d8cfddb46",
   "metadata": {},
   "outputs": [],
   "source": [
    "assert mock.arguments_valid(1, \"1\", \"2\")\n",
    "assert mock.arguments_valid(1, \"1\")\n",
    "assert mock.arguments_valid(1, \"1\", c=\"2\")\n",
    "assert mock.arguments_valid(a=1, b=\"1\", c=\"2\")"
   ]
  },
  {
   "cell_type": "markdown",
   "id": "42cdb2e0-803e-4dfa-b7a9-0937df8faf9e",
   "metadata": {},
   "source": [
    "Note that the types are not checked with this:"
   ]
  },
  {
   "cell_type": "code",
   "execution_count": null,
   "id": "b715ce8f-bbc5-45c9-a55a-1b28ff798ed8",
   "metadata": {},
   "outputs": [],
   "source": [
    "assert mock.arguments_valid(1, 1)"
   ]
  },
  {
   "cell_type": "markdown",
   "id": "c6c9b539-2e41-460c-89ed-dc59a96306c3",
   "metadata": {},
   "source": [
    "Unsuccessful binds might be:"
   ]
  },
  {
   "cell_type": "code",
   "execution_count": null,
   "id": "b48a8253-1ac8-41fd-8895-a1b566b7455a",
   "metadata": {},
   "outputs": [],
   "source": [
    "assert not mock.arguments_valid(1) # too few arguments\n",
    "assert not mock.arguments_valid(1,2,3,4) # too many arguments\n",
    "assert not mock.arguments_valid(1,2,d=3) # unknown argument name"
   ]
  },
  {
   "cell_type": "markdown",
   "id": "3e6ddd87-54cb-4b1d-b3cc-ae4671416682",
   "metadata": {},
   "source": [
    "# Build library"
   ]
  },
  {
   "cell_type": "code",
   "execution_count": null,
   "id": "06d58d85-5664-422a-8fa9-fece43bfaf44",
   "metadata": {},
   "outputs": [],
   "source": [
    "#| hide\n",
    "import nbdev; nbdev.nbdev_export()"
   ]
  },
  {
   "cell_type": "code",
   "execution_count": null,
   "id": "1aacce4d-ae2c-44dd-ac1d-93235b775557",
   "metadata": {},
   "outputs": [],
   "source": []
  }
 ],
 "metadata": {
  "kernelspec": {
   "display_name": "Python 3 (ipykernel)",
   "language": "python",
   "name": "python3"
  }
 },
 "nbformat": 4,
 "nbformat_minor": 5
}
