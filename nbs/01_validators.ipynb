{
 "cells": [
  {
   "cell_type": "code",
   "execution_count": null,
   "metadata": {},
   "outputs": [],
   "source": [
    "#| default_exp argument_validators"
   ]
  },
  {
   "cell_type": "code",
   "execution_count": null,
   "metadata": {},
   "outputs": [],
   "source": [
    "%load_ext autoreload\n",
    "%autoreload 2"
   ]
  },
  {
   "cell_type": "code",
   "execution_count": null,
   "metadata": {},
   "outputs": [],
   "source": [
    "#| export\n",
    "from typing import Protocol, Any, runtime_checkable\n",
    "from pymoq.core import AnyCallable"
   ]
  },
  {
   "cell_type": "code",
   "execution_count": null,
   "metadata": {},
   "outputs": [],
   "source": [
    "#| hide\n",
    "from nbdev.showdoc import *\n",
    "from fastcore.test import test_fail"
   ]
  },
  {
   "cell_type": "markdown",
   "metadata": {},
   "source": [
    "# Validators\n",
    "\n",
    "> Collection of methods to validate specific call arguments."
   ]
  },
  {
   "cell_type": "markdown",
   "metadata": {},
   "source": [
    "Goal: Evaluate whether a call like `f(1,\"s\")` matches any signature-pattern. A signature pattern might be defined like `f(1, str)`. This should match any call that passes the exact value one for the first argument and any object of type str in the second."
   ]
  },
  {
   "cell_type": "markdown",
   "metadata": {},
   "source": [
    "## Argument validators"
   ]
  },
  {
   "cell_type": "markdown",
   "metadata": {},
   "source": [
    "We break the task down to validating a single argument. The signature of such an ArgumentValidator should look like :"
   ]
  },
  {
   "cell_type": "code",
   "execution_count": null,
   "metadata": {},
   "outputs": [],
   "source": [
    "#| export\n",
    "@runtime_checkable\n",
    "class ArgumentValidator(Protocol):\n",
    "    \"Interface for all argument validators.\"\n",
    "    \n",
    "    @property\n",
    "    def name() -> str:\n",
    "        \"Name of the argument in the signature\"\n",
    "        \n",
    "    @property\n",
    "    def position() -> int:\n",
    "        \"Position of the argument in the signature\"\n",
    "        \n",
    "    def is_valid(self, argument: Any) -> bool:\n",
    "        ..."
   ]
  },
  {
   "cell_type": "markdown",
   "metadata": {},
   "source": [
    "The most flexibility can be achieved by constructing an ArgumentValidator that evaluates an arbitrary function:"
   ]
  },
  {
   "cell_type": "code",
   "execution_count": null,
   "metadata": {},
   "outputs": [],
   "source": [
    "#| export\n",
    "class ArgumentFunctionValidator:\n",
    "    \"Validate an argument by evaluating an arbitrary function\"\n",
    "    def __init__(self, func: AnyCallable[bool], name: str, position: int):\n",
    "        self._func = func\n",
    "        self._name = name\n",
    "        self._position = position\n",
    "        \n",
    "    @property\n",
    "    def name(self) -> str:\n",
    "        return self._name\n",
    "    \n",
    "    @property\n",
    "    def position(self) -> int:\n",
    "        return self._position\n",
    "        \n",
    "    def is_valid(self, argument: Any) -> bool:\n",
    "        return self._func(argument)\n",
    "    \n",
    "    def __str__(self): return f'ArgumentFunctionValidator({self.name}, {self.position})'\n",
    "    def __repr__(self): return str(self)\n",
    "    \n",
    "assert isinstance(ArgumentFunctionValidator, ArgumentValidator), \"ArgumentFunctionValidator does not implement the ArgumentValidator-Protocol\""
   ]
  },
  {
   "cell_type": "markdown",
   "metadata": {},
   "source": [
    "This could now be used like:"
   ]
  },
  {
   "cell_type": "code",
   "execution_count": null,
   "metadata": {},
   "outputs": [
    {
     "data": {
      "text/plain": [
       "ArgumentFunctionValidator(firstArgument, 0)"
      ]
     },
     "execution_count": null,
     "metadata": {},
     "output_type": "execute_result"
    }
   ],
   "source": [
    "any_int = ArgumentFunctionValidator(lambda v: isinstance(v, int), \"firstArgument\", 0)\n",
    "any_int"
   ]
  },
  {
   "cell_type": "code",
   "execution_count": null,
   "metadata": {},
   "outputs": [],
   "source": [
    "assert any_int.is_valid(1)\n",
    "assert not any_int.is_valid(1.1)\n",
    "assert not any_int.is_valid(\"string\")\n",
    "assert str(any_int)=='ArgumentFunctionValidator(firstArgument, 0)'"
   ]
  },
  {
   "cell_type": "markdown",
   "metadata": {},
   "source": [
    "In later stages there should be convenience methods around creating such argument validators. E.g. `from_type(some_type)` for making the above easier."
   ]
  },
  {
   "cell_type": "markdown",
   "metadata": {},
   "source": [
    "### Ease of use: Construction from arguments"
   ]
  },
  {
   "cell_type": "code",
   "execution_count": null,
   "metadata": {},
   "outputs": [],
   "source": [
    "#| export\n",
    "def argument_validator_from_argument(argument: Any, name:str, position: int) -> ArgumentValidator:\n",
    "    if isinstance(argument, ArgumentValidator):\n",
    "        return argument\n",
    "    \n",
    "    if callable(argument):\n",
    "        return ArgumentFunctionValidator(argument, name=name, position=position)\n",
    "    else:\n",
    "        return ArgumentFunctionValidator(lambda v: v==argument, name=name, position=position)"
   ]
  },
  {
   "cell_type": "markdown",
   "metadata": {},
   "source": [
    "Passing a valid `ArgumentValidator` simply returns it:"
   ]
  },
  {
   "cell_type": "code",
   "execution_count": null,
   "metadata": {},
   "outputs": [],
   "source": [
    "assert argument_validator_from_argument(any_int, any_int.name, 0) == any_int"
   ]
  },
  {
   "cell_type": "markdown",
   "metadata": {},
   "source": [
    "Passing a callable constructs an `ArgumentFunctionValidator`:"
   ]
  },
  {
   "cell_type": "code",
   "execution_count": null,
   "metadata": {},
   "outputs": [],
   "source": [
    "arg_val = argument_validator_from_argument(lambda v: isinstance(v, int), 'any_int', 0)\n",
    "\n",
    "assert isinstance(arg_val, ArgumentValidator)\n",
    "assert arg_val.is_valid(1)\n",
    "assert not arg_val.is_valid(\"1\")"
   ]
  },
  {
   "cell_type": "markdown",
   "metadata": {},
   "source": [
    "Passing a non-callable assumes that the value should be compared against, i.e. it's a constant:"
   ]
  },
  {
   "cell_type": "code",
   "execution_count": null,
   "metadata": {},
   "outputs": [],
   "source": [
    "arg_val = argument_validator_from_argument(123, name='any_int', position=0)\n",
    "\n",
    "assert isinstance(arg_val, ArgumentValidator)\n",
    "assert arg_val.is_valid(123)\n",
    "assert not arg_val.is_valid(124)"
   ]
  },
  {
   "cell_type": "markdown",
   "metadata": {},
   "source": [
    "## Special Validators"
   ]
  },
  {
   "cell_type": "code",
   "execution_count": null,
   "metadata": {},
   "outputs": [],
   "source": [
    "#| export\n",
    "AnyArg = lambda: lambda v: True"
   ]
  },
  {
   "cell_type": "markdown",
   "metadata": {},
   "source": [
    "# Build library"
   ]
  },
  {
   "cell_type": "code",
   "execution_count": null,
   "metadata": {},
   "outputs": [],
   "source": [
    "#| hide\n",
    "import nbdev; nbdev.nbdev_export()"
   ]
  },
  {
   "cell_type": "code",
   "execution_count": null,
   "metadata": {},
   "outputs": [],
   "source": []
  }
 ],
 "metadata": {
  "kernelspec": {
   "display_name": "Python 3 (ipykernel)",
   "language": "python",
   "name": "python3"
  }
 },
 "nbformat": 4,
 "nbformat_minor": 4
}
