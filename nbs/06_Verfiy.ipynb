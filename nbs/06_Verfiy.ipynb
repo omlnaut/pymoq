{
 "cells": [
  {
   "cell_type": "code",
   "execution_count": null,
   "id": "2e8a7b1e-1e01-4711-97d1-91a88ef9c5b8",
   "metadata": {},
   "outputs": [],
   "source": [
    "#| default_exp verification"
   ]
  },
  {
   "cell_type": "code",
   "execution_count": null,
   "id": "f398dd8a-04dc-43e0-9127-5dad7ca0a9f3",
   "metadata": {},
   "outputs": [],
   "source": [
    "%load_ext autoreload\n",
    "%autoreload 2"
   ]
  },
  {
   "cell_type": "code",
   "execution_count": null,
   "id": "83731ab5-d252-48f7-94a9-384bb00611a7",
   "metadata": {},
   "outputs": [],
   "source": [
    "from dataclasses import dataclass\n",
    "from typing import Any\n",
    "\n",
    "from pymoq.mocking.functions import FunctionMock\n",
    "\n",
    "from fastcore.basics import patch_to"
   ]
  },
  {
   "cell_type": "markdown",
   "id": "630ca556-bcdb-48f3-8614-cb49c2270d66",
   "metadata": {},
   "source": [
    "# Verification\n",
    "> Verify that the mock was called the way you intended"
   ]
  },
  {
   "cell_type": "code",
   "execution_count": null,
   "id": "49a7496d-48a0-4a89-b883-6a28db22393d",
   "metadata": {},
   "outputs": [],
   "source": [
    "from pymoq.mocking import objects\n",
    "from typing import Protocol\n",
    "\n",
    "Mock = objects.Mock"
   ]
  },
  {
   "cell_type": "code",
   "execution_count": null,
   "id": "9d42a3f5-8546-4a60-892a-09260bca7b92",
   "metadata": {},
   "outputs": [],
   "source": [
    "class IWeb(Protocol):\n",
    "    def get(a: int, b:str, c:float|None=None):\n",
    "        ..."
   ]
  },
  {
   "cell_type": "code",
   "execution_count": null,
   "id": "81b3fc9b-2957-4a9e-bac7-582be790ef61",
   "metadata": {},
   "outputs": [
    {
     "data": {
      "text/plain": [
       "[((1, '2'), {'c': None})]"
      ]
     },
     "execution_count": null,
     "metadata": {},
     "output_type": "execute_result"
    }
   ],
   "source": [
    "m = Mock(IWeb)\n",
    "\n",
    "m.get(1,\"2\")\n",
    "\n",
    "m.get._calls"
   ]
  },
  {
   "cell_type": "code",
   "execution_count": null,
   "id": "b2128522-024e-49e0-892f-69c86a8e072f",
   "metadata": {},
   "outputs": [],
   "source": [
    "from pymoq.signature_validators import signature_validator_from_arguments\n",
    "from pymoq.mocking.functions import add_self_parameter"
   ]
  },
  {
   "cell_type": "code",
   "execution_count": null,
   "id": "a010ceba-a00c-4b2c-8247-4a5f6abdb67a",
   "metadata": {},
   "outputs": [],
   "source": [
    "sign_val = signature_validator_from_arguments(['a', 'b', 'c'], 1, \"2\", c=lambda _: True)"
   ]
  },
  {
   "cell_type": "code",
   "execution_count": null,
   "id": "8f4d92f7-ed7c-45d1-96a2-eb0f39334bdd",
   "metadata": {},
   "outputs": [
    {
     "name": "stdout",
     "output_type": "stream",
     "text": [
      "True\n"
     ]
    }
   ],
   "source": [
    "for args, kwargs in m.get._calls:\n",
    "    kwargs = m.get.fill_up_arg_list(args, kwargs)\n",
    "    print(sign_val.is_valid(*args, **kwargs))"
   ]
  },
  {
   "cell_type": "code",
   "execution_count": null,
   "id": "e4329503-7343-40c0-82ad-6e546ddd35be",
   "metadata": {},
   "outputs": [],
   "source": [
    "@dataclass\n",
    "class VerifiedCalls:\n",
    "    calls: list[tuple[list[Any], dict[str, Any]]]\n",
    "    \n",
    "    @property\n",
    "    def successful(self): return len(self.calls)"
   ]
  },
  {
   "cell_type": "code",
   "execution_count": null,
   "id": "c17431aa-c67d-423d-a15d-8587f080efa8",
   "metadata": {},
   "outputs": [],
   "source": [
    "@patch_to(FunctionMock)\n",
    "def verify(self, *args, **kwargs) -> VerifiedCalls:\n",
    "    kwargs = self.fill_up_arg_list(args, kwargs)\n",
    "    sign_val = signature_validator_from_arguments(self._argument_names, *args, **kwargs)\n",
    "    calls = []\n",
    "    \n",
    "    for call_args, call_kwargs in self._calls:\n",
    "        call_kwargs = self.fill_up_arg_list(call_args, call_kwargs)\n",
    "        if sign_val.is_valid(*call_args, **call_kwargs):\n",
    "            calls.append((call_args, call_kwargs))\n",
    "    return VerifiedCalls(calls)"
   ]
  },
  {
   "cell_type": "code",
   "execution_count": null,
   "id": "f8488716-5bb3-407a-a6d2-636b5907206f",
   "metadata": {},
   "outputs": [
    {
     "data": {
      "text/plain": [
       "VerifiedCalls(calls=[((1, '2'), {'c': None}), ((2, '2'), {'c': None})])"
      ]
     },
     "execution_count": null,
     "metadata": {},
     "output_type": "execute_result"
    }
   ],
   "source": [
    "m = Mock(IWeb)\n",
    "\n",
    "m.get(1,\"2\")\n",
    "m.get(2,\"2\")\n",
    "\n",
    "m.get.verify(lambda x: isinstance(x, int),\"2\")"
   ]
  },
  {
   "cell_type": "code",
   "execution_count": null,
   "id": "7a5b13bc-5320-44c0-9282-7c6da4f58f77",
   "metadata": {},
   "outputs": [],
   "source": []
  }
 ],
 "metadata": {
  "kernelspec": {
   "display_name": "Python 3 (ipykernel)",
   "language": "python",
   "name": "python3"
  }
 },
 "nbformat": 4,
 "nbformat_minor": 5
}
