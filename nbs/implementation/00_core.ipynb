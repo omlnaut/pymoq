{
 "cells": [
  {
   "cell_type": "code",
   "execution_count": null,
   "id": "a842c950-1f4c-49c1-92d6-dc0e46b04afc",
   "metadata": {},
   "outputs": [],
   "source": [
    "#| default_exp core"
   ]
  },
  {
   "cell_type": "code",
   "execution_count": null,
   "id": "42b50a8a-8947-47b2-8462-e3cdfd07ca66",
   "metadata": {},
   "outputs": [],
   "source": [
    "#| export\n",
    "from typing import Protocol, Generic, TypeVar"
   ]
  },
  {
   "cell_type": "markdown",
   "id": "af102783-902f-4d66-8d5b-f3fde98a7469",
   "metadata": {},
   "source": [
    "# Core\n",
    "\n",
    "> Collection of general helper methods"
   ]
  },
  {
   "cell_type": "markdown",
   "id": "59ac1948-0f5b-4517-a884-c6684e034ae4",
   "metadata": {},
   "source": [
    "## Typing"
   ]
  },
  {
   "cell_type": "code",
   "execution_count": null,
   "id": "3d3caf57-7248-41f6-9006-2078f0438539",
   "metadata": {},
   "outputs": [],
   "source": [
    "#| export\n",
    "T = TypeVar('T')\n",
    "class AnyCallable(Generic[T], Protocol):\n",
    "    \"Generic interface for an object with a call operator that takes any number of arguments (both positional and named) and returns the type T\"\n",
    "    def __call__(self, *args, **kwargs) -> T:\n",
    "        ..."
   ]
  },
  {
   "cell_type": "markdown",
   "id": "75fe7199-ca16-4af1-957f-bdaa500ba95b",
   "metadata": {},
   "source": [
    "# Build library"
   ]
  },
  {
   "cell_type": "code",
   "execution_count": null,
   "id": "4ce4e735-3044-4a87-864b-7aab373f9b6b",
   "metadata": {},
   "outputs": [],
   "source": [
    "#| hide\n",
    "import nbdev; nbdev.nbdev_export()"
   ]
  },
  {
   "cell_type": "code",
   "execution_count": null,
   "id": "04dc4253-6577-4fbc-b7a7-14dc118e7c58",
   "metadata": {},
   "outputs": [],
   "source": []
  }
 ],
 "metadata": {
  "kernelspec": {
   "display_name": "Python 3 (ipykernel)",
   "language": "python",
   "name": "python3"
  }
 },
 "nbformat": 4,
 "nbformat_minor": 5
}
