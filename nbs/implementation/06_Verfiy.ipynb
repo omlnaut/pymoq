{
 "cells": [
  {
   "cell_type": "code",
   "execution_count": null,
   "id": "2e8a7b1e-1e01-4711-97d1-91a88ef9c5b8",
   "metadata": {},
   "outputs": [],
   "source": [
    "#| default_exp verification"
   ]
  },
  {
   "cell_type": "code",
   "execution_count": null,
   "id": "f398dd8a-04dc-43e0-9127-5dad7ca0a9f3",
   "metadata": {},
   "outputs": [],
   "source": [
    "%load_ext autoreload\n",
    "%autoreload 2"
   ]
  },
  {
   "cell_type": "code",
   "execution_count": null,
   "id": "07d9bc08-0675-4edf-bd06-ba6271180289",
   "metadata": {},
   "outputs": [],
   "source": [
    "#| export mocking.functions\n",
    "from dataclasses import dataclass\n",
    "from typing import Any"
   ]
  },
  {
   "cell_type": "code",
   "execution_count": null,
   "id": "baa85131-adc9-4bef-a46a-6854942cbbb2",
   "metadata": {},
   "outputs": [],
   "source": [
    "from pymoq.mocking.functions import FunctionMock, remove_self_parameter\n",
    "\n",
    "from fastcore.basics import patch_to\n",
    "from fastcore.test import test_fail"
   ]
  },
  {
   "cell_type": "markdown",
   "id": "630ca556-bcdb-48f3-8614-cb49c2270d66",
   "metadata": {},
   "source": [
    "# Verification\n",
    "> Verify that the mock was called the way you intended"
   ]
  },
  {
   "cell_type": "markdown",
   "id": "c992f8fa-dcee-488e-addc-90fa06826b56",
   "metadata": {},
   "source": [
    "## Proof of concept"
   ]
  },
  {
   "cell_type": "code",
   "execution_count": null,
   "id": "54474db7-f8f7-4cef-babd-85060f5d8d08",
   "metadata": {},
   "outputs": [],
   "source": [
    "from pymoq.mocking import objects\n",
    "from typing import Protocol"
   ]
  },
  {
   "cell_type": "code",
   "execution_count": null,
   "id": "32a1a804-69f7-420f-9fda-87138d8e1cf6",
   "metadata": {},
   "outputs": [],
   "source": [
    "Mock = objects.Mock"
   ]
  },
  {
   "cell_type": "code",
   "execution_count": null,
   "id": "9d42a3f5-8546-4a60-892a-09260bca7b92",
   "metadata": {},
   "outputs": [],
   "source": [
    "class IWeb(Protocol):\n",
    "    def get(self, a: int, b:str, c:float|None=None):\n",
    "        ..."
   ]
  },
  {
   "cell_type": "markdown",
   "id": "6e79fafb-6fdc-45bf-aaf3-55f6a4d4382a",
   "metadata": {},
   "source": [
    "Calls to the mock are recorded with the full argument list."
   ]
  },
  {
   "cell_type": "code",
   "execution_count": null,
   "id": "81b3fc9b-2957-4a9e-bac7-582be790ef61",
   "metadata": {},
   "outputs": [
    {
     "data": {
      "text/plain": [
       "[((None, 1, '2'), {'c': None})]"
      ]
     },
     "execution_count": null,
     "metadata": {},
     "output_type": "execute_result"
    }
   ],
   "source": [
    "m = Mock(IWeb)\n",
    "\n",
    "m.get(1,\"2\")\n",
    "\n",
    "m.get._calls"
   ]
  },
  {
   "cell_type": "markdown",
   "id": "716ece64-c5b9-463a-9fad-cc3077ffe1c7",
   "metadata": {},
   "source": [
    "These can then be matched against any signature:"
   ]
  },
  {
   "cell_type": "markdown",
   "id": "a04f6b97-84ad-4857-9bc0-009185ea0184",
   "metadata": {},
   "source": [
    "##### Constructin signature validator"
   ]
  },
  {
   "cell_type": "code",
   "execution_count": null,
   "id": "e21413ed-a5b7-484f-a1ad-84234715644b",
   "metadata": {},
   "outputs": [],
   "source": [
    "from pymoq.argument_validators import AnyArg\n",
    "from pymoq.signature_validators import signature_validator_from_arguments\n",
    "from pymoq.mocking.functions import add_self_parameter"
   ]
  },
  {
   "cell_type": "code",
   "execution_count": null,
   "id": "e0db231e-7498-434e-b773-1c5a488e3545",
   "metadata": {},
   "outputs": [],
   "source": [
    "sign_val = signature_validator_from_arguments(['self', 'a', 'b', 'c'], AnyArg(), 1, \"2\", c=AnyArg())"
   ]
  },
  {
   "cell_type": "markdown",
   "id": "e4ff9c93-9024-4652-9153-c963a9d9d4b4",
   "metadata": {},
   "source": [
    "##### Matching against recorded call"
   ]
  },
  {
   "cell_type": "code",
   "execution_count": null,
   "id": "8f4d92f7-ed7c-45d1-96a2-eb0f39334bdd",
   "metadata": {},
   "outputs": [
    {
     "name": "stdout",
     "output_type": "stream",
     "text": [
      "True\n"
     ]
    }
   ],
   "source": [
    "args, kwargs = m.get._calls[0]\n",
    "kwargs = m.get.fill_up_arg_list(args, kwargs)\n",
    "\n",
    "print(sign_val.is_valid(*args, **kwargs))"
   ]
  },
  {
   "cell_type": "markdown",
   "id": "4431bb25-c902-484d-bc4d-d5a1b4613a9a",
   "metadata": {},
   "source": [
    "## Implementation"
   ]
  },
  {
   "cell_type": "code",
   "execution_count": null,
   "id": "e4329503-7343-40c0-82ad-6e546ddd35be",
   "metadata": {},
   "outputs": [],
   "source": [
    "#| export mocking.functions\n",
    "@dataclass\n",
    "class VerifiedCalls:\n",
    "    verified_calls: list[tuple[list[Any], dict[str, Any]]]\n",
    "    all_calls: list[tuple[list[Any], dict[str, Any]]]\n",
    "    \n",
    "    @property\n",
    "    def verified(self): return len(self.verified_calls)\n",
    "\n",
    "    def times(self, amount: int):\n",
    "        \"\"\"Asserts that the number of verified calls is  exactly `amount`\"\"\"\n",
    "        msg = self._build_error_msg(f\"Expected {amount} calls, got {self.verified}.\")\n",
    "        assert self.verified==amount, msg\n",
    "        \n",
    "    def never(self):\n",
    "        \"\"\"Asserts that no verified call was made\"\"\"\n",
    "        self.times(0)\n",
    "        \n",
    "    def more_than(self, lower_bound: int):\n",
    "        \"\"\"Asserts that more than `lower_bound` verified calls were made\"\"\"\n",
    "        msg = self._build_error_msg(f\"Expected more than {lower_bound} calls, got {self.verified}.\")\n",
    "        assert lower_bound < self.verified, msg\n",
    "        \n",
    "    def less_than(self, upper_bound: int):\n",
    "        \"\"\"Asserts that less than `upper_bound` verified calls were made\"\"\"\n",
    "        msg = self._build_error_msg(f\"Expected less than {upper_bound} calls, got {self.verified}.\")\n",
    "        assert self.verified < upper_bound, msg\n",
    "        \n",
    "    def more_than_or_equal_to(self, lower_bound: int):\n",
    "        \"\"\"Asserts that more than or equal to `lower_bound` verified calls were made\"\"\"\n",
    "        msg = self._build_error_msg(f\"Expected at least {lower_bound} calls, got {self.verified}.\")\n",
    "        assert lower_bound <= self.verified, msg\n",
    "        \n",
    "    def less_than_or_equal_to(self, upper_bound: int):\n",
    "        \"\"\"Asserts that less than or equal to `upper_bound` verified calls were made\"\"\"\n",
    "        msg = self._build_error_msg(f\"Expected at maximum {upper_bound} calls, got {self.verified}.\")\n",
    "        assert self.verified <= upper_bound, msg\n",
    "        \n",
    "    def _build_error_msg(self, general_msg: str) -> str:\n",
    "        calls_str = \"Matched Calls:\\n\\t\" + \"\\n\\t\".join(map(str, self.verified_calls))\n",
    "        total_calls_str = \"All Calls:\\n\\t\" + \"\\n\\t\".join(map(str, self.all_calls))\n",
    "        \n",
    "        msg = \"\\n\".join((general_msg, calls_str, total_calls_str))\n",
    "        return msg"
   ]
  },
  {
   "cell_type": "code",
   "execution_count": null,
   "id": "c17431aa-c67d-423d-a15d-8587f080efa8",
   "metadata": {},
   "outputs": [],
   "source": [
    "#| export mocking.functions\n",
    "@patch_to(FunctionMock)\n",
    "def verify(self, *args, **kwargs) -> VerifiedCalls:\n",
    "    kwargs = self.fill_up_arg_list(add_self_parameter(args), kwargs)\n",
    "    args = (AnyArg(),) + args\n",
    "    sign_val = signature_validator_from_arguments(self._argument_names, *args, **kwargs)\n",
    "    \n",
    "    calls = []\n",
    "    \n",
    "    for call_args, call_kwargs in self._calls:\n",
    "        call_kwargs = self.fill_up_arg_list(call_args, call_kwargs)\n",
    "\n",
    "        \n",
    "        if sign_val.is_valid(*call_args, **call_kwargs):\n",
    "            calls.append((call_args, call_kwargs))\n",
    "    return VerifiedCalls(calls, self._calls)"
   ]
  },
  {
   "cell_type": "code",
   "execution_count": null,
   "id": "f8488716-5bb3-407a-a6d2-636b5907206f",
   "metadata": {},
   "outputs": [
    {
     "data": {
      "text/plain": [
       "VerifiedCalls(verified_calls=[((None, 1, '2'), {'c': None}), ((None, 2, '2'), {'c': None})], all_calls=[((None, 1, '2'), {'c': None}), ((None, 2, '2'), {'c': None}), ((None, 2.3, '2'), {'c': None})])"
      ]
     },
     "execution_count": null,
     "metadata": {},
     "output_type": "execute_result"
    }
   ],
   "source": [
    "m = Mock(IWeb)\n",
    "\n",
    "\n",
    "m.get(1,\"2\")\n",
    "m.get(2,\"2\")\n",
    "m.get(2.3,\"2\")\n",
    "\n",
    "calls = m.get.verify(int, \"2\")\n",
    "assert calls.verified == 2\n",
    "assert calls.verified_calls == [((None, 1, '2'), {'c': None}), ((None, 2, '2'), {'c': None})]\n",
    "\n",
    "calls"
   ]
  },
  {
   "cell_type": "code",
   "execution_count": null,
   "id": "288a669d-e898-4b1e-a12c-c17f44f2add4",
   "metadata": {},
   "outputs": [],
   "source": [
    "m.get.verify(int, \"2\").times(2)\n",
    "m.get.verify(int, \"2\").more_than(1)\n",
    "m.get.verify(int, \"2\").more_than_or_equal_to(2)\n",
    "m.get.verify(int, \"2\").less_than(3)\n",
    "m.get.verify(int, \"2\").less_than_or_equal_to(2)\n",
    "m.get.verify(str, int).never()"
   ]
  },
  {
   "cell_type": "markdown",
   "id": "3760e6cb-7122-4691-9c84-3eb34adabcb1",
   "metadata": {},
   "source": [
    "A failing assertion gives the following error message:"
   ]
  },
  {
   "cell_type": "code",
   "execution_count": null,
   "id": "7a5b13bc-5320-44c0-9282-7c6da4f58f77",
   "metadata": {},
   "outputs": [
    {
     "name": "stdout",
     "output_type": "stream",
     "text": [
      "Expected 1 calls, got 2.\n",
      "Matched Calls:\n",
      "\t((None, 1, '2'), {'c': None})\n",
      "\t((None, 2, '2'), {'c': None})\n",
      "All Calls:\n",
      "\t((None, 1, '2'), {'c': None})\n",
      "\t((None, 2, '2'), {'c': None})\n",
      "\t((None, 2.3, '2'), {'c': None})\n"
     ]
    }
   ],
   "source": [
    "try:\n",
    "    m.get.verify(int, \"2\").times(1)\n",
    "except Exception as e:\n",
    "    print(e)"
   ]
  },
  {
   "cell_type": "code",
   "execution_count": null,
   "id": "b70d1ae7-1ff4-494a-90f7-6500ebddcd0c",
   "metadata": {},
   "outputs": [],
   "source": [
    "test_fail(lambda: m.get.verify(int, \"2\").times(1))\n",
    "test_fail(lambda: m.get.verify(int, \"2\").never())\n",
    "test_fail(lambda: m.get.verify(int, \"2\").more_than(3))\n",
    "test_fail(lambda: m.get.verify(int, \"2\").more_than_or_equal_to(3))\n",
    "test_fail(lambda: m.get.verify(int, \"2\").less_than(1))\n",
    "test_fail(lambda: m.get.verify(int, \"2\").less_than_or_equal_to(1))"
   ]
  },
  {
   "cell_type": "markdown",
   "id": "52e303e6-eaf2-471a-8a10-f6d80e3852c7",
   "metadata": {},
   "source": [
    "# Build library"
   ]
  },
  {
   "cell_type": "code",
   "execution_count": null,
   "id": "c103f134-55c3-4600-bab8-d657c77acfe4",
   "metadata": {},
   "outputs": [],
   "source": [
    "#| hide\n",
    "import nbdev; nbdev.nbdev_export()"
   ]
  },
  {
   "cell_type": "code",
   "execution_count": null,
   "id": "9b129498-f4a1-4ad5-8407-dc3a75eb1d15",
   "metadata": {},
   "outputs": [],
   "source": []
  }
 ],
 "metadata": {
  "kernelspec": {
   "display_name": "Python 3 (ipykernel)",
   "language": "python",
   "name": "python3"
  }
 },
 "nbformat": 4,
 "nbformat_minor": 5
}
