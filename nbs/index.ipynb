{
 "cells": [
  {
   "cell_type": "code",
   "execution_count": null,
   "metadata": {},
   "outputs": [],
   "source": [
    "#| hide\n",
    "from pymoq.core import *"
   ]
  },
  {
   "cell_type": "code",
   "execution_count": null,
   "metadata": {},
   "outputs": [
    {
     "name": "stdout",
     "output_type": "stream",
     "text": [
      "Requirement already satisfied: pytest in /home/omlnaut/miniconda3/envs/pymoq/lib/python3.10/site-packages (7.2.0)\n",
      "Requirement already satisfied: tomli>=1.0.0 in /home/omlnaut/miniconda3/envs/pymoq/lib/python3.10/site-packages (from pytest) (2.0.1)\n",
      "Requirement already satisfied: exceptiongroup>=1.0.0rc8 in /home/omlnaut/miniconda3/envs/pymoq/lib/python3.10/site-packages (from pytest) (1.0.1)\n",
      "Requirement already satisfied: iniconfig in /home/omlnaut/miniconda3/envs/pymoq/lib/python3.10/site-packages (from pytest) (1.1.1)\n",
      "Requirement already satisfied: packaging in /home/omlnaut/miniconda3/envs/pymoq/lib/python3.10/site-packages (from pytest) (21.3)\n",
      "Requirement already satisfied: pluggy<2.0,>=0.12 in /home/omlnaut/miniconda3/envs/pymoq/lib/python3.10/site-packages (from pytest) (1.0.0)\n",
      "Requirement already satisfied: attrs>=19.2.0 in /home/omlnaut/miniconda3/envs/pymoq/lib/python3.10/site-packages (from pytest) (21.4.0)\n",
      "Requirement already satisfied: pyparsing!=3.0.5,>=2.0.2 in /home/omlnaut/miniconda3/envs/pymoq/lib/python3.10/site-packages (from packaging->pytest) (3.0.9)\n"
     ]
    }
   ],
   "source": [
    "#| hide\n",
    "!pip install pytest\n",
    "import pytest"
   ]
  },
  {
   "cell_type": "markdown",
   "metadata": {},
   "source": [
    "# pymoq\n",
    "\n",
    "> Extending unittest-mock with moq-like validators"
   ]
  },
  {
   "cell_type": "markdown",
   "metadata": {},
   "source": [
    "Following the end-to-end [tutorial](https://nbdev.fast.ai/Tutorials/tutorial.html) for nbdev.\n",
    "Project homepage: [github](https://github.com/omlnaut/pymoq)\n",
    "\n",
    "Currently facing pipeline issues: [issue](https://github.com/fastai/nbdev/issues/1190)"
   ]
  },
  {
   "cell_type": "markdown",
   "metadata": {},
   "source": [
    "## Install"
   ]
  },
  {
   "cell_type": "markdown",
   "metadata": {},
   "source": [
    "```sh\n",
    "pip install pymoq\n",
    "```"
   ]
  },
  {
   "cell_type": "markdown",
   "metadata": {},
   "source": [
    "## How to use"
   ]
  },
  {
   "cell_type": "markdown",
   "metadata": {},
   "source": [
    "Suppose we have the following setup in a python backend."
   ]
  },
  {
   "cell_type": "code",
   "execution_count": null,
   "metadata": {},
   "outputs": [],
   "source": [
    "from typing import Protocol\n",
    "\n",
    "class IWeb(Protocol):\n",
    "    \"Interface for accessing internet resources\"\n",
    "    \n",
    "    def get(self, url:str, page:int, verbose:bool=False) -> str:\n",
    "        \"Fetches the ressource at `url` and returns it in string representation\""
   ]
  },
  {
   "cell_type": "code",
   "execution_count": null,
   "metadata": {},
   "outputs": [],
   "source": [
    "class RessourceFetcher:\n",
    "    base_url: str = \"https://some_base.com/\"\n",
    "    \n",
    "    def __init__(self, web: IWeb):\n",
    "        self._web = web\n",
    "    \n",
    "    def check_ressource(self, ressource_name: str, page:int, verbose:bool=False) -> bool:\n",
    "        url = self.base_url + ressource_name\n",
    "        ressource = self._web.get(url, page, verbose)\n",
    "        \n",
    "        return ressource is not None"
   ]
  },
  {
   "cell_type": "markdown",
   "metadata": {},
   "source": [
    "We want to test the `fetch_ressource` method of `RessourceFetcher`. More specifically, we want to test that if the ressource is correctly returned from the source, this method should return `True`, otherwise `False`."
   ]
  },
  {
   "cell_type": "markdown",
   "metadata": {},
   "source": [
    "### Setting up the mock"
   ]
  },
  {
   "cell_type": "code",
   "execution_count": null,
   "metadata": {},
   "outputs": [],
   "source": [
    "import pymoq.mocking.objects"
   ]
  },
  {
   "cell_type": "code",
   "execution_count": null,
   "metadata": {},
   "outputs": [],
   "source": [
    "mock = pymoq.mocking.objects.Mock(IWeb)\n",
    "mock.get\\\n",
    "    .setup('https://some_base.com/ressource', int, False)\\\n",
    "    .returns(lambda self,url,page,verbose: True)\n",
    "\n",
    "fetcher = RessourceFetcher(mock)"
   ]
  },
  {
   "cell_type": "markdown",
   "metadata": {},
   "source": [
    "If the call matches the siganture defined in the `setup` method, the lambda in `returns` is called and its return value is returned:"
   ]
  },
  {
   "cell_type": "code",
   "execution_count": null,
   "metadata": {},
   "outputs": [],
   "source": [
    "assert fetcher.check_ressource('ressource', 1)"
   ]
  },
  {
   "cell_type": "markdown",
   "metadata": {},
   "source": [
    "If any part of the signature does not match, `None` is returned:"
   ]
  },
  {
   "cell_type": "code",
   "execution_count": null,
   "metadata": {},
   "outputs": [],
   "source": [
    "assert not fetcher.check_ressource('other_ressource', 1) # wrong ressource name\n",
    "assert not fetcher.check_ressource('ressource', \"1\") # wrong type of page argument\n",
    "assert not fetcher.check_ressource('ressource', \"1\", verbose=True) # wrong value for verbose argument"
   ]
  },
  {
   "cell_type": "markdown",
   "metadata": {},
   "source": [
    "### Verification"
   ]
  },
  {
   "cell_type": "markdown",
   "metadata": {},
   "source": [
    "One might want to check how often a function mock was invoked with a specific call signature. This can easily be done via the `.verify` method:"
   ]
  },
  {
   "cell_type": "code",
   "execution_count": null,
   "metadata": {},
   "outputs": [],
   "source": [
    "from pymoq.argument_validators import AnyInt"
   ]
  },
  {
   "cell_type": "code",
   "execution_count": null,
   "metadata": {},
   "outputs": [],
   "source": [
    "mock = pymoq.mocking.objects.Mock(IWeb)\n",
    "fetcher = RessourceFetcher(mock)\n",
    "\n",
    "# setup\n",
    "mock.get.setup(str, int, bool).returns(lambda self,url,page,verbose: True)\n",
    "\n",
    "# act\n",
    "fetcher.check_ressource('ressource', 1)\n",
    "fetcher.check_ressource('ressource', 2)\n",
    "fetcher.check_ressource('ressource', 1, verbose=True)\n",
    "\n",
    "# assert\n",
    "mock.get.verify(str, int, bool).times(3)\n",
    "mock.get.verify(str, int, bool).more_than(1)\n",
    "mock.get.verify(str, int, bool).more_than_or_equal_to(3)\n",
    "mock.get.verify(str, int, bool).less_than(4)\n",
    "mock.get.verify(str, int, bool).less_than_or_equal_to(3)\n",
    "mock.get.verify(str, str).never()\n",
    "\n",
    "mock.get.verify(str, AnyInt('page', 2).less_than(2), bool).times(2)"
   ]
  },
  {
   "cell_type": "markdown",
   "metadata": {},
   "source": [
    "### Setup sequences"
   ]
  },
  {
   "cell_type": "code",
   "execution_count": null,
   "metadata": {},
   "outputs": [
    {
     "name": "stdout",
     "output_type": "stream",
     "text": [
      "None\n"
     ]
    }
   ],
   "source": [
    "mock = pymoq.mocking.objects.Mock(IWeb)\n",
    "mock.get.setup('resource', int, bool).returns_sequence([1,2,3])\n",
    "\n",
    "assert mock.get('resource', 1, True)==1\n",
    "assert mock.get('resource', 2, False)==2\n",
    "assert mock.get('resource', 3, True)==3\n",
    "\n",
    "print(mock.get('ressource', 1, True))"
   ]
  },
  {
   "cell_type": "markdown",
   "metadata": {},
   "source": [
    "### Setup exceptions"
   ]
  },
  {
   "cell_type": "code",
   "execution_count": null,
   "metadata": {},
   "outputs": [],
   "source": [
    "class WebException(Exception):\n",
    "    \"\"\"Exception that describes web-access errors\"\"\""
   ]
  },
  {
   "cell_type": "code",
   "execution_count": null,
   "metadata": {},
   "outputs": [],
   "source": [
    "mock = pymoq.mocking.objects.Mock(IWeb)\n",
    "fetcher = RessourceFetcher(mock)\n",
    "\n",
    "# setup failing web call\n",
    "mock.get.setup('https://some_base.com/unavailable_ressource', int, bool).throws(WebException())\n",
    "\n",
    "# act and assert exception\n",
    "with pytest.raises(WebException):\n",
    "    fetcher.check_ressource('unavailable_ressource', 1, True)\n",
    "    \n",
    "# does not raise exception if call signature does not match\n",
    "fetcher.check_ressource('available_ressource', 1, True);"
   ]
  },
  {
   "cell_type": "markdown",
   "metadata": {},
   "source": [
    "# Things to add"
   ]
  },
  {
   "cell_type": "markdown",
   "metadata": {},
   "source": [
    "- return convenience (.returns(5))\n",
    "- documentation\n",
    "    - Validators (type_specifics, passing lambdas, passing constants, passing types)\n",
    "    - setup options (returns, throws, ...)\n",
    "    - verify options (times, more_than, ...)"
   ]
  },
  {
   "cell_type": "code",
   "execution_count": null,
   "metadata": {},
   "outputs": [],
   "source": []
  }
 ],
 "metadata": {
  "kernelspec": {
   "display_name": "Python 3 (ipykernel)",
   "language": "python",
   "name": "python3"
  }
 },
 "nbformat": 4,
 "nbformat_minor": 4
}
