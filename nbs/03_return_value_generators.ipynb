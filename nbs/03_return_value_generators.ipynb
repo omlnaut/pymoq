{
 "cells": [
  {
   "cell_type": "code",
   "execution_count": null,
   "id": "d5637a13-a610-47f9-a729-f4b6288006a1",
   "metadata": {},
   "outputs": [],
   "source": [
    "#| default_exp signature_validators"
   ]
  },
  {
   "cell_type": "code",
   "execution_count": null,
   "id": "26205c1c-9541-4eb5-92b1-28a0467a923a",
   "metadata": {},
   "outputs": [],
   "source": [
    "#| export\n",
    "from pymoq.argument_validators import ArgumentValidator, ArgumentFunctionValidator\n",
    "from typing import Any"
   ]
  },
  {
   "cell_type": "code",
   "execution_count": null,
   "id": "e6530c06-dba1-4b92-a878-56e46c9ea689",
   "metadata": {},
   "outputs": [],
   "source": [
    "#| export\n",
    "from fastcore.test import test_fail"
   ]
  },
  {
   "cell_type": "markdown",
   "id": "686a616c-0864-4bd4-9dea-7254c135c6f2",
   "metadata": {},
   "source": [
    "## Return value generators\n",
    "> Create the appropriate return values"
   ]
  },
  {
   "cell_type": "markdown",
   "id": "3eab6677-07df-46da-b9dd-4235c98fc81e",
   "metadata": {},
   "source": [
    "Once a matching signature was found, a return value generator will be used to construct the appropriate return value. In the simplest case, this might just be returning a constant value. However, the return value could be an arbitrary function evaluation and should have access to the exact arguments that were passed."
   ]
  },
  {
   "cell_type": "markdown",
   "id": "2c81aed1-7bf2-4050-8fa5-fcbecba208bb",
   "metadata": {},
   "source": [
    "# Build library"
   ]
  },
  {
   "cell_type": "code",
   "execution_count": null,
   "id": "02d18f9e-af27-4ee6-8c14-5ea1b85b0414",
   "metadata": {},
   "outputs": [],
   "source": [
    "#| hide\n",
    "import nbdev; nbdev.nbdev_export()"
   ]
  }
 ],
 "metadata": {
  "kernelspec": {
   "display_name": "Python 3 (ipykernel)",
   "language": "python",
   "name": "python3"
  }
 },
 "nbformat": 4,
 "nbformat_minor": 5
}
